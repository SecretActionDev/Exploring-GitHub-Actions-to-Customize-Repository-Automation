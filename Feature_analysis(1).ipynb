{
  "cells": [
    {
      "cell_type": "markdown",
      "metadata": {
        "id": "_REDLdepsIxc"
      },
      "source": [
        "# imports"
      ]
    },
    {
      "cell_type": "code",
      "execution_count": null,
      "metadata": {
        "colab": {
          "base_uri": "https://localhost:8080/"
        },
        "id": "mh1yoMwEEtTG",
        "outputId": "b5fd08b4-46cc-41a3-fb71-82263bb02185"
      },
      "outputs": [
        {
          "output_type": "stream",
          "name": "stdout",
          "text": [
            "Requirement already satisfied: pyvis in /usr/local/lib/python3.10/dist-packages (0.3.2)\n",
            "Requirement already satisfied: ipython>=5.3.0 in /usr/local/lib/python3.10/dist-packages (from pyvis) (7.34.0)\n",
            "Requirement already satisfied: jinja2>=2.9.6 in /usr/local/lib/python3.10/dist-packages (from pyvis) (3.1.3)\n",
            "Requirement already satisfied: jsonpickle>=1.4.1 in /usr/local/lib/python3.10/dist-packages (from pyvis) (3.0.3)\n",
            "Requirement already satisfied: networkx>=1.11 in /usr/local/lib/python3.10/dist-packages (from pyvis) (3.2.1)\n",
            "Requirement already satisfied: setuptools>=18.5 in /usr/local/lib/python3.10/dist-packages (from ipython>=5.3.0->pyvis) (67.7.2)\n",
            "Requirement already satisfied: jedi>=0.16 in /usr/local/lib/python3.10/dist-packages (from ipython>=5.3.0->pyvis) (0.19.1)\n",
            "Requirement already satisfied: decorator in /usr/local/lib/python3.10/dist-packages (from ipython>=5.3.0->pyvis) (4.4.2)\n",
            "Requirement already satisfied: pickleshare in /usr/local/lib/python3.10/dist-packages (from ipython>=5.3.0->pyvis) (0.7.5)\n",
            "Requirement already satisfied: traitlets>=4.2 in /usr/local/lib/python3.10/dist-packages (from ipython>=5.3.0->pyvis) (5.7.1)\n",
            "Requirement already satisfied: prompt-toolkit!=3.0.0,!=3.0.1,<3.1.0,>=2.0.0 in /usr/local/lib/python3.10/dist-packages (from ipython>=5.3.0->pyvis) (3.0.43)\n",
            "Requirement already satisfied: pygments in /usr/local/lib/python3.10/dist-packages (from ipython>=5.3.0->pyvis) (2.16.1)\n",
            "Requirement already satisfied: backcall in /usr/local/lib/python3.10/dist-packages (from ipython>=5.3.0->pyvis) (0.2.0)\n",
            "Requirement already satisfied: matplotlib-inline in /usr/local/lib/python3.10/dist-packages (from ipython>=5.3.0->pyvis) (0.1.6)\n",
            "Requirement already satisfied: pexpect>4.3 in /usr/local/lib/python3.10/dist-packages (from ipython>=5.3.0->pyvis) (4.9.0)\n",
            "Requirement already satisfied: MarkupSafe>=2.0 in /usr/local/lib/python3.10/dist-packages (from jinja2>=2.9.6->pyvis) (2.1.5)\n",
            "Requirement already satisfied: parso<0.9.0,>=0.8.3 in /usr/local/lib/python3.10/dist-packages (from jedi>=0.16->ipython>=5.3.0->pyvis) (0.8.3)\n",
            "Requirement already satisfied: ptyprocess>=0.5 in /usr/local/lib/python3.10/dist-packages (from pexpect>4.3->ipython>=5.3.0->pyvis) (0.7.0)\n",
            "Requirement already satisfied: wcwidth in /usr/local/lib/python3.10/dist-packages (from prompt-toolkit!=3.0.0,!=3.0.1,<3.1.0,>=2.0.0->ipython>=5.3.0->pyvis) (0.2.13)\n"
          ]
        }
      ],
      "source": [
        "pip install pyvis"
      ]
    },
    {
      "cell_type": "code",
      "execution_count": null,
      "metadata": {
        "id": "k7k6UUVMsQm5"
      },
      "outputs": [],
      "source": [
        "import pandas as pd\n",
        "from ast import literal_eval\n",
        "import networkx as nx\n",
        "import pylab as plt\n",
        "from pyvis import network as net\n",
        "from networkx.algorithms import community\n",
        "import pickle"
      ]
    },
    {
      "cell_type": "markdown",
      "metadata": {
        "id": "WkM-wrAzJstz"
      },
      "source": [
        "# AUX"
      ]
    },
    {
      "cell_type": "code",
      "execution_count": null,
      "metadata": {
        "id": "_nBRj_RCSSw7"
      },
      "outputs": [],
      "source": [
        "def FindMaxLength(lst):\n",
        "    maxList = max(lst, key = lambda i: len(i))\n",
        "    maxLength = len(maxList)\n",
        "    return maxLength\n",
        "def FindMinLength(lst):\n",
        "    maxList = min(lst, key = lambda i: len(i))\n",
        "    maxLength = len(maxList)\n",
        "    return maxLength"
      ]
    },
    {
      "cell_type": "code",
      "source": [],
      "metadata": {
        "id": "LzjVEmUFoPGa"
      },
      "execution_count": null,
      "outputs": []
    },
    {
      "cell_type": "code",
      "source": [
        "def make_pairs(lst):\n",
        "    pairs = []\n",
        "    for i in range(len(lst)):\n",
        "        for j in range(i + 1, len(lst)):\n",
        "            pairs.append([lst[i], lst[j]])\n",
        "    return pairs\n",
        "\n",
        "def check_subset(list1, list2):\n",
        "    set1 = set(list1)\n",
        "    set2 = set(list2)\n",
        "    return set1.issubset(set2)\n",
        "\n",
        "def check_value_not_in_list_of_dicts(lst, key, value):\n",
        "    for dictionary in lst:\n",
        "        if key in dictionary and dictionary[key] == value:\n",
        "            return False\n",
        "    return True\n",
        "\n",
        "def simplify_list(lst):\n",
        "    simplified = []\n",
        "    for sublist in lst:\n",
        "        found = False\n",
        "        for s in simplified:\n",
        "            if any(item in s for item in sublist):\n",
        "                s.extend(item for item in sublist if item not in s)\n",
        "                found = True\n",
        "                break\n",
        "        if not found:\n",
        "            simplified.append(sublist)\n",
        "    return simplified\n",
        "\n",
        "def extract_common_pairs(list_of_lists):\n",
        "    common_pairs = []\n",
        "    for i in range(len(list_of_lists)):\n",
        "      sub_list1 = list_of_lists[i]\n",
        "      pairs = make_pairs(sub_list1)\n",
        "      # print(pairs)\n",
        "      pair_is_repeated = False\n",
        "      for j in range(len(list_of_lists)):\n",
        "          if i != j:\n",
        "            sub_list2 = list_of_lists[j]\n",
        "            pairs2 = make_pairs(sub_list2)\n",
        "            # print(pairs2)\n",
        "            for pair in pairs:\n",
        "              if pair in pairs2:\n",
        "                pair_is_repeated = True\n",
        "                if pair not in common_pairs:\n",
        "                  common_pairs.append(pair)\n",
        "\n",
        "\n",
        "      # print(\"#######################################\")\n",
        "    return common_pairs"
      ],
      "metadata": {
        "id": "RkkMR_Z4PSYn"
      },
      "execution_count": null,
      "outputs": []
    },
    {
      "cell_type": "code",
      "execution_count": null,
      "metadata": {
        "id": "hTR7sFfPJvT-"
      },
      "outputs": [],
      "source": [
        "def get_res(path, save_vis, data_name):\n",
        "  df = pd.read_csv(path)\n",
        "  df[\"feature_list\"] = df[\"feature_list\"].apply(literal_eval)\n",
        "  print(\"There are \" + str(len(df)) +\" actions in \" + str(data_name))\n",
        "  max_num_feature = FindMaxLength(list(df[\"feature_list\"]))\n",
        "  min_num_feature = FindMinLength(list(df[\"feature_list\"]))\n",
        "  print(\"The max number of feature an action posses: \" + str(max_num_feature))\n",
        "  print(\"The min number of feature an action posses: \" + str(min_num_feature))\n",
        "  print(\"##############################\")\n",
        "  G = nx.Graph()\n",
        "  for i in range(len(df.index)):\n",
        "      action = df[\"Action Name\"][i]\n",
        "      features = df[\"feature_list\"][i]\n",
        "      G.add_node(action, label = action, shape=\"diamond\", color=\"green\")\n",
        "      for feature in features:\n",
        "          G.add_node(feature, label = feature, shape = \"triangle\" , color = \"blue\")\n",
        "          G.add_edge(action, feature, color=\"green\" )\n",
        "  print(\"Created feature network\")\n",
        "  print(\"##############################\")\n",
        "  components = [G.subgraph(c).copy() for c in nx.connected_components(G)]\n",
        "  print(\"There are \" + str(len(components)) + \" disjoint/ connected components in feature network\")\n",
        "  print(\"##############################\")\n",
        "  options = {\n",
        "    \"interaction\": {\n",
        "    \"navigationButtons\": True\n",
        "    },\n",
        "    \"stabilization\":{\n",
        "        \"enabled\": True,\n",
        "        \"iterations\": 800\n",
        "      }\n",
        "  }\n",
        "  pickle.dump(G, open(save_vis + \"/\" +data_name+\"_network1.pickle\", 'wb'))\n",
        "  G2 = net.Network(notebook=True)\n",
        "  G2.options = options\n",
        "  G2.from_nx(G)\n",
        "  G2.show(save_vis + \"/\" +data_name+\"1.html\")\n",
        "  print(\"Saved pvis visualization 1\")\n",
        "  print(\"##############################\")\n",
        "  print(\"10 most important features\")\n",
        "  degree_centrality = nx.degree_centrality(G)\n",
        "  count = 10\n",
        "  for node in sorted(degree_centrality, key=degree_centrality.get, reverse=True):\n",
        "    if count > 0:\n",
        "      print(node, degree_centrality[node])\n",
        "      count = count -1\n",
        "  print(\"##############################\")\n",
        "  print(\"distribution of degrees\")\n",
        "  degrees = [G.degree(n) for n in G.nodes()]\n",
        "  plt.hist(degrees)\n",
        "  print(\"##############################\")\n",
        "  nodes_with_degree_2_or_more = [(node, degree) for node, degree in dict(G.degree()).items() if degree >= 0]\n",
        "  df_features = pd.DataFrame(nodes_with_degree_2_or_more, columns=['Features', 'Degree'])\n",
        "  nodes_with_degree_2_or_more = [(node, degree) for node, degree in dict(G.degree()).items() if degree >= 2]\n",
        "  df_degree2 = pd.DataFrame(nodes_with_degree_2_or_more, columns=['nodes', 'Degree'])\n",
        "  is_unique = len(set(list(df_features[\"Features\"]))) ==len(list(df_features[\"Features\"]))\n",
        "  print(\"The nodes are unique: \" + str(is_unique))\n",
        "  print(\"There are \" + str(len(list(df_degree2[\"nodes\"]))) + \"  nodes with degree 2 or more\")\n",
        "  # are all node features?\n",
        "  action_names = list(df[\"Action Name\"])\n",
        "  nodes = list(df_degree2[\"nodes\"])\n",
        "  actions_with_degree2 = []; features_with_degree2 = []\n",
        "  for n in nodes:\n",
        "    if n in action_names:\n",
        "      actions_with_degree2.append(n)\n",
        "    else:\n",
        "      features_with_degree2.append(n)\n",
        "\n",
        "  if len(actions_with_degree2) != 0:\n",
        "    print(\"not all nodes are features\")\n",
        "    print(\"number of actions with degree 2 or higher:  \" + str(len(actions_with_degree2)))\n",
        "    print(\"number of features with degree 2 or higher:  \" + str(len(features_with_degree2)))\n",
        "\n",
        "  df_degree_2 = df.copy()\n",
        "  for index, row in df_degree_2.iterrows():\n",
        "      features = row['feature_list']\n",
        "      keep = False\n",
        "      for f in features_with_degree2:\n",
        "        if f in features:\n",
        "          keep  = True\n",
        "      if not keep:\n",
        "          df_degree_2 = df_degree_2.drop(index)\n",
        "  df_degree_2 = df_degree_2.reset_index(drop=True)\n",
        "  print(\"There are \" + str(len(df_degree_2)) + \" actions with features of degree 2 or higher\")\n",
        "  print(\"##############################\")\n",
        "  print(\"Adding publishers to the network\")\n",
        "  G_degree_2 = nx.Graph()\n",
        "  for i in range(len(df_degree_2.index)):\n",
        "      action = df_degree_2[\"Action Name\"][i]\n",
        "      features = df_degree_2[\"feature_list\"][i]\n",
        "      publisher = df_degree_2[\"publisher\"][i]\n",
        "      G_degree_2.add_node(action, label = action, shape=\"diamond\", color=\"green\")\n",
        "      G_degree_2.add_node(publisher, label = publisher, shape=\"dot\", color=\"red\")\n",
        "      G_degree_2.add_edge(action, publisher, color = \"red\")\n",
        "      # add features that connected to at least another action\n",
        "      for f in features:\n",
        "        feature_repeated = False\n",
        "        for j in range(len(df_degree_2.index)):\n",
        "          if i != j:\n",
        "            features2 = df_degree_2[\"feature_list\"][j]\n",
        "            if f in features2:\n",
        "              feature_repeated = True\n",
        "              break\n",
        "        if feature_repeated:\n",
        "          G_degree_2.add_node(f, label = f, shape = \"triangle\" , color = \"blue\")\n",
        "          G_degree_2.add_edge(action, f, color = \"green\")\n",
        "  print(\"Finished adding publishers\")\n",
        "  print(\"##############################\")\n",
        "  components = [G_degree_2.subgraph(c).copy() for c in nx.connected_components(G_degree_2)]\n",
        "  print(\"There are \" + str(len(components)) + \" disjoint/ connected components in feature with degree 2 or higher network\")\n",
        "  print(\"##############################\")\n",
        "  pickle.dump(G_degree_2, open(save_vis + \"/\" +data_name+\"_network2.pickle\", 'wb'))\n",
        "  G2 = net.Network(notebook=True)\n",
        "  G2.options = options\n",
        "  G2.from_nx(G_degree_2)\n",
        "  G2.show(save_vis + \"/\" +data_name+\"2.html\")\n",
        "  print(\"Saved pvis visualization 2\")\n",
        "  print(\"##############################\")\n",
        "  action_has_same_publisher = []; already_checked = []\n",
        "  for i in range(len(df_degree_2.index)):\n",
        "      action = df_degree_2[\"Action Name\"][i]\n",
        "      features = df_degree_2[\"feature_list\"][i]\n",
        "      publisher = df_degree_2[\"publisher\"][i]\n",
        "      # add features that connected to at least another action\n",
        "      for f in features:\n",
        "        feature_repeated = False\n",
        "        for j in range(len(df_degree_2.index)):\n",
        "          if i != j:\n",
        "            action2 = df_degree_2[\"Action Name\"][j]\n",
        "            features2 = df_degree_2[\"feature_list\"][j]\n",
        "            publisher2 = df_degree_2[\"publisher\"][j]\n",
        "            if f in features2 and publisher==publisher2 :\n",
        "              action_has_same_publisher.append(action)\n",
        "  df_pub = df_degree_2.copy() ; keep_actions = list(set(action_has_same_publisher))\n",
        "  for index, row in df_pub.iterrows():\n",
        "      action = row['Action Name']\n",
        "      if action not in keep_actions:\n",
        "          df_pub = df_pub.drop(index)\n",
        "  df_pub = df_pub.reset_index(drop=True)\n",
        "  print(\"There are \" + str(len(df_pub)) + \" actions with at least one common feature and publishier with other actions\")\n",
        "  print(\"##############################\")\n",
        "  print(\"Refining the publisher network\")\n",
        "  G_pub = nx.Graph()\n",
        "  for i in range(len(df_pub.index)):\n",
        "      action = df_pub[\"Action Name\"][i]\n",
        "      features = df_pub[\"feature_list\"][i]\n",
        "      publisher = df_pub[\"publisher\"][i]\n",
        "      G_pub.add_node(action, label = action, shape=\"diamond\", color=\"green\")\n",
        "      G_pub.add_node(publisher, label = publisher, shape=\"dot\", color=\"red\")\n",
        "      G_pub.add_edge(action, publisher, color = \"red\")\n",
        "      # add features that connected to at least another action\n",
        "      for f in features:\n",
        "        feature_repeated = False\n",
        "        for j in range(len(df_pub.index)):\n",
        "          if i != j:\n",
        "            features2 = df_pub[\"feature_list\"][j]\n",
        "            if f in features2:\n",
        "              feature_repeated = True\n",
        "              break\n",
        "        if feature_repeated:\n",
        "          G_pub.add_node(f, label = f, shape = \"triangle\" , color = \"blue\")\n",
        "          G_pub.add_edge(action, f, color = \"green\")\n",
        "  pickle.dump(G_pub, open(save_vis + \"/\" +data_name+\"_network3.pickle\", 'wb'))\n",
        "  print(\"##############################\")\n",
        "  components = [G_pub.subgraph(c).copy() for c in nx.connected_components(G_pub)]\n",
        "  print(\"There are \" + str(len(components)) + \" disjoint/ connected components in actions with at least one common feature and shared publisher network\")\n",
        "  print(\"##############################\")\n",
        "  G2 = net.Network(notebook=True)\n",
        "  G2.options = options\n",
        "  G2.from_nx(G_pub)\n",
        "  G2.show(save_vis + \"/\" +data_name+\"3.html\")\n",
        "  print(\"Saved pvis visualization 3\")\n",
        "  print(\"##############################\")\n",
        "\n"
      ]
    },
    {
      "cell_type": "code",
      "source": [
        "def get_res_test(path, save_vis, data_name, cat_name):\n",
        "  file_path = save_vis+\"/\"+cat_name+\"_report.txt\"\n",
        "  with open(file_path, \"w\") as f:\n",
        "    f.write(\"Category: \" + cat_name +\"\\n\")\n",
        "  df = pd.read_csv(path)\n",
        "  df[\"feature_list\"] = df[\"feature_list\"].apply(literal_eval)\n",
        "  print(\"There are \" + str(len(df)) +\" actions in \" + str(data_name))\n",
        "  max_num_feature = FindMaxLength(list(df[\"feature_list\"]))\n",
        "  min_num_feature = FindMinLength(list(df[\"feature_list\"]))\n",
        "  print(\"The max number of feature an action posses: \" + str(max_num_feature))\n",
        "  print(\"The min number of feature an action posses: \" + str(min_num_feature))\n",
        "  print(\"##############################\")\n",
        "  with open(file_path, \"a\") as f:\n",
        "    f.write(\"The max number of feature an action posses: \" + str(max_num_feature) +\"\\n\")\n",
        "    f.write(\"The min number of feature an action posses: \" + str(min_num_feature) +\"\\n\")\n",
        "  ################################################################################\n",
        "  G = nx.Graph()\n",
        "  for i in range(len(df.index)):\n",
        "      action = df[\"Action Name\"][i]\n",
        "      features = df[\"feature_list\"][i]\n",
        "      G.add_node(action, label = action, shape=\"diamond\", color=\"green\")\n",
        "      publisher = df[\"publisher\"][i]\n",
        "      G.add_node(publisher, label = publisher, shape=\"dot\", color=\"red\")\n",
        "      G.add_edge(action, publisher, color = \"red\")\n",
        "      for feature in features:\n",
        "          G.add_node(feature, label = feature, shape = \"triangle\" , color = \"blue\")\n",
        "          G.add_edge(action, feature, color=\"green\" )\n",
        "  print(\"Created feature network\")\n",
        "  print(\"##############################\")\n",
        "  components = [G.subgraph(c).copy() for c in nx.connected_components(G)]\n",
        "  print(\"There are \" + str(len(components)) + \" disjoint/ connected components in feature network\")\n",
        "  with open(file_path, \"a\") as f:\n",
        "    f.write(\"There are \" + str(len(components)) + \" disjoint/ connected components in feature network-- objectives of the category\"+\"\\n\")\n",
        "  print(\"##############################\")\n",
        "  ##################################################################################\n",
        "  options = {\n",
        "    \"interaction\": {\n",
        "    \"navigationButtons\": True\n",
        "    },\n",
        "    \"stabilization\":{\n",
        "        \"enabled\": True,\n",
        "        \"iterations\": 800\n",
        "      }\n",
        "  }\n",
        "  ##################################################################################\n",
        "#   print(\"Saving feature network + visualization\")\n",
        "#   pickle.dump(G, open(save_vis + \"/\" +data_name+\"_feature_net.pickle\", 'wb'))\n",
        "#   G2 = net.Network(notebook=True)\n",
        "#   G2.options = options\n",
        "#   G2.from_nx(G)\n",
        "#   G2.show(save_vis + \"/\" +data_name+\"_feature_net.html\")\n",
        "#   print(\"Saved pvis visualization: feature_net\")\n",
        "#   print(\"##############################\")\n",
        "  ###################################################################################\n",
        "  print(\"10 most important features\")\n",
        "  with open(file_path, \"a\") as f:\n",
        "    f.write(\"10 most important features: \" + \"\\n\")\n",
        "  degree_centrality = nx.degree_centrality(G)\n",
        "  count = 10\n",
        "  for node in sorted(degree_centrality, key=degree_centrality.get, reverse=True):\n",
        "    if count > 0:\n",
        "      print(node, degree_centrality[node])\n",
        "      with open(file_path, \"a\") as f:\n",
        "        f.write(str(count) + \". \"+ str(node) + \"|\" + str(degree_centrality[node]) +\"\\n\")\n",
        "      count = count -1\n",
        "  print(\"##############################\")\n",
        "  print(\"distribution of degrees\")\n",
        "  degrees = [G.degree(n) for n in G.nodes()]\n",
        "#   plt.hist(degrees)\n",
        "  print(\"##############################\")\n",
        "  ###################################################################################\n",
        "  all_nodes = [(node, degree) for node, degree in dict(G.degree()).items() if degree >= 0]\n",
        "  df_features = pd.DataFrame(all_nodes, columns=['Features', 'Degree'])\n",
        "  is_unique = len(set(list(df_features[\"Features\"]))) ==len(list(df_features[\"Features\"]))\n",
        "  print(\"All nodes are unique: \" + str(is_unique))\n",
        "  with open(file_path, \"a\") as f:\n",
        "    f.write(\"All nodes are unique: \" + str(is_unique) + \"\\n\")\n",
        "  ###################################################################################\n",
        "  action_names = list(df[\"Action Name\"])\n",
        "  node_with_degree_one = [(node, degree) for node, degree in dict(G.degree()).items() if degree < 2]\n",
        "  degree_1_nodes = pd.DataFrame(node_with_degree_one, columns=['nodes', 'Degree'])\n",
        "  nodes = list(degree_1_nodes[\"nodes\"])\n",
        "  actions_with_degree1 = []; feature_with_degree_1=[]\n",
        "  for n in nodes:\n",
        "    if n in action_names:\n",
        "      actions_with_degree1.append(n)\n",
        "    else:\n",
        "      feature_with_degree_1.append(n)\n",
        "  if len(actions_with_degree1) != 0:\n",
        "    print(\"number of actions with degree 1 or higher:  \" + str(len(actions_with_degree1)))\n",
        "    with open(file_path, \"a\") as f:\n",
        "      f.write(\"number of actions with degree 1 or higher (actions with only one feature):  \" + str(len(actions_with_degree1))+\"\\n\")\n",
        "    print(\"number of features with degree 1 or higher:  \" + str(len(feature_with_degree_1)))\n",
        "    with open(file_path, \"a\") as f:\n",
        "      f.write(\"number of features with degree 1 or higher(features that belong to only one action):  \" + str(len(feature_with_degree_1))+\"\\n\")\n",
        "  ###################################################################################\n",
        "  # Find atomic actions: if an actions has all feature that's in feature_with_degree_1 it means that is the only action with this feature\n",
        "  # hence it is atomic action\n",
        "  df_atomic_Actions = df.copy()\n",
        "  for index, row in df_atomic_Actions.iterrows():\n",
        "      features = row['feature_list']\n",
        "      found_unique_feature = False\n",
        "      for feature in features:\n",
        "        if feature in feature_with_degree_1:\n",
        "          found_unique_feature = True\n",
        "        else:\n",
        "          found_unique_feature = False\n",
        "          break\n",
        "      if not found_unique_feature:\n",
        "        df_atomic_Actions = df_atomic_Actions.drop(index)\n",
        "  df_atomic_Actions = df_atomic_Actions.reset_index(drop=True)\n",
        "  print(\"There are \" + str(len(df_atomic_Actions)) + \" Atomic Actions.\")\n",
        "  with open(file_path, \"a\") as f:\n",
        "    f.write(\"There are \" + str(len(df_atomic_Actions)) + \" Atomic Actions working on unique objectives.\" + \"\\n\")\n",
        "  print(\"##############################\")\n",
        "  #Add publisher to find atomic publishers\n",
        "  print(\"adding publisher to atomic network\")\n",
        "  G_degree_1 = nx.Graph()\n",
        "  for i in range(len(df_atomic_Actions.index)):\n",
        "      action = df_atomic_Actions[\"Action Name\"][i]\n",
        "      features = df_atomic_Actions[\"feature_list\"][i]\n",
        "      publisher = df_atomic_Actions[\"publisher\"][i]\n",
        "      G_degree_1.add_node(action, label = action, shape=\"diamond\", color=\"green\")\n",
        "      G_degree_1.add_node(publisher, label = publisher, shape=\"dot\", color=\"red\")\n",
        "      G_degree_1.add_edge(action, publisher, color = \"red\")\n",
        "      # add features that connected to at least another action\n",
        "      for f in features:\n",
        "          G_degree_1.add_node(f, label = f, shape = \"triangle\" , color = \"blue\")\n",
        "          G_degree_1.add_edge(action, f, color = \"green\")\n",
        "  print(\"Finished adding publishers\")\n",
        "  print(\"##############################\")\n",
        "  ###################################################################################\n",
        "#   print(\"creating pyvis\")\n",
        "#   pickle.dump(G_degree_1, open(save_vis + \"/\" +data_name+\"_atomic_publisher.pickle\", 'wb'))\n",
        "#   G2 = net.Network(notebook=True)\n",
        "#   G2.options = options\n",
        "#   G2.from_nx(G_degree_1)\n",
        "#   G2.show(save_vis + \"/\" +data_name+\"_atomic_publisher.html\")\n",
        "#   print(\"Saved pvis visualization: atomic_publisher\")\n",
        "#   print(\"##############################\")\n",
        "  ###################################################################################\n",
        "  components = [G_degree_1.subgraph(c).copy() for c in nx.connected_components(G_degree_1)]\n",
        "  print(\"There are \" + str(len(components)) + \" atomic publishers working on one or more atomic actions\")\n",
        "  with open(file_path, \"a\") as f:\n",
        "    f.write(\"There are \" + str(len(components)) + \" atomic publishers working on one or more atomic actions\" + \"\\n\")\n",
        "  print(\"##############################\")\n",
        "  ###################################################################################\n",
        "  nodes_with_degree_2_or_more = [(node, degree) for node, degree in dict(G.degree()).items() if degree >= 2]\n",
        "  df_degree2 = pd.DataFrame(nodes_with_degree_2_or_more, columns=['nodes', 'Degree'])\n",
        "  print(\"There are \" + str(len(list(df_degree2[\"nodes\"]))) + \"  nodes with degree 2 or more\")\n",
        "  with open(file_path, \"a\") as f:\n",
        "    f.write(\"There are \" + str(len(list(df_degree2[\"nodes\"]))) + \"  nodes with degree 2 or more\" + \"\\n\")\n",
        "  # are all node features?\n",
        "  nodes = list(df_degree2[\"nodes\"])\n",
        "  actions_with_degree2 = []; features_with_degree2 = []\n",
        "  for n in nodes:\n",
        "    if n in action_names:\n",
        "      actions_with_degree2.append(n)\n",
        "    else:\n",
        "      features_with_degree2.append(n)\n",
        "  if len(actions_with_degree2) != 0:\n",
        "    print(\"not all nodes are features\")\n",
        "    print(\"number of actions with degree 2 or higher:  \" + str(len(actions_with_degree2)))\n",
        "    with open(file_path, \"a\") as f:\n",
        "      f.write(\"number of actions with degree 2 or higher (actions with at least 2 features):  \" + str(len(actions_with_degree2)) +\"\\n\")\n",
        "    print(\"number of features with degree 2 or higher:  \" + str(len(features_with_degree2)))\n",
        "    with open(file_path, \"a\") as f:\n",
        "      f.write(\"number of features with degree 2 or higher (features common between at least 2 actions):  \" + str(len(features_with_degree2))+\"\\n\")\n",
        "  ###################################################################################\n",
        "  #Find composite Actions\n",
        "  df_degree_2 = df.copy()\n",
        "  for index, row in df_degree_2.iterrows():\n",
        "      features = row['feature_list']\n",
        "      keep = False\n",
        "      for f in features_with_degree2:\n",
        "        if f in features:\n",
        "          keep  = True\n",
        "          break\n",
        "      if not keep:\n",
        "          df_degree_2 = df_degree_2.drop(index)\n",
        "  df_degree_2 = df_degree_2.reset_index(drop=True)\n",
        "  print(\"There are \" + str(len(df_degree_2)) + \" actions with at least one feature of degree 2 or higher (Composite Actions)\")\n",
        "  with open(file_path, \"a\") as f:\n",
        "      f.write(\"There are \" + str(len(df_degree_2)) + \" actions with at least one feature in common with at least another actions--composite actions (features of degree 2 or higher)\" +\"\\n\")\n",
        "  print(\"##############################\")\n",
        "  print(\"Adding publishers to the network\")\n",
        "  G_degree_2 = nx.Graph()\n",
        "  for i in range(len(df_degree_2.index)):\n",
        "      action = df_degree_2[\"Action Name\"][i]\n",
        "      features = df_degree_2[\"feature_list\"][i]\n",
        "      publisher = df_degree_2[\"publisher\"][i]\n",
        "      G_degree_2.add_node(action, label = action, shape=\"diamond\", color=\"green\")\n",
        "      G_degree_2.add_node(publisher, label = publisher, shape=\"dot\", color=\"red\")\n",
        "      G_degree_2.add_edge(action, publisher, color = \"red\")\n",
        "      # add features that connected to at least another action\n",
        "      for f in features:\n",
        "          G_degree_2.add_node(f, label = f, shape = \"triangle\" , color = \"blue\")\n",
        "          G_degree_2.add_edge(action, f, color = \"green\")\n",
        "  print(\"Finished adding publishers\")\n",
        "  print(\"##############################\")\n",
        "  components = [G_degree_2.subgraph(c).copy() for c in nx.connected_components(G_degree_2)]\n",
        "  with open(file_path, \"a\") as f:\n",
        "    f.write(\"There are \" + str(len(components)) + \" objectives targeted by composite publishers\" + \"\\n\")\n",
        "  print(\"There are \" + str(len(components)) + \" objectives targeted by composite publishers\")\n",
        "  print(\"##############################\")\n",
        "  #Find number of composite publishers:\n",
        "  publisher_list = list(df[\"publisher\"]); action_list =  list(df[\"Action Name\"])\n",
        "  all = [(node, degree) for node, degree in dict(G_degree_2.degree()).items() if degree >= 0]\n",
        "  temp_degree2 = pd.DataFrame(all, columns=['nodes', 'Degree'])\n",
        "  nodes = list(temp_degree2[\"nodes\"])\n",
        "  publishers= [];\n",
        "  for n in nodes:\n",
        "    if n in publisher_list:\n",
        "      publishers.append(n)\n",
        "  with open(file_path, \"a\") as f:\n",
        "    f.write(\"There are \" + str(len(publishers)) + \" composite publishers\" + \"\\n\")\n",
        "  print(\"There are \" + str(len(publishers)) + \" composite publishers out of total \" + str(len(set(publisher_list))))\n",
        "  ###########################################################################################\n",
        "#   pickle.dump(G_degree_2, open(save_vis + \"/\" +data_name+\"_objectives_composite_publisher.pickle\", 'wb'))\n",
        "#   G2 = net.Network(notebook=True)\n",
        "#   G2.options = options\n",
        "#   G2.from_nx(G_degree_2)\n",
        "#   G2.show(save_vis + \"/\" +data_name+\"_objectives_composite_publisher.html\")\n",
        "#   print(\"Saved pvis visualization 2\")\n",
        "#   print(\"##############################\")\n",
        "  ###########################################################################\n",
        "  # Find features that happen together\n",
        "  all = [(node, degree) for node, degree in dict(G_degree_2.degree()).items() if degree >= 0] # list of tuple of node, degree\n",
        "  temp_degree2 = pd.DataFrame(all, columns=['nodes', 'Degree'])\n",
        "  nodes = list(temp_degree2[\"nodes\"]);\n",
        "  publishers= []; action_list = []; feature_list = []\n",
        "  publisher_list = list(df[\"publisher\"]); action_list_df =  list(df[\"Action Name\"])\n",
        "  for n in nodes:\n",
        "      if n in publisher_list:\n",
        "        publishers.append(n)\n",
        "      elif n in action_list_df: action_list.append(n)\n",
        "      else: feature_list.append(n)\n",
        "\n",
        "  disjoint_components = list(nx.connected_components(G_degree_2))\n",
        "  features_that_come_together = []; base_features = []\n",
        "  for component in disjoint_components:\n",
        "    subgraph = G_degree_2.subgraph(component)\n",
        "    edges = list(subgraph.edges())\n",
        "    edges_action_feature = []\n",
        "    for e in edges:\n",
        "        if e[0] not in publishers and e[1] not in publishers:\n",
        "          edges_action_feature.append(e)\n",
        "    component_action_list = []; component_feature_list=[]\n",
        "    for e in edges_action_feature:\n",
        "      if e[0] in action_list and e[0] not in component_action_list: component_action_list.append(e[0])\n",
        "      if e[1] in action_list and e[1] not in component_action_list: component_action_list.append(e[1])\n",
        "      if e[0] not in action_list and e[0] not in component_feature_list: component_feature_list.append(e[0])\n",
        "      if e[1] not in action_list and e[1] not in component_feature_list: component_feature_list.append(e[1])\n",
        "    feature_count_action_list = []; action_added=[]\n",
        "    for action in component_action_list:\n",
        "      if action not in action_added:\n",
        "        features = []\n",
        "        for e in edges_action_feature:\n",
        "          if e[0] == action and e[1] not in features:\n",
        "            features.append(e[1])\n",
        "          if e[1] == action and e[0] not in features:\n",
        "            features.append(e[0])\n",
        "        feature_count_action_list.append({\"action\": action, \"features\":features })\n",
        "        action_added.append(action)\n",
        "    # find features that come together\n",
        "    list_list_feature = [] ; Find_base_feature_list_fature = []\n",
        "    for elm in feature_count_action_list:\n",
        "        feature = elm[\"features\"]\n",
        "        list_list_feature.append(feature)\n",
        "        Find_base_feature_list_fature.extend(feature)\n",
        "\n",
        "    # find the base features of the comoponent\n",
        "    base_candicate_set_list =list(set(Find_base_feature_list_fature)); base_count_list=[]\n",
        "    for feature in base_candicate_set_list:\n",
        "      feature_count = Find_base_feature_list_fature.count(feature)\n",
        "      base_count_list.append((feature, feature_count))\n",
        "\n",
        "    num_actions = len(component_action_list);\n",
        "    for tup in base_count_list:\n",
        "      if tup[1] == num_actions and num_actions> 2 : base_features.append(tup[0])\n",
        "    # features_pair_come_together = extract_common_pairs(list_list_feature)\n",
        "\n",
        "    # print(features_pair_come_together)\n",
        "    # check if the pairs are repeated\n",
        "  #   repeated_pairs = []\n",
        "  #   for i in range(len(features_pair_come_together)):\n",
        "  #     repeat_count = 0\n",
        "  #     pair = features_pair_come_together[i]\n",
        "  #     elm11 = pair[0]; elm12 = pair[1]\n",
        "  #     for j in  range(len(features_pair_come_together)):\n",
        "  #       if i!=j:\n",
        "  #         pair2 = features_pair_come_together[j]\n",
        "  #         elm21 = pair2[0]; elm22 = pair2[1]\n",
        "  #         if elm11 == elm21 and elm12 == elm22: repeat_count +=1\n",
        "  #         if elm11 == elm22 and elm12 == elm21: repeat_count +=1\n",
        "  #     if repeat_count >= 2:\n",
        "  #       for elm in repeated_pairs:\n",
        "  #         if (elm11 != elm[0] or elm12 != elm[1]) or (elm11 != elm[1] or elm12 != elm[0]): repeated_pairs.append(pair)\n",
        "  #   # print(repeated_pairs)\n",
        "  #   consolidate_list = simplify_list(repeated_pairs)\n",
        "  #   features_that_come_together.extend(consolidate_list)\n",
        "\n",
        "  # print(\"Features that happen together in this network: \"+str(features_that_come_together))\n",
        "  # with open(file_path, \"a\", encoding=\"utf-8\") as f:\n",
        "  #   f.write(\"#####################################\\n\")\n",
        "  #   f.write(\"Features that happen together in this network: \"+str(features_that_come_together) + \"\\n\")\n",
        "  #   f.write(\"#####################################\\n\")\n",
        "  # size_counts = {}\n",
        "\n",
        "  # for sublist in features_that_come_together:\n",
        "  #     size = len(sublist)\n",
        "  #     if size in size_counts:\n",
        "  #         size_counts[size] += 1\n",
        "  #     else:\n",
        "  #         size_counts[size] = 1\n",
        "\n",
        "  # print(\"possible tuple sizes for features that happen together:\", len(size_counts))\n",
        "  # with open(file_path, \"a\") as f:\n",
        "  #   f.write(\"possible tuple sizes for features that happen together:\" + str(len(size_counts)) + \"\\n\")\n",
        "  # print(\"Different sizes and their counts:\")\n",
        "  # with open(file_path, \"a\") as f:\n",
        "  #   f.write(\"Different sizes and their counts:\" + \"\\n\")\n",
        "  # for size, count in size_counts.items():\n",
        "  #     print(\"Size:\", size, \"- Count:\", count, \"| There are \" + str(count) + \", \" + str(size)+\"-tuple feature set that happen together\")\n",
        "  #     with open(file_path, \"a\") as f:\n",
        "  #       f.write(\"There are \" + str(count) + \", \" + str(size)+\"-tuple feature set that happen together (these tuples appear more than once together)\"+\"\\n\")\n",
        "  print(\"We found \" +str( len(base_features) )+\" Basal Features: \")\n",
        "  print(base_features)\n",
        "  with open(file_path, \"a\") as f:\n",
        "        f.write(\"We found \" + str(len(base_features)) +\" Basal Features: \"+\"\\n\")\n",
        "        f.write(str(base_features)+\"\\n\")\n",
        "\n",
        "  ##############################################################################################\n"
      ],
      "metadata": {
        "id": "dH5VJk1tSeik"
      },
      "execution_count": null,
      "outputs": []
    },
    {
      "cell_type": "code",
      "source": [],
      "metadata": {
        "id": "0Efm3VSmWEEt"
      },
      "execution_count": null,
      "outputs": []
    },
    {
      "cell_type": "markdown",
      "metadata": {
        "id": "3Q9K_og1sTdJ"
      },
      "source": [
        "# Test"
      ]
    },
    {
      "cell_type": "code",
      "execution_count": null,
      "metadata": {
        "id": "vFKn3d6MsYcl"
      },
      "outputs": [],
      "source": [
        "path = \"/content/drive/MyDrive/Research/EVENTS/dataset_cleaned_add_events/API_management.csv\"\n",
        "df = pd.read_csv(path)\n",
        "len(df)"
      ]
    },
    {
      "cell_type": "code",
      "execution_count": null,
      "metadata": {
        "id": "T09Cfy43seRT"
      },
      "outputs": [],
      "source": [
        "df[\"feature_list\"] = df[\"feature_list\"].apply(literal_eval)\n",
        "\n",
        "G = nx.Graph()\n",
        "total_contributor = 0\n",
        "# df[\"contributor_count\"] = \"\"\n",
        "for i in range(len(df.index)):\n",
        "    action = df[\"Action Name\"][i]\n",
        "    contributors = df[\"feature_list\"][i]\n",
        "    G.add_node(action, label = action, shape=\"diamond\", color=\"green\")\n",
        "    for contributor in contributors:\n",
        "        G.add_node(contributor, label = contributor, color = \"red\")\n",
        "        G.add_edge(action, contributor)\n",
        "        total_contributor = total_contributor + 1\n",
        "    # df[\"contributor_count\"][i] = len(contributors)\n",
        "    # print(i)"
      ]
    },
    {
      "cell_type": "code",
      "execution_count": null,
      "metadata": {
        "id": "CH-za_dvE3ZS"
      },
      "outputs": [],
      "source": [
        "options = {\n",
        "    \"interaction\": {\n",
        "    \"navigationButtons\": True\n",
        "    }\n",
        "}"
      ]
    },
    {
      "cell_type": "code",
      "execution_count": null,
      "metadata": {
        "id": "9In7i8yCuwz_"
      },
      "outputs": [],
      "source": [
        "G2 = net.Network(notebook=True)\n",
        "G2.options = options\n",
        "G2.from_nx(G)\n",
        "G2.show(\"/content/drive/MyDrive/Research/images/API_man_network.html\")"
      ]
    },
    {
      "cell_type": "markdown",
      "metadata": {
        "id": "kImABrL6CBXP"
      },
      "source": [
        "## Degree Centrality"
      ]
    },
    {
      "cell_type": "markdown",
      "metadata": {
        "id": "uAMI0Ne6TmHG"
      },
      "source": [
        "### Most popular functionalities"
      ]
    },
    {
      "cell_type": "code",
      "execution_count": null,
      "metadata": {
        "id": "_4vNf9L4CXp6"
      },
      "outputs": [],
      "source": [
        "degree_centrality = nx.degree_centrality(G)\n",
        "count = 10\n",
        "for node in sorted(degree_centrality, key=degree_centrality.get, reverse=True):\n",
        "  if count > 0:\n",
        "    print(node, degree_centrality[node])\n",
        "    count = count -1"
      ]
    },
    {
      "cell_type": "code",
      "execution_count": null,
      "metadata": {
        "id": "6UigeTThDsPc"
      },
      "outputs": [],
      "source": [
        "degrees = [G.degree(n) for n in G.nodes()]\n",
        "plt.hist(degrees)"
      ]
    },
    {
      "cell_type": "markdown",
      "metadata": {
        "id": "7jEZZBq4EfIh"
      },
      "source": [
        "The degree centrality of a node is the number of edges it has. The higher the degree, the more central the node is. This can be an effective measure, since many nodes with high degrees also have high centrality by other measures.\n",
        "\n",
        "We can see that majority of our network has degree of 1 however there are few that have higher degree."
      ]
    },
    {
      "cell_type": "code",
      "execution_count": null,
      "metadata": {
        "id": "QHeqSQfR5rhw"
      },
      "outputs": [],
      "source": [
        "nodes_with_degree_2_or_more = [(node, degree) for node, degree in dict(G.degree()).items() if degree >= 0]\n",
        "\n",
        "# Convert the list of tuples to a DataFrame\n",
        "df_features = pd.DataFrame(nodes_with_degree_2_or_more, columns=['Features', 'Degree'])\n",
        "len(df_features)"
      ]
    },
    {
      "cell_type": "code",
      "execution_count": null,
      "metadata": {
        "id": "FYteHdX52M7I"
      },
      "outputs": [],
      "source": [
        "nodes_with_degree_2_or_more = [(node, degree) for node, degree in dict(G.degree()).items() if degree >= 2]\n",
        "\n",
        "# Convert the list of tuples to a DataFrame\n",
        "df_degree2 = pd.DataFrame(nodes_with_degree_2_or_more, columns=['nodes', 'Degree'])"
      ]
    },
    {
      "cell_type": "code",
      "execution_count": null,
      "metadata": {
        "id": "eFSxUK0T9fnN"
      },
      "outputs": [],
      "source": [
        "is_unique = len(set(list(df_features[\"Features\"]))) ==len(list(df_features[\"Features\"]))\n",
        "\n",
        "print(\"The nodes are unique: \" + str(is_unique))\n",
        "print(\"There are \" + str(len(list(df_features[\"Features\"]))) + \"  nodes with degree 2 or more\")"
      ]
    },
    {
      "cell_type": "code",
      "execution_count": null,
      "metadata": {
        "id": "fnqQX40b3v85"
      },
      "outputs": [],
      "source": [
        "# are all node features?\n",
        "action_names = list(df[\"Action Name\"])\n",
        "nodes = list(df_degree2[\"nodes\"])\n",
        "actions_with_degree2 = []; features_with_degree2 = []\n",
        "for n in nodes:\n",
        "  if n in action_names:\n",
        "    actions_with_degree2.append(n)\n",
        "  else:\n",
        "    features_with_degree2.append(n)\n",
        "\n",
        "if len(actions_with_degree2) != 0:\n",
        "  print(\"not all nodes are features\")\n",
        "  print(\"number of actions with degree 2 or higher:  \" + str(len(actions_with_degree2)))\n",
        "  print(\"number of features with degree 2 or higher:  \" + str(len(features_with_degree2)))\n"
      ]
    },
    {
      "cell_type": "code",
      "execution_count": null,
      "metadata": {
        "id": "81RoMVRr9kWi"
      },
      "outputs": [],
      "source": [
        "df_degree_2 = df.copy()\n",
        "for index, row in df_degree_2.iterrows():\n",
        "    features = row['feature_list']\n",
        "    keep = False\n",
        "    for f in features_with_degree2:\n",
        "      if f in features:\n",
        "        keep  = True\n",
        "    if not keep:\n",
        "        df_degree_2 = df_degree_2.drop(index)\n",
        "df_degree_2 = df_degree_2.reset_index(drop=True)\n",
        "print(\"There are \" + str(len(df_degree_2)) + \" actions with features of degree 2 or higher\")"
      ]
    },
    {
      "cell_type": "code",
      "execution_count": null,
      "metadata": {
        "id": "ZoG6Zs_IACe2"
      },
      "outputs": [],
      "source": [
        "df_degree_2.head()"
      ]
    },
    {
      "cell_type": "markdown",
      "metadata": {
        "id": "sXeQ9yJoOKHZ"
      },
      "source": [
        "### Features + Publisher"
      ]
    },
    {
      "cell_type": "code",
      "execution_count": null,
      "metadata": {
        "id": "R4ysE_5P-60W"
      },
      "outputs": [],
      "source": [
        "G_degree_2 = nx.Graph()\n",
        "for i in range(len(df_degree_2.index)):\n",
        "    action = df_degree_2[\"Action Name\"][i]\n",
        "    features = df_degree_2[\"feature_list\"][i]\n",
        "    publisher = df_degree_2[\"publisher\"][i]\n",
        "    G_degree_2.add_node(action, label = action, shape=\"diamond\", color=\"green\")\n",
        "    G_degree_2.add_node(publisher, label = publisher, shape=\"dot\", color=\"red\")\n",
        "    G_degree_2.add_edge(action, publisher, color = \"red\")\n",
        "    # add features that connected to at least another action\n",
        "    for f in features:\n",
        "      feature_repeated = False\n",
        "      for j in range(len(df_degree_2.index)):\n",
        "        if i != j:\n",
        "          features2 = df_degree_2[\"feature_list\"][j]\n",
        "          if f in features2:\n",
        "            feature_repeated = True\n",
        "            break\n",
        "      if feature_repeated:\n",
        "        G_degree_2.add_node(f, label = f, shape = \"triangle\" , color = \"blue\")\n",
        "        G_degree_2.add_edge(action, f, color = \"blue\")\n",
        "\n"
      ]
    },
    {
      "cell_type": "code",
      "execution_count": null,
      "metadata": {
        "id": "tZaqd3m3BI7z"
      },
      "outputs": [],
      "source": [
        "G2 = net.Network(notebook=True, directed= True)\n",
        "G2.options = options\n",
        "G2.from_nx(G_degree_2)\n",
        "G2.show(\"/content/drive/MyDrive/Research/images/API_man_network_publisher.html\")"
      ]
    },
    {
      "cell_type": "code",
      "execution_count": null,
      "metadata": {
        "id": "Unxu_catNPxD"
      },
      "outputs": [],
      "source": [
        "nx.is_connected(G_degree_2)"
      ]
    },
    {
      "cell_type": "markdown",
      "metadata": {
        "id": "6fqUswxbOYCA"
      },
      "source": [
        "### Extracting subgraphs"
      ]
    },
    {
      "cell_type": "code",
      "execution_count": null,
      "metadata": {
        "id": "Uj6LDYG4Qmav"
      },
      "outputs": [],
      "source": [
        "action_list = list(df_degree_2[\"Action Name\"])\n",
        "features_list = []\n",
        "publisher_list = list(df_degree_2[\"publisher\"])\n",
        "\n",
        "for f in list(df_degree_2[\"feature_list\"]):\n",
        "  features_list.extend(f)"
      ]
    },
    {
      "cell_type": "code",
      "execution_count": null,
      "metadata": {
        "id": "vJQMAWbKO98_"
      },
      "outputs": [],
      "source": [
        "stat = []\n",
        "sub_graphs = nx.connected_components(G_degree_2)\n",
        "for component in sub_graphs:\n",
        "    actions = []; publishers = []; features = []\n",
        "    for elm in component:\n",
        "      if elm in action_list: actions.append(elm)\n",
        "      if elm in features_list: features.append(elm)\n",
        "      if elm in publisher_list: publishers.append(elm)\n",
        "    res = {\"action\": len(actions),\n",
        "           \"publishers\": len(actions),\n",
        "           \"features\": len(features)}\n",
        "    stat.append(res)\n",
        "\n",
        "stat"
      ]
    },
    {
      "cell_type": "code",
      "execution_count": null,
      "metadata": {
        "id": "gA39_3-MUHmG"
      },
      "outputs": [],
      "source": [
        "sum = 0\n",
        "for s in stat:\n",
        "  sum += s['action']\n",
        "\n",
        "sum"
      ]
    },
    {
      "cell_type": "markdown",
      "metadata": {
        "id": "3iAEtuNbTO-K"
      },
      "source": [
        "### How many actions among 83 that share at least one feature have same publishers"
      ]
    },
    {
      "cell_type": "code",
      "execution_count": null,
      "metadata": {
        "id": "rMhy8LR-UEVf"
      },
      "outputs": [],
      "source": [
        "df_degree_2.head(100) # listerner are empty\n",
        "# df_degree_2[df_degree_2[\"IDSymbol_events\"] != \"[]\"]"
      ]
    },
    {
      "cell_type": "code",
      "execution_count": null,
      "metadata": {
        "id": "JBJjmWtlVsb6"
      },
      "outputs": [],
      "source": [
        "action_has_same_publisher = []; already_checked = []\n",
        "for i in range(len(df_degree_2.index)):\n",
        "    action = df_degree_2[\"Action Name\"][i]\n",
        "    features = df_degree_2[\"feature_list\"][i]\n",
        "    publisher = df_degree_2[\"publisher\"][i]\n",
        "    # add features that connected to at least another action\n",
        "    for f in features:\n",
        "      feature_repeated = False\n",
        "      for j in range(len(df_degree_2.index)):\n",
        "        if i != j:\n",
        "          action2 = df_degree_2[\"Action Name\"][j]\n",
        "          features2 = df_degree_2[\"feature_list\"][j]\n",
        "          publisher2 = df_degree_2[\"publisher\"][j]\n",
        "          if f in features2 and publisher==publisher2 :\n",
        "            action_has_same_publisher.append(action)\n",
        "\n",
        "len(set(action_has_same_publisher))\n"
      ]
    },
    {
      "cell_type": "code",
      "execution_count": null,
      "metadata": {
        "id": "Tz9FJK65Xnw8"
      },
      "outputs": [],
      "source": [
        "df_pub = df_degree_2.copy() ; keep_actions = list(set(action_has_same_publisher))\n",
        "for index, row in df_pub.iterrows():\n",
        "    action = row['Action Name']\n",
        "    if action not in keep_actions:\n",
        "        df_pub = df_pub.drop(index)\n",
        "df_pub = df_pub.reset_index(drop=True)\n",
        "print(\"There are \" + str(len(df_pub)) + \" actions with at least one common feature and publishier with other actions\")"
      ]
    },
    {
      "cell_type": "code",
      "execution_count": null,
      "metadata": {
        "id": "Oy79iWngYk6x"
      },
      "outputs": [],
      "source": [
        "G_pub = nx.Graph()\n",
        "for i in range(len(df_pub.index)):\n",
        "    action = df_pub[\"Action Name\"][i]\n",
        "    features = df_pub[\"feature_list\"][i]\n",
        "    publisher = df_pub[\"publisher\"][i]\n",
        "    G_pub.add_node(action, label = action, shape=\"diamond\", color=\"green\")\n",
        "    G_pub.add_node(publisher, label = publisher, shape=\"dot\", color=\"red\")\n",
        "    G_pub.add_edge(action, publisher, color = \"red\")\n",
        "    # add features that connected to at least another action\n",
        "    for f in features:\n",
        "      feature_repeated = False\n",
        "      for j in range(len(df_pub.index)):\n",
        "        if i != j:\n",
        "          features2 = df_pub[\"feature_list\"][j]\n",
        "          if f in features2:\n",
        "            feature_repeated = True\n",
        "            break\n",
        "      if feature_repeated:\n",
        "        G_pub.add_node(f, label = f, shape = \"triangle\" , color = \"blue\")\n",
        "        G_pub.add_edge(action, f, color = \"blue\")\n",
        "\n"
      ]
    },
    {
      "cell_type": "code",
      "execution_count": null,
      "metadata": {
        "id": "mZmMHUplY2ow"
      },
      "outputs": [],
      "source": [
        "G2 = net.Network(notebook=True, directed= True)\n",
        "G2.options = options\n",
        "G2.from_nx(G_pub)\n",
        "G2.show(\"/content/drive/MyDrive/Research/images/API_man_network_publisher2.html\")"
      ]
    },
    {
      "cell_type": "markdown",
      "metadata": {
        "id": "v1ShPbNiE8CI"
      },
      "source": [
        "## clustering coefficient"
      ]
    },
    {
      "cell_type": "code",
      "execution_count": null,
      "metadata": {
        "id": "sd-ePKAiGK8R"
      },
      "outputs": [],
      "source": [
        "clustering_coefficient = nx.clustering(G)\n",
        "print(clustering_coefficient)"
      ]
    },
    {
      "cell_type": "code",
      "execution_count": null,
      "metadata": {
        "id": "ayBNPemEGXrp"
      },
      "outputs": [],
      "source": [
        "count = 10\n",
        "for node in sorted(clustering_coefficient, key=clustering_coefficient.get, reverse=True):\n",
        "  if count > 0:\n",
        "    print(node, clustering_coefficient[node])\n",
        "    count = count -1"
      ]
    },
    {
      "cell_type": "code",
      "execution_count": null,
      "metadata": {
        "id": "apIOK9VpGrC9"
      },
      "outputs": [],
      "source": [
        "communities = list(community.greedy_modularity_communities(G))\n",
        "print(len(communities))"
      ]
    },
    {
      "cell_type": "markdown",
      "metadata": {
        "id": "TGqiHqQqG6ya"
      },
      "source": [
        "## bipartite"
      ]
    },
    {
      "cell_type": "code",
      "execution_count": null,
      "metadata": {
        "id": "TUTS0wKEH44l"
      },
      "outputs": [],
      "source": [
        "from networkx.algorithms import bipartite\n",
        "nx.is_bipartite(G)"
      ]
    },
    {
      "cell_type": "code",
      "execution_count": null,
      "metadata": {
        "id": "YhwiIv1ZH82m"
      },
      "outputs": [],
      "source": [
        "nx.is_connected(G)"
      ]
    },
    {
      "cell_type": "code",
      "execution_count": null,
      "metadata": {
        "id": "StJGv63LHU-G"
      },
      "outputs": [],
      "source": []
    },
    {
      "cell_type": "code",
      "execution_count": null,
      "metadata": {
        "id": "nLCP6J_5Qh-V"
      },
      "outputs": [],
      "source": []
    },
    {
      "cell_type": "markdown",
      "metadata": {
        "id": "KCW8nlK3Qf43"
      },
      "source": [
        "#  API mangement"
      ]
    },
    {
      "cell_type": "markdown",
      "source": [
        "## version 1"
      ],
      "metadata": {
        "id": "Wdbu-Fyua71W"
      }
    },
    {
      "cell_type": "code",
      "execution_count": null,
      "metadata": {
        "colab": {
          "base_uri": "https://localhost:8080/",
          "height": 1000
        },
        "id": "G92RRkC0QkvK",
        "outputId": "64295e9c-f737-4207-a8f3-1cd2267318e0"
      },
      "outputs": [
        {
          "output_type": "stream",
          "name": "stdout",
          "text": [
            "There are 383 actions in API_Management\n",
            "The max number of feature an action posses: 20\n",
            "The min number of feature an action posses: 1\n",
            "##############################\n",
            "Created feature network\n",
            "##############################\n",
            "There are 275 disjoint/ connected components in feature network\n",
            "##############################\n",
            "Warning: When  cdn_resources is 'local' jupyter notebook has issues displaying graphics on chrome/safari. Use cdn_resources='in_line' or cdn_resources='remote' if you have issues viewing graphics in a notebook.\n",
            "/content/drive/MyDrive/Research/images/API_management/API_Management1.html\n",
            "Saved pvis visualization 1\n",
            "##############################\n",
            "10 most important features\n",
            "API Guidelines linter - beta 0.004985044865403788\n",
            "Speech to Text OpenAI Whisper 0.004985044865403788\n",
            "Setup specmatic environment 0.004985044865403788\n",
            "octodns-sync_ 0.004735792622133599\n",
            "OPTIMADE validator 0.004735792622133599\n",
            "crowdin-request-action 0.004735792622133599\n",
            "Traffic to Badge 0.004735792622133599\n",
            "oction-create-deployment-status 0.004486540378863409\n",
            "ServiceNow DevOps Change Update 0.004486540378863409\n",
            "Silverstripe Cloud Dashboard API Service 0.004486540378863409\n",
            "##############################\n",
            "distribution of degrees\n",
            "##############################\n",
            "The nodes are unique: True\n",
            "There are 621  nodes with degree 2 or more\n",
            "not all nodes are features\n",
            "number of actions with degree 2 or higher:  378\n",
            "number of features with degree 2 or higher:  243\n",
            "There are 148 actions with features of degree 2 or higher\n",
            "##############################\n",
            "Adding publishers to the network\n",
            "Finished adding publishers\n",
            "##############################\n",
            "There are 35 disjoint/ connected components in feature with degree 2 or higher network\n",
            "##############################\n",
            "Warning: When  cdn_resources is 'local' jupyter notebook has issues displaying graphics on chrome/safari. Use cdn_resources='in_line' or cdn_resources='remote' if you have issues viewing graphics in a notebook.\n",
            "/content/drive/MyDrive/Research/images/API_management/API_Management2.html\n",
            "Saved pvis visualization 2\n",
            "##############################\n",
            "There are 65 actions with at least one common feature and publishier with other actions\n",
            "##############################\n",
            "Refining the publisher network\n",
            "##############################\n",
            "There are 19 disjoint/ connected components in actions with at least one common feature and shared publisher network\n",
            "##############################\n",
            "Warning: When  cdn_resources is 'local' jupyter notebook has issues displaying graphics on chrome/safari. Use cdn_resources='in_line' or cdn_resources='remote' if you have issues viewing graphics in a notebook.\n",
            "/content/drive/MyDrive/Research/images/API_management/API_Management3.html\n",
            "Saved pvis visualization 3\n",
            "##############################\n"
          ]
        },
        {
          "output_type": "display_data",
          "data": {
            "text/plain": [
              "<Figure size 640x480 with 1 Axes>"
            ],
            "image/png": "[encoded data removed]"
          },
          "metadata": {}
        }
      ],
      "source": [
        "path = \"/content/drive/MyDrive/Research/EVENTS/dataset_with_features/API_management.csv\"\n",
        "save_vis = \"/content/drive/MyDrive/Research/images/API_management\"\n",
        "data_name = \"API_Management\"\n",
        "get_res(path, save_vis, data_name)"
      ]
    },
    {
      "cell_type": "markdown",
      "source": [
        "## Version2"
      ],
      "metadata": {
        "id": "pFko-Djoa-NJ"
      }
    },
    {
      "cell_type": "code",
      "source": [
        "path = \"/content/drive/MyDrive/Research/EVENTS/dataset_with_features/API_management.csv\"\n",
        "save_vis = \"/content/drive/MyDrive/Research/images/API_management/version2\"\n",
        "data_name = \"API_Management\"\n",
        "get_res_test(path, save_vis, data_name, data_name)"
      ],
      "metadata": {
        "colab": {
          "base_uri": "https://localhost:8080/"
        },
        "id": "8Jlt4iriSgeH",
        "outputId": "6c94a94e-c325-4d90-f11d-c6459fccd62d"
      },
      "execution_count": null,
      "outputs": [
        {
          "output_type": "stream",
          "name": "stdout",
          "text": [
            "There are 383 actions in API_Management\n",
            "The max number of feature an action posses: 20\n",
            "The min number of feature an action posses: 1\n",
            "##############################\n",
            "Created feature network\n",
            "##############################\n",
            "There are 248 disjoint/ connected components in feature network\n",
            "##############################\n",
            "10 most important features\n",
            "API Guidelines linter - beta 0.0048543689320388345\n",
            "Speech to Text OpenAI Whisper 0.0048543689320388345\n",
            "Setup specmatic environment 0.0048543689320388345\n",
            "octodns-sync_ 0.004623208506703652\n",
            "OPTIMADE validator 0.004623208506703652\n",
            "crowdin-request-action 0.004623208506703652\n",
            "Traffic to Badge 0.004623208506703652\n",
            "oction-create-deployment-status 0.004392048081368469\n",
            "ServiceNow DevOps Change Update 0.004392048081368469\n",
            "Silverstripe Cloud Dashboard API Service 0.004392048081368469\n",
            "##############################\n",
            "distribution of degrees\n",
            "##############################\n",
            "All nodes are unique: True\n",
            "There are 235 Atomic Actions.\n",
            "##############################\n",
            "adding publisher to atomic network\n",
            "Finished adding publishers\n",
            "##############################\n",
            "There are 222 atomic publishers working on one or more atomic actions\n",
            "##############################\n",
            "There are 663  nodes with degree 2 or more\n",
            "not all nodes are features\n",
            "number of actions with degree 2 or higher:  383\n",
            "number of features with degree 2 or higher:  280\n",
            "There are 148 actions with at least one feature of degree 2 or higher (Composite Actions)\n",
            "##############################\n",
            "Adding publishers to the network\n",
            "Finished adding publishers\n",
            "##############################\n",
            "There are 35 objectives targeted by composite publishers\n",
            "##############################\n",
            "There are 101 composite publishers out of total 314\n",
            "We found 7 Basal Features: \n",
            "['cluster wish connect', 'yaml file validate', 'httpsleanpubcomyourbook book slug', 'book slug yourbook', 'leanpub api key', 'slug part url', 'json string data']\n"
          ]
        }
      ]
    },
    {
      "cell_type": "markdown",
      "metadata": {
        "id": "nb3W69thQqFL"
      },
      "source": [
        "# CI"
      ]
    },
    {
      "cell_type": "markdown",
      "source": [
        "## version1"
      ],
      "metadata": {
        "id": "-ygqSnpv1-QT"
      }
    },
    {
      "cell_type": "code",
      "execution_count": null,
      "metadata": {
        "id": "uee8K_FYQsfh",
        "colab": {
          "base_uri": "https://localhost:8080/",
          "height": 1000
        },
        "outputId": "a2b1785f-3c91-4294-9ca2-e008a672f8eb"
      },
      "outputs": [
        {
          "output_type": "stream",
          "name": "stdout",
          "text": [
            "There are 6904 actions in CI\n",
            "The max number of feature an action posses: 20\n",
            "The min number of feature an action posses: 0\n",
            "##############################\n",
            "Created feature network\n",
            "##############################\n",
            "There are 2459 disjoint/ connected components in feature network\n",
            "##############################\n",
            "Warning: When  cdn_resources is 'local' jupyter notebook has issues displaying graphics on chrome/safari. Use cdn_resources='in_line' or cdn_resources='remote' if you have issues viewing graphics in a notebook.\n",
            "/content/drive/MyDrive/Research/images/CI/CI1.html\n",
            "Saved pvis visualization 1\n",
            "##############################\n",
            "10 most important features\n",
            "personal access token 0.0018443893366398016\n",
            "comma separated list 0.001379417234965902\n",
            "access key id 0.0009454432734035958\n",
            "base sixty-four encoded 0.0008834469931804092\n",
            "secret access key 0.0008524488530688159\n",
            "github action workflow 0.0007749535027898327\n",
            "github access token 0.0007284562926224426\n",
            " one hundred 0.0006819590824550527\n",
            "pull request number 0.0006199628022318661\n",
            " two hundred 0.0005889646621202728\n",
            "##############################\n",
            "distribution of degrees\n",
            "##############################\n",
            "The nodes are unique: True\n",
            "There are 13885  nodes with degree 2 or more\n",
            "not all nodes are features\n",
            "number of actions with degree 2 or higher:  6814\n",
            "number of features with degree 2 or higher:  7071\n",
            "There are 4809 actions with features of degree 2 or higher\n",
            "##############################\n",
            "Adding publishers to the network\n",
            "Finished adding publishers\n",
            "##############################\n",
            "There are 234 disjoint/ connected components in feature with degree 2 or higher network\n",
            "##############################\n",
            "Warning: When  cdn_resources is 'local' jupyter notebook has issues displaying graphics on chrome/safari. Use cdn_resources='in_line' or cdn_resources='remote' if you have issues viewing graphics in a notebook.\n",
            "/content/drive/MyDrive/Research/images/CI/CI2.html\n",
            "Saved pvis visualization 2\n",
            "##############################\n",
            "There are 999 actions with at least one common feature and publishier with other actions\n",
            "##############################\n",
            "Refining the publisher network\n",
            "##############################\n",
            "There are 191 disjoint/ connected components in actions with at least one common feature and shared publisher network\n",
            "##############################\n",
            "Warning: When  cdn_resources is 'local' jupyter notebook has issues displaying graphics on chrome/safari. Use cdn_resources='in_line' or cdn_resources='remote' if you have issues viewing graphics in a notebook.\n",
            "/content/drive/MyDrive/Research/images/CI/CI3.html\n",
            "Saved pvis visualization 3\n",
            "##############################\n"
          ]
        },
        {
          "output_type": "display_data",
          "data": {
            "text/plain": [
              "<Figure size 640x480 with 1 Axes>"
            ],
            "image/png": "[encoded data removed]"
          },
          "metadata": {}
        }
      ],
      "source": [
        "path = \"/content/drive/MyDrive/Research/EVENTS/dataset_with_features/Continuous_integration.csv\"\n",
        "save_vis = \"/content/drive/MyDrive/Research/images/CI\"\n",
        "data_name = \"CI\"\n",
        "get_res(path, save_vis, data_name)"
      ]
    },
    {
      "cell_type": "markdown",
      "source": [
        "## Version2"
      ],
      "metadata": {
        "id": "R5XdRO3l2BYY"
      }
    },
    {
      "cell_type": "code",
      "source": [
        "path = \"/content/drive/MyDrive/Research/EVENTS/dataset_with_features/Continuous_integration.csv\"\n",
        "save_vis = \"/content/drive/MyDrive/Research/images/CI/version2\"\n",
        "data_name = \"CI\"\n",
        "get_res_test(path, save_vis, data_name, data_name)"
      ],
      "metadata": {
        "colab": {
          "base_uri": "https://localhost:8080/"
        },
        "id": "ht1KJ3rOWz2e",
        "outputId": "5325f7b9-e8e8-4c79-9202-e6b605b77ed4"
      },
      "execution_count": null,
      "outputs": [
        {
          "output_type": "stream",
          "name": "stdout",
          "text": [
            "There are 6904 actions in CI\n",
            "The max number of feature an action posses: 20\n",
            "The min number of feature an action posses: 0\n",
            "##############################\n",
            "Created feature network\n",
            "##############################\n",
            "There are 1756 disjoint/ connected components in feature network\n",
            "##############################\n",
            "10 most important features\n",
            "personal access token 0.0017089352902317835\n",
            "comma separated list 0.001278111267484275\n",
            "access key id 0.0008760088462532671\n",
            "base sixty-four encoded 0.0008185656432202659\n",
            "secret access key 0.0007898440417037655\n",
            "github action workflow 0.000718040037912514\n",
            "github access token 0.0006749576356377632\n",
            " one hundred 0.0006318752333630123\n",
            "pull request number 0.0005744320303300112\n",
            " two hundred 0.0005457104288135107\n",
            "##############################\n",
            "distribution of degrees\n",
            "##############################\n",
            "All nodes are unique: True\n",
            "number of actions with degree 1 or higher:  28\n",
            "number of features with degree 1 or higher:  54752\n",
            "There are 2066 Atomic Actions.\n",
            "##############################\n",
            "adding publisher to atomic network\n",
            "Finished adding publishers\n",
            "##############################\n",
            "There are 1852 atomic publishers working on one or more atomic actions\n",
            "##############################\n",
            "There are 14855  nodes with degree 2 or more\n",
            "not all nodes are features\n",
            "number of actions with degree 2 or higher:  6876\n",
            "number of features with degree 2 or higher:  7979\n",
            "There are 4809 actions with at least one feature of degree 2 or higher (Composite Actions)\n",
            "##############################\n",
            "Adding publishers to the network\n",
            "Finished adding publishers\n",
            "##############################\n",
            "There are 234 objectives targeted by composite publishers\n",
            "##############################\n",
            "There are 3610 composite publishers out of total 5132\n",
            "We found 111 Basal Features: \n",
            "['v two hundred', 'github action automate', 'securely install latest', 'single select field', 'token org permission', 'supplied single select', 'select field id', 'panel url ex', 'url ex httpscaptainrootdomaincom', 'every push new', 'nombre del artefacto', 'use postgresdb name', 'postgresdb name default', 'created postgresuser create', 'create specified user', 'postgresuser create specified', 'docker container meannwe', 'siteymln testing playbook', 'testing playbook give', 'testn testing playbook', 'sorryn testing playbook', 'testing playbook tell', 'file directory contains', 'user influxdb instance', 'running influxdb instance', 'password influxdb instance', 'influxdb instance false', 'influxdb instance initial', 'bucket influxdb instance', 'organization influxdb instance', 'command execute using', 'common lisp implementation', 'github action validate', 'x five hundred', 'five hundred nine', 'dns configuration multiple', 'dnscontrol credential file', 'path dnscontrol credential', 'configuration multiple pullrequestoviders', 'pullrequestoviders dnscontrol command', 'dnscontrol command executed', 'deploy dns configuration', 'list file committed', 'branch refn sha', 'create verified commits', 'containing file committed', 'must already exist', 'refn sha created', 'file committed relative', 'root repositoryn base', 'relative root repositoryn', '给模板repository打tag，默认是当前repository github仓库的访问权限token 当前的类型是parse还是stringify', '打tag以及tag解析 给模板repository打tag，默认是当前repository github仓库的访问权限token', 'close url related', 'throw error determines', 'failed deployment throw', 'set failed deployment', 'deployment throw error', 'every pull request', 'commaseparated list package', 'gradle path override', 'site github page', 'swap environment variable', 'compiles swap environment', 'classification regression output', 'regression output action', 'creates release based', 'release based keyword', 'api key keep', 'keep secret pullrequestoduct', 'key keep secret', 'username readwrite permission', 'readwrite permission helm', 'password readwrite permission', 'api base url', 'version sdl two', 'download sdl two', 'window using msvc', 'using msvc version', 'saved sdl two', 'downloaded sdl two', 'classification output action', 'location configuration build', 'container pullrequestoject folder', 'linux container pullrequestoject', 'pullrequestoject linux container', 'pullrequestoject folder location', 'folder location configuration', 'use specifies location', 'specifies location resource', 'enable additional debug', 'path definition notebook', 'using definition notebook', 'version pacletcicd use', 'pacletcicd use specifies', 'location resource system', 'definition notebook file', 'setup pullrequestoblem matcher', 'connect database password', 'minified file saved', 'main script runcompile', 'quickjs qjs qjsc', 'qjs qjsc main', 'qjsc main script', 'githubref input supplied', 'current githubref input', 'generally publicly visible', 'release generally publicly', 'release created marked', 'may absolute relative', 'absolute relative githubworkspace']\n"
          ]
        }
      ]
    },
    {
      "cell_type": "markdown",
      "metadata": {
        "id": "G5WroFtsHjTz"
      },
      "source": [
        "# Chat"
      ]
    },
    {
      "cell_type": "markdown",
      "source": [
        "## version 1"
      ],
      "metadata": {
        "id": "nH_HlEezccR1"
      }
    },
    {
      "cell_type": "code",
      "execution_count": null,
      "metadata": {
        "id": "sOX96anwTj-o",
        "colab": {
          "base_uri": "https://localhost:8080/",
          "height": 1000
        },
        "outputId": "67e0969d-9a90-4967-fbe0-dd3f0db0670e"
      },
      "outputs": [
        {
          "output_type": "stream",
          "name": "stdout",
          "text": [
            "There are 384 actions in Chat\n",
            "The max number of feature an action posses: 20\n",
            "The min number of feature an action posses: 0\n",
            "##############################\n",
            "Created feature network\n",
            "##############################\n",
            "There are 194 disjoint/ connected components in feature network\n",
            "##############################\n",
            "Warning: When  cdn_resources is 'local' jupyter notebook has issues displaying graphics on chrome/safari. Use cdn_resources='in_line' or cdn_resources='remote' if you have issues viewing graphics in a notebook.\n",
            "/content/drive/MyDrive/Research/images/chat/Chat1.html\n",
            "Saved pvis visualization 1\n",
            "##############################\n",
            "10 most important features\n",
            "Slack workflow start/finish messaging 0.005496015388843089\n",
            "Wecom Notification Action 0.005496015388843089\n",
            "Speech to Text OpenAI Whisper 0.005496015388843089\n",
            "Smart Telegram Action 0.005221214619400934\n",
            "Twilio SMS 0.00494641384995878\n",
            "Discord Reporter 0.00494641384995878\n",
            "PR Monitor 0.00494641384995878\n",
            "Composite Discord Webhooks 0.00494641384995878\n",
            "Send Tweet v2 0.00494641384995878\n",
            "Guestbook Workflow 0.00494641384995878\n",
            "##############################\n",
            "distribution of degrees\n",
            "##############################\n",
            "The nodes are unique: True\n",
            "There are 720  nodes with degree 2 or more\n",
            "not all nodes are features\n",
            "number of actions with degree 2 or higher:  379\n",
            "number of features with degree 2 or higher:  341\n",
            "There are 219 actions with features of degree 2 or higher\n",
            "##############################\n",
            "Adding publishers to the network\n",
            "Finished adding publishers\n",
            "##############################\n",
            "There are 26 disjoint/ connected components in feature with degree 2 or higher network\n",
            "##############################\n",
            "Warning: When  cdn_resources is 'local' jupyter notebook has issues displaying graphics on chrome/safari. Use cdn_resources='in_line' or cdn_resources='remote' if you have issues viewing graphics in a notebook.\n",
            "/content/drive/MyDrive/Research/images/chat/Chat2.html\n",
            "Saved pvis visualization 2\n",
            "##############################\n",
            "There are 16 actions with at least one common feature and publishier with other actions\n",
            "##############################\n",
            "Refining the publisher network\n",
            "##############################\n",
            "There are 7 disjoint/ connected components in actions with at least one common feature and shared publisher network\n",
            "##############################\n",
            "Warning: When  cdn_resources is 'local' jupyter notebook has issues displaying graphics on chrome/safari. Use cdn_resources='in_line' or cdn_resources='remote' if you have issues viewing graphics in a notebook.\n",
            "/content/drive/MyDrive/Research/images/chat/Chat3.html\n",
            "Saved pvis visualization 3\n",
            "##############################\n"
          ]
        },
        {
          "output_type": "display_data",
          "data": {
            "text/plain": [
              "<Figure size 640x480 with 1 Axes>"
            ],
            "image/png": "[encoded data removed]"
          },
          "metadata": {}
        }
      ],
      "source": [
        "path = \"/content/drive/MyDrive/Research/EVENTS/dataset_with_features/Chat.csv\"\n",
        "save_vis = \"/content/drive/MyDrive/Research/images/chat\"\n",
        "data_name = \"Chat\"\n",
        "get_res(path, save_vis, data_name)"
      ]
    },
    {
      "cell_type": "markdown",
      "source": [
        "## version 2"
      ],
      "metadata": {
        "id": "2tprP_2mcegj"
      }
    },
    {
      "cell_type": "code",
      "source": [
        "path = \"/content/drive/MyDrive/Research/EVENTS/dataset_with_features/Chat.csv\"\n",
        "save_vis = \"/content/drive/MyDrive/Research/images/chat/version2\"\n",
        "data_name = \"Chat\"\n",
        "get_res_test(path, save_vis, data_name, data_name)"
      ],
      "metadata": {
        "colab": {
          "base_uri": "https://localhost:8080/"
        },
        "id": "1uYE6dHvXr92",
        "outputId": "2edbfdde-c9c8-47f7-a133-90ee3a842fd2"
      },
      "execution_count": null,
      "outputs": [
        {
          "output_type": "stream",
          "name": "stdout",
          "text": [
            "There are 384 actions in Chat\n",
            "The max number of feature an action posses: 20\n",
            "The min number of feature an action posses: 0\n",
            "##############################\n",
            "Created feature network\n",
            "##############################\n",
            "There are 178 disjoint/ connected components in feature network\n",
            "##############################\n",
            "10 most important features\n",
            "Slack workflow start/finish messaging 0.005255255255255255\n",
            "Wecom Notification Action 0.005255255255255255\n",
            "Speech to Text OpenAI Whisper 0.005255255255255255\n",
            "Smart Telegram Action 0.005005005005005005\n",
            "Twilio SMS 0.004754754754754755\n",
            "Discord Reporter 0.004754754754754755\n",
            "PR Monitor 0.004754754754754755\n",
            "Composite Discord Webhooks 0.004754754754754755\n",
            "Send Tweet v2 0.004754754754754755\n",
            "Guestbook Workflow 0.004754754754754755\n",
            "##############################\n",
            "distribution of degrees\n",
            "##############################\n",
            "All nodes are unique: True\n",
            "number of actions with degree 1 or higher:  2\n",
            "number of features with degree 1 or higher:  3254\n",
            "There are 163 Atomic Actions.\n",
            "##############################\n",
            "adding publisher to atomic network\n",
            "Finished adding publishers\n",
            "##############################\n",
            "There are 158 atomic publishers working on one or more atomic actions\n",
            "##############################\n",
            "There are 741  nodes with degree 2 or more\n",
            "not all nodes are features\n",
            "number of actions with degree 2 or higher:  382\n",
            "number of features with degree 2 or higher:  359\n",
            "There are 219 actions with at least one feature of degree 2 or higher (Composite Actions)\n",
            "##############################\n",
            "Adding publishers to the network\n",
            "Finished adding publishers\n",
            "##############################\n",
            "There are 26 objectives targeted by composite publishers\n",
            "##############################\n",
            "There are 205 composite publishers out of total 357\n",
            "We found 8 Basal Features: \n",
            "['action send notification', 'send notification slack', 'github action notify', 'greet someone record', 'someone record time', 'pullrequestivate message specified', 'trigger pullrequestivate message', 'message specified whatsapp']\n"
          ]
        }
      ]
    },
    {
      "cell_type": "markdown",
      "metadata": {
        "id": "EhOXhXvUWJh8"
      },
      "source": [
        "# code quality"
      ]
    },
    {
      "cell_type": "markdown",
      "source": [
        "## version 1"
      ],
      "metadata": {
        "id": "X6suvzghYcnt"
      }
    },
    {
      "cell_type": "code",
      "execution_count": null,
      "metadata": {
        "id": "MDkOVrIDWL8f",
        "colab": {
          "base_uri": "https://localhost:8080/",
          "height": 1000
        },
        "outputId": "0da6bfae-c96e-4e2a-e96b-7e5817d3ee53"
      },
      "outputs": [
        {
          "output_type": "stream",
          "name": "stdout",
          "text": [
            "There are 1709 actions in code_quality\n",
            "The max number of feature an action posses: 20\n",
            "The min number of feature an action posses: 0\n",
            "##############################\n",
            "Created feature network\n",
            "##############################\n",
            "There are 810 disjoint/ connected components in feature network\n",
            "##############################\n",
            "Warning: When  cdn_resources is 'local' jupyter notebook has issues displaying graphics on chrome/safari. Use cdn_resources='in_line' or cdn_resources='remote' if you have issues viewing graphics in a notebook.\n",
            "/content/drive/MyDrive/Research/images/code_quality/code_quality1.html\n",
            "Saved pvis visualization 1\n",
            "##############################\n",
            "10 most important features\n",
            "found truefalsendefault falsen 0.0036734435366394323\n",
            "error found truefalsendefault 0.0035467730698587625\n",
            "pull request impullrequestove 0.003420102603078092\n",
            "review experience githubtoken 0.0030400912027360822\n",
            "addeddiffcontextfilenofilterndefault addedn exit 0.002976755969345747\n",
            "truefalsendefault falsen additional 0.0021533979352713916\n",
            "githubtoken report level 0.001963392235100386\n",
            "comma separated list 0.0015200456013680411\n",
            "tool name use 0.001456710367977706\n",
            "comment pull request 0.0013933751345873708\n",
            "##############################\n",
            "distribution of degrees\n",
            "##############################\n",
            "The nodes are unique: True\n",
            "There are 3225  nodes with degree 2 or more\n",
            "not all nodes are features\n",
            "number of actions with degree 2 or higher:  1676\n",
            "number of features with degree 2 or higher:  1549\n",
            "There are 1025 actions with features of degree 2 or higher\n",
            "##############################\n",
            "Adding publishers to the network\n",
            "Finished adding publishers\n",
            "##############################\n",
            "There are 96 disjoint/ connected components in feature with degree 2 or higher network\n",
            "##############################\n",
            "Warning: When  cdn_resources is 'local' jupyter notebook has issues displaying graphics on chrome/safari. Use cdn_resources='in_line' or cdn_resources='remote' if you have issues viewing graphics in a notebook.\n",
            "/content/drive/MyDrive/Research/images/code_quality/code_quality2.html\n",
            "Saved pvis visualization 2\n",
            "##############################\n",
            "There are 215 actions with at least one common feature and publishier with other actions\n",
            "##############################\n",
            "Refining the publisher network\n",
            "##############################\n",
            "There are 53 disjoint/ connected components in actions with at least one common feature and shared publisher network\n",
            "##############################\n",
            "Warning: When  cdn_resources is 'local' jupyter notebook has issues displaying graphics on chrome/safari. Use cdn_resources='in_line' or cdn_resources='remote' if you have issues viewing graphics in a notebook.\n",
            "/content/drive/MyDrive/Research/images/code_quality/code_quality3.html\n",
            "Saved pvis visualization 3\n",
            "##############################\n"
          ]
        },
        {
          "output_type": "display_data",
          "data": {
            "text/plain": [
              "<Figure size 640x480 with 1 Axes>"
            ],
            "image/png": "[encoded data removed]"
          },
          "metadata": {}
        }
      ],
      "source": [
        "path = \"/content/drive/MyDrive/Research/EVENTS/dataset_with_features/Code_quality.csv\"\n",
        "save_vis = \"/content/drive/MyDrive/Research/images/code_quality\"\n",
        "data_name = \"code_quality\"\n",
        "get_res(path, save_vis, data_name)"
      ]
    },
    {
      "cell_type": "markdown",
      "source": [
        "## version 2"
      ],
      "metadata": {
        "id": "d_OW4FXRYfqV"
      }
    },
    {
      "cell_type": "code",
      "source": [
        "path = \"/content/drive/MyDrive/Research/EVENTS/dataset_with_features/Code_quality.csv\"\n",
        "save_vis = \"/content/drive/MyDrive/Research/images/code_quality/version2\"\n",
        "data_name = \"code_quality\"\n",
        "get_res_test(path, save_vis, data_name, data_name)"
      ],
      "metadata": {
        "colab": {
          "base_uri": "https://localhost:8080/"
        },
        "id": "-WTX8T9YX2cW",
        "outputId": "e091dfb5-6a9f-4589-8694-47aae1af297f"
      },
      "execution_count": null,
      "outputs": [
        {
          "output_type": "stream",
          "name": "stdout",
          "text": [
            "There are 1709 actions in code_quality\n",
            "The max number of feature an action posses: 20\n",
            "The min number of feature an action posses: 0\n",
            "##############################\n",
            "Created feature network\n",
            "##############################\n",
            "There are 670 disjoint/ connected components in feature network\n",
            "##############################\n",
            "10 most important features\n",
            "found truefalsendefault falsen 0.0033762151463996738\n",
            "error found truefalsendefault 0.0032597939344548577\n",
            "pull request impullrequestove 0.003143372722510041\n",
            "review experience githubtoken 0.0027941090866755924\n",
            "addeddiffcontextfilenofilterndefault addedn exit 0.002735898480703184\n",
            "truefalsendefault falsen additional 0.001979160603061878\n",
            "githubtoken report level 0.0018045287851446532\n",
            "reviewdog 0.0016881075731998369\n",
            "comma separated list 0.0013970545433377962\n",
            "tool name use 0.001338843937365388\n",
            "##############################\n",
            "distribution of degrees\n",
            "##############################\n",
            "All nodes are unique: True\n",
            "number of actions with degree 1 or higher:  7\n",
            "number of features with degree 1 or higher:  13745\n",
            "There are 677 Atomic Actions.\n",
            "##############################\n",
            "adding publisher to atomic network\n",
            "Finished adding publishers\n",
            "##############################\n",
            "There are 634 atomic publishers working on one or more atomic actions\n",
            "##############################\n",
            "There are 3428  nodes with degree 2 or more\n",
            "not all nodes are features\n",
            "number of actions with degree 2 or higher:  1702\n",
            "number of features with degree 2 or higher:  1726\n",
            "There are 1025 actions with at least one feature of degree 2 or higher (Composite Actions)\n",
            "##############################\n",
            "Adding publishers to the network\n",
            "Finished adding publishers\n",
            "##############################\n",
            "There are 96 objectives targeted by composite publishers\n",
            "##############################\n",
            "There are 822 composite publishers out of total 1396\n",
            "We found 71 Basal Features: \n",
            "['simplecov generated resultsetjson', 'file path base', 'path head branch', 'path base branch', 'creates comment pullrequest', 'branch github generated', 'comment pullrequest comparing', 'file path head', 'resultsetjson file path', 'generated resultsetjson file', 'branch simplecov generated', 'pullrequest comparing two', 'sonarqube pullrequestoject name', 'file repo default', 'repo default see', 'name filesdirectories check', 'filesdirectories check spacedelimited', 'list relative path', 'greet someone record', 'someone record time', 'github authentication token', 'pullrequestincipal needed authenticate', 'authenticate tenant client', 'deploy needed authenticate', 'authenticate tenant subscription', 'needed authenticate tenant', 'check source code', 'enforce swift style', 'tool enforce swift', 'swift style convention', 'path relative root', 'githubtoken secret path', 'github token secret', 'command line argument', 'testn testing playbook', 'docker container path', 'docker container meannwe', 'sorryn testing playbook', 'testing playbook tell', 'siteymln testing playbook', 'testing playbook give', 'nuget feed download', 'additional nuget feed', 'build deploys source', 'feed push package', 'nuget feed local', 'cache additional nuget', 'package additional nuget', 'public nuget feed', 'download package additional', 'nuget feed cache', 'package nuget feed', 'root deploy zipped', 'configure nuget feed', 'package root deploy', 'feed nuget feed', 'nuget feed public', 'feed download package', 'nuget feed additional', 'nuget feed push', 'action update add', 'github action automated', 'option pas toxhttpstoxreadthedocsioenlatest', 'pas toxhttpstoxreadthedocsioenlatest example', 'pas moleculehttpsmoleculereadthedocsioenlatest example', 'parallel command pas', 'test ansible role', 'example parallel command', 'pullrequestoblem matcher look', 'attache pullrequestoblem matcher', 'matcher look error']\n"
          ]
        }
      ]
    },
    {
      "cell_type": "markdown",
      "metadata": {
        "id": "00KpHb9oo1Au"
      },
      "source": [
        "# Code review"
      ]
    },
    {
      "cell_type": "markdown",
      "source": [
        "## version 1"
      ],
      "metadata": {
        "id": "0QlrdPZQY0K8"
      }
    },
    {
      "cell_type": "code",
      "execution_count": null,
      "metadata": {
        "id": "1yEgFUqlpjtK",
        "colab": {
          "base_uri": "https://localhost:8080/",
          "height": 1000
        },
        "outputId": "163752a1-28cf-426d-ad0c-321dbbb5e497"
      },
      "outputs": [
        {
          "output_type": "stream",
          "name": "stdout",
          "text": [
            "There are 1473 actions in code_review\n",
            "The max number of feature an action posses: 20\n",
            "The min number of feature an action posses: 0\n",
            "##############################\n",
            "Created feature network\n",
            "##############################\n",
            "There are 615 disjoint/ connected components in feature network\n",
            "##############################\n",
            "Warning: When  cdn_resources is 'local' jupyter notebook has issues displaying graphics on chrome/safari. Use cdn_resources='in_line' or cdn_resources='remote' if you have issues viewing graphics in a notebook.\n",
            "/content/drive/MyDrive/Research/images/code_review/code_review1.html\n",
            "Saved pvis visualization 1\n",
            "##############################\n",
            "10 most important features\n",
            "found truefalsendefault falsen 0.004034328467688697\n",
            "pull request impullrequestove 0.004034328467688697\n",
            "error found truefalsendefault 0.0038876256143181988\n",
            "review experience githubtoken 0.0035208684808919538\n",
            "addeddiffcontextfilenofilterndefault addedn exit 0.0033741656275214555\n",
            "truefalsendefault falsen additional 0.002567299933983716\n",
            "githubtoken report level 0.002200542800557471\n",
            "comment pull request 0.002053839947186973\n",
            "pull request github 0.001980488520501724\n",
            "tool name use 0.001980488520501724\n",
            "##############################\n",
            "distribution of degrees\n",
            "##############################\n",
            "The nodes are unique: True\n",
            "There are 2619  nodes with degree 2 or more\n",
            "not all nodes are features\n",
            "number of actions with degree 2 or higher:  1454\n",
            "number of features with degree 2 or higher:  1165\n",
            "There are 931 actions with features of degree 2 or higher\n",
            "##############################\n",
            "Adding publishers to the network\n",
            "Finished adding publishers\n",
            "##############################\n",
            "There are 60 disjoint/ connected components in feature with degree 2 or higher network\n",
            "##############################\n",
            "Warning: When  cdn_resources is 'local' jupyter notebook has issues displaying graphics on chrome/safari. Use cdn_resources='in_line' or cdn_resources='remote' if you have issues viewing graphics in a notebook.\n",
            "/content/drive/MyDrive/Research/images/code_review/code_review2.html\n",
            "Saved pvis visualization 2\n",
            "##############################\n",
            "There are 125 actions with at least one common feature and publishier with other actions\n",
            "##############################\n",
            "Refining the publisher network\n",
            "##############################\n",
            "There are 29 disjoint/ connected components in actions with at least one common feature and shared publisher network\n",
            "##############################\n",
            "Warning: When  cdn_resources is 'local' jupyter notebook has issues displaying graphics on chrome/safari. Use cdn_resources='in_line' or cdn_resources='remote' if you have issues viewing graphics in a notebook.\n",
            "/content/drive/MyDrive/Research/images/code_review/code_review3.html\n",
            "Saved pvis visualization 3\n",
            "##############################\n"
          ]
        },
        {
          "output_type": "display_data",
          "data": {
            "text/plain": [
              "<Figure size 640x480 with 1 Axes>"
            ],
            "image/png": "[encoded data removed]"
          },
          "metadata": {}
        }
      ],
      "source": [
        "path = \"/content/drive/MyDrive/Research/EVENTS/dataset_with_features/Code_review.csv\"\n",
        "save_vis = \"/content/drive/MyDrive/Research/images/code_review\"\n",
        "data_name = \"code_review\"\n",
        "get_res(path, save_vis, data_name)"
      ]
    },
    {
      "cell_type": "markdown",
      "source": [
        "## version 2"
      ],
      "metadata": {
        "id": "JqPGCXCqY3E1"
      }
    },
    {
      "cell_type": "code",
      "source": [
        "path = \"/content/drive/MyDrive/Research/EVENTS/dataset_with_features/Code_review.csv\"\n",
        "save_vis = \"/content/drive/MyDrive/Research/images/code_review/version2\"\n",
        "data_name = \"code_review\"\n",
        "get_res_test(path, save_vis, data_name, data_name)"
      ],
      "metadata": {
        "colab": {
          "base_uri": "https://localhost:8080/"
        },
        "id": "9ICLNzI6Y4qV",
        "outputId": "78a9a8a5-fe24-4632-ba14-fc3d4c55638c"
      },
      "execution_count": null,
      "outputs": [
        {
          "output_type": "stream",
          "name": "stdout",
          "text": [
            "There are 1473 actions in code_review\n",
            "The max number of feature an action posses: 20\n",
            "The min number of feature an action posses: 0\n",
            "##############################\n",
            "Created feature network\n",
            "##############################\n",
            "There are 533 disjoint/ connected components in feature network\n",
            "##############################\n",
            "10 most important features\n",
            "found truefalsendefault falsen 0.003690036900369004\n",
            "pull request impullrequestove 0.003690036900369004\n",
            "error found truefalsendefault 0.0035558537403555857\n",
            "review experience githubtoken 0.00322039584032204\n",
            "addeddiffcontextfilenofilterndefault addedn exit 0.0030862126803086216\n",
            "truefalsendefault falsen additional 0.002348205300234821\n",
            "githubtoken report level 0.002012747400201275\n",
            "reviewdog 0.0019456558201945658\n",
            "comment pull request 0.0018785642401878567\n",
            "pull request github 0.0018114726601811473\n",
            "##############################\n",
            "distribution of degrees\n",
            "##############################\n",
            "All nodes are unique: True\n",
            "number of actions with degree 1 or higher:  5\n",
            "number of features with degree 1 or higher:  12151\n",
            "There are 537 Atomic Actions.\n",
            "##############################\n",
            "adding publisher to atomic network\n",
            "Finished adding publishers\n",
            "##############################\n",
            "There are 511 atomic publishers working on one or more atomic actions\n",
            "##############################\n",
            "There are 2750  nodes with degree 2 or more\n",
            "not all nodes are features\n",
            "number of actions with degree 2 or higher:  1468\n",
            "number of features with degree 2 or higher:  1282\n",
            "There are 931 actions with at least one feature of degree 2 or higher (Composite Actions)\n",
            "##############################\n",
            "Adding publishers to the network\n",
            "Finished adding publishers\n",
            "##############################\n",
            "There are 60 objectives targeted by composite publishers\n",
            "##############################\n",
            "There are 802 composite publishers out of total 1275\n",
            "We found 27 Basal Features: \n",
            "['setup pullrequestoblem matcher', 'run set specified', 'emoji reaction put', 'word pullrequest description', 'look pullrequest description', 'later step know', 'pullrequest description comment', 'know whether run', 'set specified emoji', 'must match start', 'pullrequests github token', 'output command fail', 'string terminating fail', 'pullrequestoxy server password', 'pullrequestoxy server port', 'use optional pullrequestoxy', 'result action success', 'terminating fail pas', 'pullrequestoxy server user', 'action string terminating', 'result action string', 'optional pullrequestoxy server', 'annotation file code', 'error annotation file', 'code line github', 'file code line', 'line github action']\n"
          ]
        }
      ]
    },
    {
      "cell_type": "markdown",
      "metadata": {
        "id": "5QGPzsNQ1Kuc"
      },
      "source": [
        "# dependency manger"
      ]
    },
    {
      "cell_type": "markdown",
      "source": [
        "## version 1"
      ],
      "metadata": {
        "id": "bsGAVv1GeVyJ"
      }
    },
    {
      "cell_type": "code",
      "execution_count": null,
      "metadata": {
        "id": "VlqsYU_s1NVS",
        "colab": {
          "base_uri": "https://localhost:8080/",
          "height": 1000
        },
        "outputId": "0dea67b3-dad9-48be-82e8-a71d09a3ab35"
      },
      "outputs": [
        {
          "output_type": "stream",
          "name": "stdout",
          "text": [
            "There are 961 actions in Dependecy_management\n",
            "The max number of feature an action posses: 20\n",
            "The min number of feature an action posses: 0\n",
            "##############################\n",
            "Created feature network\n",
            "##############################\n",
            "There are 543 disjoint/ connected components in feature network\n",
            "##############################\n",
            "Warning: When  cdn_resources is 'local' jupyter notebook has issues displaying graphics on chrome/safari. Use cdn_resources='in_line' or cdn_resources='remote' if you have issues viewing graphics in a notebook.\n",
            "/content/drive/MyDrive/Research/images/Dependecy_management/Dependecy_management1.html\n",
            "Saved pvis visualization 1\n",
            "##############################\n",
            "10 most important features\n",
            "personal access token 0.002932551319648094\n",
            "Setup Poetry environment 0.0020946795140343527\n",
            "Snowfall Thaw 0.0020946795140343527\n",
            "license-compliance 0.0020946795140343527\n",
            "Nix Quick Install (devholic/test) 0.0020946795140343527\n",
            "Nix Quick Install 0.0020946795140343527\n",
            "codenotary immutable ledger 0.0020946795140343527\n",
            "us vcn tool 0.0020946795140343527\n",
            "vcn tool codenotarycom 0.0020946795140343527\n",
            "bill material bom 0.0020946795140343527\n",
            "##############################\n",
            "distribution of degrees\n",
            "##############################\n",
            "The nodes are unique: True\n",
            "There are 1644  nodes with degree 2 or more\n",
            "not all nodes are features\n",
            "number of actions with degree 2 or higher:  953\n",
            "number of features with degree 2 or higher:  691\n",
            "There are 496 actions with features of degree 2 or higher\n",
            "##############################\n",
            "Adding publishers to the network\n",
            "Finished adding publishers\n",
            "##############################\n",
            "There are 67 disjoint/ connected components in feature with degree 2 or higher network\n",
            "##############################\n",
            "Warning: When  cdn_resources is 'local' jupyter notebook has issues displaying graphics on chrome/safari. Use cdn_resources='in_line' or cdn_resources='remote' if you have issues viewing graphics in a notebook.\n",
            "/content/drive/MyDrive/Research/images/Dependecy_management/Dependecy_management2.html\n",
            "Saved pvis visualization 2\n",
            "##############################\n",
            "There are 95 actions with at least one common feature and publishier with other actions\n",
            "##############################\n",
            "Refining the publisher network\n",
            "##############################\n",
            "There are 26 disjoint/ connected components in actions with at least one common feature and shared publisher network\n",
            "##############################\n",
            "Warning: When  cdn_resources is 'local' jupyter notebook has issues displaying graphics on chrome/safari. Use cdn_resources='in_line' or cdn_resources='remote' if you have issues viewing graphics in a notebook.\n",
            "/content/drive/MyDrive/Research/images/Dependecy_management/Dependecy_management3.html\n",
            "Saved pvis visualization 3\n",
            "##############################\n"
          ]
        },
        {
          "output_type": "display_data",
          "data": {
            "text/plain": [
              "<Figure size 640x480 with 1 Axes>"
            ],
            "image/png": "[encoded data removed]"
          },
          "metadata": {}
        }
      ],
      "source": [
        "path = \"/content/drive/MyDrive/Research/EVENTS/dataset_with_features/Dependency_management.csv\"\n",
        "save_vis = \"/content/drive/MyDrive/Research/images/Dependecy_management\"\n",
        "data_name = \"Dependecy_management\"\n",
        "get_res(path, save_vis, data_name)"
      ]
    },
    {
      "cell_type": "markdown",
      "source": [
        "## version2"
      ],
      "metadata": {
        "id": "goB-MZYRea-0"
      }
    },
    {
      "cell_type": "code",
      "source": [
        "path = \"/content/drive/MyDrive/Research/EVENTS/dataset_with_features/Dependency_management.csv\"\n",
        "save_vis = \"/content/drive/MyDrive/Research/images/Dependecy_management/version2\"\n",
        "data_name = \"Dependecy_management\"\n",
        "get_res_test(path, save_vis, data_name, data_name)"
      ],
      "metadata": {
        "colab": {
          "base_uri": "https://localhost:8080/"
        },
        "id": "1QV-66PMebgG",
        "outputId": "27963e25-df4f-4fdf-f886-175317f17c69"
      },
      "execution_count": null,
      "outputs": [
        {
          "output_type": "stream",
          "name": "stdout",
          "text": [
            "There are 961 actions in Dependecy_management\n",
            "The max number of feature an action posses: 20\n",
            "The min number of feature an action posses: 0\n",
            "##############################\n",
            "Created feature network\n",
            "##############################\n",
            "There are 478 disjoint/ connected components in feature network\n",
            "##############################\n",
            "10 most important features\n",
            "personal access token 0.002700617283950617\n",
            "Setup Poetry environment 0.002025462962962963\n",
            "codenotary 0.002025462962962963\n",
            "Snowfall Thaw 0.002025462962962963\n",
            "license-compliance 0.002025462962962963\n",
            "Nix Quick Install (devholic/test) 0.002025462962962963\n",
            "Nix Quick Install 0.002025462962962963\n",
            "Install PHP Dependencies with Composer 0.002025462962962963\n",
            "Setup Cpp (C++ / C) 0.002025462962962963\n",
            "Compile Minecraft Spigot (via BuildTools) 0.002025462962962963\n",
            "##############################\n",
            "distribution of degrees\n",
            "##############################\n",
            "All nodes are unique: True\n",
            "number of actions with degree 1 or higher:  1\n",
            "number of features with degree 1 or higher:  8633\n",
            "There are 464 Atomic Actions.\n",
            "##############################\n",
            "adding publisher to atomic network\n",
            "Finished adding publishers\n",
            "##############################\n",
            "There are 436 atomic publishers working on one or more atomic actions\n",
            "##############################\n",
            "There are 1735  nodes with degree 2 or more\n",
            "not all nodes are features\n",
            "number of actions with degree 2 or higher:  960\n",
            "number of features with degree 2 or higher:  775\n",
            "There are 496 actions with at least one feature of degree 2 or higher (Composite Actions)\n",
            "##############################\n",
            "Adding publishers to the network\n",
            "Finished adding publishers\n",
            "##############################\n",
            "There are 67 objectives targeted by composite publishers\n",
            "##############################\n",
            "There are 414 composite publishers out of total 825\n",
            "We found 27 Basal Features: \n",
            "['version sdl two', 'github action validate', 'github action setup', 'new package version', 'list package install', 'look packagejson file', 'look packagejson subfolders', 'action look packagejson', 'j rust py', 'detected version increment', 'py t token', 't token used', 'version increment extra', 'agnostic action automatically', 'eg go j', 'send pull request', 'rust py t', 'go j rust', 'language agnostic action', 'token used send', 'command update dependency', 'used send pull', 'vulkan sdk release', 'additional argument pas', 'github action execute', 'part github workflow', 'relative repo root']\n"
          ]
        }
      ]
    },
    {
      "cell_type": "markdown",
      "metadata": {
        "id": "cTRC8dOw1U4J"
      },
      "source": [
        "# deployment"
      ]
    },
    {
      "cell_type": "markdown",
      "source": [
        "## version1"
      ],
      "metadata": {
        "id": "qhzC5hYg2Vya"
      }
    },
    {
      "cell_type": "code",
      "execution_count": null,
      "metadata": {
        "id": "k5gnTiaz1ari",
        "colab": {
          "base_uri": "https://localhost:8080/",
          "height": 1000
        },
        "outputId": "ecdb8041-ab74-4a28-c648-8988306066e5"
      },
      "outputs": [
        {
          "output_type": "stream",
          "name": "stdout",
          "text": [
            "There are 4027 actions in Deployment\n",
            "The max number of feature an action posses: 20\n",
            "The min number of feature an action posses: 0\n",
            "##############################\n",
            "Created feature network\n",
            "##############################\n",
            "There are 1406 disjoint/ connected components in feature network\n",
            "##############################\n",
            "Warning: When  cdn_resources is 'local' jupyter notebook has issues displaying graphics on chrome/safari. Use cdn_resources='in_line' or cdn_resources='remote' if you have issues viewing graphics in a notebook.\n",
            "/content/drive/MyDrive/Research/images/Deployment/Deployment1.html\n",
            "Saved pvis visualization 1\n",
            "##############################\n",
            "10 most important features\n",
            "utf sixteen utf 0.0016734594725903533\n",
            "access key id 0.00164646819077438\n",
            "unlock paid capability 0.00164646819077438\n",
            "personal access token 0.00164646819077438\n",
            "secret access key 0.0015924856271424329\n",
            "sixteen utf sixteen 0.0015924856271424329\n",
            "capability get free 0.0015924856271424329\n",
            "get free trial 0.0015654943453264594\n",
            "paid capability get 0.0015654943453264594\n",
            "throw exception missing 0.0015654943453264594\n",
            "##############################\n",
            "distribution of degrees\n",
            "##############################\n",
            "The nodes are unique: True\n",
            "There are 8201  nodes with degree 2 or more\n",
            "not all nodes are features\n",
            "number of actions with degree 2 or higher:  3989\n",
            "number of features with degree 2 or higher:  4212\n",
            "There are 2822 actions with features of degree 2 or higher\n",
            "##############################\n",
            "Adding publishers to the network\n",
            "Finished adding publishers\n",
            "##############################\n",
            "There are 137 disjoint/ connected components in feature with degree 2 or higher network\n",
            "##############################\n",
            "Warning: When  cdn_resources is 'local' jupyter notebook has issues displaying graphics on chrome/safari. Use cdn_resources='in_line' or cdn_resources='remote' if you have issues viewing graphics in a notebook.\n",
            "/content/drive/MyDrive/Research/images/Deployment/Deployment2.html\n",
            "Saved pvis visualization 2\n",
            "##############################\n",
            "There are 510 actions with at least one common feature and publishier with other actions\n",
            "##############################\n",
            "Refining the publisher network\n",
            "##############################\n",
            "There are 98 disjoint/ connected components in actions with at least one common feature and shared publisher network\n",
            "##############################\n",
            "Warning: When  cdn_resources is 'local' jupyter notebook has issues displaying graphics on chrome/safari. Use cdn_resources='in_line' or cdn_resources='remote' if you have issues viewing graphics in a notebook.\n",
            "/content/drive/MyDrive/Research/images/Deployment/Deployment3.html\n",
            "Saved pvis visualization 3\n",
            "##############################\n"
          ]
        },
        {
          "output_type": "display_data",
          "data": {
            "text/plain": [
              "<Figure size 640x480 with 1 Axes>"
            ],
            "image/png": "[encoded data removed]"
          },
          "metadata": {}
        }
      ],
      "source": [
        "path = \"/content/drive/MyDrive/Research/EVENTS/dataset_with_features/Deployment.csv\"\n",
        "save_vis = \"/content/drive/MyDrive/Research/images/Deployment\"\n",
        "data_name = \"Deployment\"\n",
        "get_res(path, save_vis, data_name)"
      ]
    },
    {
      "cell_type": "markdown",
      "source": [
        "## version 2"
      ],
      "metadata": {
        "id": "7IM1p8Wa2ZPA"
      }
    },
    {
      "cell_type": "code",
      "source": [
        "path = \"/content/drive/MyDrive/Research/EVENTS/dataset_with_features/Deployment.csv\"\n",
        "save_vis = \"/content/drive/MyDrive/Research/images/Deployment/version2\"\n",
        "data_name = \"Deployment\"\n",
        "get_res_test(path, save_vis, data_name, \"Deployment\")"
      ],
      "metadata": {
        "colab": {
          "base_uri": "https://localhost:8080/"
        },
        "id": "SaTU29Fl6NoH",
        "outputId": "42eb42d3-f813-47e6-f565-9eb83679c023"
      },
      "execution_count": null,
      "outputs": [
        {
          "output_type": "stream",
          "name": "stdout",
          "text": [
            "There are 4027 actions in Deployment\n",
            "The max number of feature an action posses: 20\n",
            "The min number of feature an action posses: 0\n",
            "##############################\n",
            "Created feature network\n",
            "##############################\n",
            "There are 1119 disjoint/ connected components in feature network\n",
            "##############################\n",
            "10 most important features\n",
            "liquibase-github-actions 0.0015393400700151453\n",
            "utf sixteen utf 0.0015393400700151453\n",
            "access key id 0.0015145120043697396\n",
            "unlock paid capability 0.0015145120043697396\n",
            "personal access token 0.0015145120043697396\n",
            "secret access key 0.0014648558730789285\n",
            "sixteen utf sixteen 0.0014648558730789285\n",
            "capability get free 0.0014648558730789285\n",
            "get free trial 0.001440027807433523\n",
            "paid capability get 0.001440027807433523\n",
            "##############################\n",
            "distribution of degrees\n",
            "##############################\n",
            "All nodes are unique: True\n",
            "number of actions with degree 1 or higher:  13\n",
            "number of features with degree 1 or higher:  31622\n",
            "There are 1189 Atomic Actions.\n",
            "##############################\n",
            "adding publisher to atomic network\n",
            "Finished adding publishers\n",
            "##############################\n",
            "There are 1109 atomic publishers working on one or more atomic actions\n",
            "##############################\n",
            "There are 8643  nodes with degree 2 or more\n",
            "not all nodes are features\n",
            "number of actions with degree 2 or higher:  4014\n",
            "number of features with degree 2 or higher:  4629\n",
            "There are 2822 actions with at least one feature of degree 2 or higher (Composite Actions)\n",
            "##############################\n",
            "Adding publishers to the network\n",
            "Finished adding publishers\n",
            "##############################\n",
            "There are 137 objectives targeted by composite publishers\n",
            "##############################\n",
            "There are 2250 composite publishers out of total 3234\n",
            "We found 85 Basal Features: \n",
            "['oracle cloud infrastructure', 'directory deployment set', 'directory deployment leading', 'set target directory', 'input directory deployment', 'deploy hugo three', 'hugo three target', 'custom args like', 'build deployment flutter', 'args like dartdefinesimpleexample', 'automates build deployment', 'handle deployment pullrequestocess', 'working directory repository', 'pullrequest description comment', 'extract version string', 'file version string', 'laravel forge server', 'key laravel forge', 'laravel forge api', 'creates docker container', 'action creates docker', 'azure region optimal', 'list azure region', 'get azure region', 'azure region best', 'azure region check', 'cloudbees cdro instance', 'connecting cloudbees cdro', 'unverified ssl certificate', 'ssl certificate error', 'certificate error connecting', 'ignore unverified ssl', 'remote cloudbees cdro', 'dns configuration multiple', 'dnscontrol credential file', 'path dnscontrol credential', 'configuration multiple pullrequestoviders', 'pullrequestoviders dnscontrol command', 'dnscontrol command executed', 'deploy dns configuration', 'python version want', 'pullrequestovider use option', 'site key value', 'wordpullrequestess site key', 'vault password file', 'ansible vault password', 'wordpullrequestess site deploy', 'wordpullrequestesssites search wordpullrequestess', 'imported ansible vault', 'vault password ansible', 'key value path', 'search wordpullrequestess site', 'etc wordpullrequestess site', 'key value search', 'depullrequestecated httpszeitink five', 'cli seventeen redexclamationmark', 'httpszeitink five f', 'throw error determines', 'failed deployment throw', 'set failed deployment', 'deployment throw error', 'public ip address', 'git config name', 'action handle building', 'building deploying pullrequestocess', 'handle building deploying', 'yaml file change', 'custom yaml file', 'use custom yaml', 'specification json string', 'json string ex', 'json string account', 'app mesh mesh', 'run command inside', 'option run command', 'use specific shell', 'run command docker', 'github action cubetiq', 'command inside container', 'specific shell run', 'shell run command', 'inside container use', 'container use specific', 'api key keep', 'key keep secret']\n"
          ]
        }
      ]
    },
    {
      "cell_type": "markdown",
      "source": [
        "## developing version 2method"
      ],
      "metadata": {
        "id": "EP_huQZt2dcL"
      }
    },
    {
      "cell_type": "code",
      "source": [
        "import networkx as nx\n",
        "import matplotlib.pyplot as plt\n",
        "\n",
        "# Create an empty graph\n",
        "G = nx.Graph()\n",
        "\n",
        "\n",
        "\n",
        "# Add edges\n",
        "G.add_edge(\"A\", \"P1\")\n",
        "G.add_edge(\"P1\", \"B\")\n",
        "G.add_edge(\"C\", \"P2\")\n",
        "G.add_edge(\"A\", \"f1\")\n",
        "G.add_edge(\"f2\", \"A\")\n",
        "G.add_edge(\"A\", \"f3\")\n",
        "G.add_edge(\"B\", \"f1\")\n",
        "G.add_edge(\"f2\", \"B\")\n",
        "G.add_edge(\"f4\", \"B\")\n",
        "G.add_edge(\"C\", \"f1\")\n",
        "G.add_edge(\"f2\", \"C\")\n",
        "G.add_edge(\"f5\", \"C\")\n",
        "G.add_edge(\"f6\", \"C\")\n",
        "G.add_edge(\"f10\", \"F\")\n",
        "G.add_edge(\"f10\", \"A\")\n",
        "G.add_edge(\"f10\", \"G\")\n",
        "G.add_edge(\"f11\", \"F\")\n",
        "G.add_edge(\"f11\", \"A\")\n",
        "G.add_edge(\"f11\", \"G\")\n",
        "G.add_edge(\"f12\", \"G\")\n",
        "G.add_edge(\"f12\", \"A\")\n",
        "G.add_edge(\"f12\", \"F\")\n",
        "\n",
        "G.add_edge(\"f7\", \"D\")\n",
        "G.add_edge(\"f8\", \"D\")\n",
        "G.add_edge(\"f9\", \"D\")\n",
        "G.add_edge(\"P3\", \"D\")\n",
        "G.add_edge(\"f7\", \"E\")\n",
        "G.add_edge(\"f8\", \"E\")\n",
        "G.add_edge(\"f9\", \"E\")\n",
        "G.add_edge(\"P3\", \"E\")\n",
        "# Draw the network\n",
        "nx.draw(G, with_labels=True)\n",
        "plt.show()"
      ],
      "metadata": {
        "colab": {
          "base_uri": "https://localhost:8080/",
          "height": 516
        },
        "id": "ITa4ErL59zs1",
        "outputId": "b2517867-e83b-476e-8337-a64259987d6d"
      },
      "execution_count": null,
      "outputs": [
        {
          "output_type": "display_data",
          "data": {
            "text/plain": [
              "<Figure size 640x480 with 1 Axes>"
            ],
            "image/png": "[encoded data removed]"
          },
          "metadata": {}
        }
      ]
    },
    {
      "cell_type": "code",
      "source": [
        "def make_pairs(lst):\n",
        "    pairs = []\n",
        "    for i in range(len(lst)):\n",
        "        for j in range(i + 1, len(lst)):\n",
        "            pairs.append([lst[i], lst[j]])\n",
        "    return pairs\n",
        "\n",
        "def check_subset(list1, list2):\n",
        "    set1 = set(list1)\n",
        "    set2 = set(list2)\n",
        "    return set1.issubset(set2)\n",
        "\n",
        "def check_value_not_in_list_of_dicts(lst, key, value):\n",
        "    for dictionary in lst:\n",
        "        if key in dictionary and dictionary[key] == value:\n",
        "            return False\n",
        "    return True\n",
        "\n",
        "def simplify_list(lst):\n",
        "    simplified = []\n",
        "    for sublist in lst:\n",
        "        found = False\n",
        "        for s in simplified:\n",
        "            if any(item in s for item in sublist):\n",
        "                s.extend(item for item in sublist if item not in s)\n",
        "                found = True\n",
        "                break\n",
        "        if not found:\n",
        "            simplified.append(sublist)\n",
        "    return simplified"
      ],
      "metadata": {
        "id": "6JiPA3Bz6qQ4"
      },
      "execution_count": null,
      "outputs": []
    },
    {
      "cell_type": "code",
      "source": [
        "all = [(node, degree) for node, degree in dict(G.degree()).items() if degree >= 0] # list of tuple of node, degree\n",
        "temp_degree2 = pd.DataFrame(all, columns=['nodes', 'Degree'])\n",
        "nodes = list(temp_degree2[\"nodes\"]); publisher_list = [\"P1\", \"P2\", \"P3\"]\n",
        "actions = [\"A\", \"B\", \"C\", \"D\", \"E\", \"G\"];\n",
        "publishers= []; action_list = []; feature_list = []\n",
        "for n in nodes:\n",
        "    if n in publisher_list:\n",
        "      publishers.append(n)\n",
        "    elif n in actions: action_list.append(n)\n",
        "    else: feature_list.append(n)\n",
        "\n",
        "disjoint_components = list(nx.connected_components(G))\n",
        "features_that_come_together = []\n",
        "for component in disjoint_components:\n",
        "  subgraph = G.subgraph(component)\n",
        "  edges = list(subgraph.edges())\n",
        "  edges_action_feature = []\n",
        "  for e in edges:\n",
        "      if e[0] not in publishers and e[1] not in publishers:\n",
        "        edges_action_feature.append(e)\n",
        "  component_action_list = []; component_feature_list=[]\n",
        "  for e in edges_action_feature:\n",
        "    if e[0] in action_list and e[0] not in component_action_list: component_action_list.append(e[0])\n",
        "    if e[1] in action_list and e[1] not in component_action_list: component_action_list.append(e[1])\n",
        "    if e[0] not in action_list and e[0] not in component_feature_list: component_feature_list.append(e[0])\n",
        "    if e[1] not in action_list and e[1] not in component_feature_list: component_feature_list.append(e[1])\n",
        "  feature_count_action_list = []; action_added=[]\n",
        "  for action in component_action_list:\n",
        "    if action not in action_added:\n",
        "      features = []\n",
        "      for e in edges_action_feature:\n",
        "        if e[0] == action and e[1] not in features:\n",
        "          features.append(e[1])\n",
        "        if e[1] == action and e[0] not in features:\n",
        "          features.append(e[0])\n",
        "      feature_count_action_list.append({\"action\": action, \"features\":features })\n",
        "      action_added.append(action)\n",
        "  # find features that come together\n",
        "  features_pair_come_together = []; action_added=[]\n",
        "  pairs = make_pairs(component_feature_list)\n",
        "  for pair in pairs:\n",
        "    count = 0;\n",
        "    for elm in feature_count_action_list:\n",
        "      feature = elm[\"features\"]\n",
        "      isSubset = check_subset(pair, feature)\n",
        "      if isSubset: count += 1\n",
        "    if count >= 2:\n",
        "      features_pair_come_together.append(pair)\n",
        "  consolidate_list = simplify_list(features_pair_come_together)\n",
        "  features_that_come_together.extend(consolidate_list)\n",
        "\n",
        "print(\"Features that happen together in this network: \"+str(features_that_come_together))\n",
        "\n",
        "size_counts = {}\n",
        "\n",
        "for sublist in features_that_come_together:\n",
        "    size = len(sublist)\n",
        "    if size in size_counts:\n",
        "        size_counts[size] += 1\n",
        "    else:\n",
        "        size_counts[size] = 1\n",
        "\n",
        "print(\"possible tuple sizes for features that happen together:\", len(size_counts))\n",
        "print(\"Different sizes and their counts:\")\n",
        "for size, count in size_counts.items():\n",
        "    print(\"Size:\", size, \"- Count:\", count, \"| There are \" + str(count) + \", \" + str(size)+\"-tuple feature set that happen together\")\n",
        "\n",
        "\n"
      ],
      "metadata": {
        "colab": {
          "base_uri": "https://localhost:8080/"
        },
        "id": "PSfGvLvJLmks",
        "outputId": "be14234e-8e22-4834-b774-5a6448203d6a"
      },
      "execution_count": null,
      "outputs": [
        {
          "output_type": "stream",
          "name": "stdout",
          "text": [
            "Features that happen together in this network: [['f1', 'f2'], ['f10', 'f11', 'f12'], ['f7', 'f8', 'f9']]\n",
            "possible tuple sizes for features that happen together: 2\n",
            "Different sizes and their counts:\n",
            "Size: 2 - Count: 1 | There are 1, 2-tuple feature set that happen together\n",
            "Size: 3 - Count: 2 | There are 2, 3-tuple feature set that happen together\n"
          ]
        }
      ]
    },
    {
      "cell_type": "code",
      "source": [
        "nested_list = [['f7', 'f8', \"f1\"], ['f7', 'f9', \"x\", \"l\"], ['f8', 'f9'], [\"f2\"], [\";\", \"u\"]]\n",
        "\n",
        "size_counts = {}\n",
        "\n",
        "for sublist in nested_list:\n",
        "    size = len(sublist)\n",
        "    if size in size_counts:\n",
        "        size_counts[size] += 1\n",
        "    else:\n",
        "        size_counts[size] = 1\n",
        "\n",
        "print(\"Number of different sizes:\", len(size_counts))\n",
        "print(\"Different sizes and their counts:\")\n",
        "for size, count in size_counts.items():\n",
        "    print(\"Size:\", size, \"- Count:\", count)\n"
      ],
      "metadata": {
        "colab": {
          "base_uri": "https://localhost:8080/"
        },
        "id": "bzPD1hSxGI6l",
        "outputId": "368d6bd5-eb25-4683-e7ed-ee438bb5e7f3"
      },
      "execution_count": null,
      "outputs": [
        {
          "output_type": "stream",
          "name": "stdout",
          "text": [
            "Number of different sizes: 4\n",
            "Different sizes and their counts:\n",
            "Size: 3 - Count: 1\n",
            "Size: 4 - Count: 1\n",
            "Size: 2 - Count: 2\n",
            "Size: 1 - Count: 1\n"
          ]
        }
      ]
    },
    {
      "cell_type": "markdown",
      "metadata": {
        "id": "eNPGRZ2r1gvl"
      },
      "source": [
        "#IDEs"
      ]
    },
    {
      "cell_type": "markdown",
      "source": [
        "## version 1"
      ],
      "metadata": {
        "id": "h28PElZDexPx"
      }
    },
    {
      "cell_type": "code",
      "execution_count": null,
      "metadata": {
        "id": "Wp4WgoGS1jH5",
        "colab": {
          "base_uri": "https://localhost:8080/",
          "height": 1000
        },
        "outputId": "243b59d5-e2ee-4523-ac10-e3b7d1c8b98f"
      },
      "outputs": [
        {
          "output_type": "stream",
          "name": "stdout",
          "text": [
            "There are 39 actions in IDEs\n",
            "The max number of feature an action posses: 20\n",
            "The min number of feature an action posses: 6\n",
            "##############################\n",
            "Created feature network\n",
            "##############################\n",
            "There are 33 disjoint/ connected components in feature network\n",
            "##############################\n",
            "Warning: When  cdn_resources is 'local' jupyter notebook has issues displaying graphics on chrome/safari. Use cdn_resources='in_line' or cdn_resources='remote' if you have issues viewing graphics in a notebook.\n",
            "/content/drive/MyDrive/Research/images/IDEs/IDEs1.html\n",
            "Saved pvis visualization 1\n",
            "##############################\n",
            "10 most important features\n",
            "Setup Database Client 0.043478260869565216\n",
            "Acción de repetición con Docker 0.038901601830663615\n",
            "IntelliJ Platform Plugin Verifier 0.038901601830663615\n",
            "Setup Kotlin 0.034324942791762014\n",
            "Install Clang 0.034324942791762014\n",
            "Setup WeChat Developer Tools 0.032036613272311214\n",
            "arm-none-eabi-gcc GNU Arm Embedded Toolchain 0.032036613272311214\n",
            "Try in Web IDE 0.029748283752860413\n",
            "setup-msbuild 0.029748283752860413\n",
            "Build STM32CubeIde project 0.029748283752860413\n",
            "##############################\n",
            "distribution of degrees\n",
            "##############################\n",
            "The nodes are unique: True\n",
            "There are 65  nodes with degree 2 or more\n",
            "not all nodes are features\n",
            "number of actions with degree 2 or higher:  39\n",
            "number of features with degree 2 or higher:  26\n",
            "There are 10 actions with features of degree 2 or higher\n",
            "##############################\n",
            "Adding publishers to the network\n",
            "Finished adding publishers\n",
            "##############################\n",
            "There are 4 disjoint/ connected components in feature with degree 2 or higher network\n",
            "##############################\n",
            "Warning: When  cdn_resources is 'local' jupyter notebook has issues displaying graphics on chrome/safari. Use cdn_resources='in_line' or cdn_resources='remote' if you have issues viewing graphics in a notebook.\n",
            "/content/drive/MyDrive/Research/images/IDEs/IDEs2.html\n",
            "Saved pvis visualization 2\n",
            "##############################\n",
            "There are 5 actions with at least one common feature and publishier with other actions\n",
            "##############################\n",
            "Refining the publisher network\n",
            "##############################\n",
            "There are 2 disjoint/ connected components in actions with at least one common feature and shared publisher network\n",
            "##############################\n",
            "Warning: When  cdn_resources is 'local' jupyter notebook has issues displaying graphics on chrome/safari. Use cdn_resources='in_line' or cdn_resources='remote' if you have issues viewing graphics in a notebook.\n",
            "/content/drive/MyDrive/Research/images/IDEs/IDEs3.html\n",
            "Saved pvis visualization 3\n",
            "##############################\n"
          ]
        },
        {
          "output_type": "display_data",
          "data": {
            "text/plain": [
              "<Figure size 640x480 with 1 Axes>"
            ],
            "image/png": "[encoded data removed]"
          },
          "metadata": {}
        }
      ],
      "source": [
        "path = \"/content/drive/MyDrive/Research/EVENTS/dataset_with_features/IDEs.csv\"\n",
        "save_vis = \"/content/drive/MyDrive/Research/images/IDEs\"\n",
        "data_name = \"IDEs\"\n",
        "get_res(path, save_vis, data_name)"
      ]
    },
    {
      "cell_type": "markdown",
      "source": [
        "## version 2"
      ],
      "metadata": {
        "id": "N8r24ggNe0hq"
      }
    },
    {
      "cell_type": "code",
      "source": [
        "path = \"/content/drive/MyDrive/Research/EVENTS/dataset_with_features/IDEs.csv\"\n",
        "save_vis = \"/content/drive/MyDrive/Research/images/IDEs/version2\"\n",
        "data_name = \"IDEs\"\n",
        "get_res_test(path, save_vis, data_name, data_name)"
      ],
      "metadata": {
        "colab": {
          "base_uri": "https://localhost:8080/"
        },
        "id": "5V64UYcqe2lx",
        "outputId": "8afe9f44-e533-4202-bb9f-905a4b0ce7ba"
      },
      "execution_count": null,
      "outputs": [
        {
          "output_type": "stream",
          "name": "stdout",
          "text": [
            "There are 39 actions in IDEs\n",
            "The max number of feature an action posses: 20\n",
            "The min number of feature an action posses: 6\n",
            "##############################\n",
            "Created feature network\n",
            "##############################\n",
            "There are 32 disjoint/ connected components in feature network\n",
            "##############################\n",
            "10 most important features\n",
            "Setup Database Client 0.0423728813559322\n",
            "Acción de repetición con Docker 0.038135593220338986\n",
            "IntelliJ Platform Plugin Verifier 0.038135593220338986\n",
            "Setup Kotlin 0.03389830508474576\n",
            "Install Clang 0.03389830508474576\n",
            "Setup WeChat Developer Tools 0.03177966101694915\n",
            "arm-none-eabi-gcc GNU Arm Embedded Toolchain 0.03177966101694915\n",
            "Try in Web IDE 0.029661016949152543\n",
            "setup-msbuild 0.029661016949152543\n",
            "Build STM32CubeIde project 0.029661016949152543\n",
            "##############################\n",
            "distribution of degrees\n",
            "##############################\n",
            "All nodes are unique: True\n",
            "There are 29 Atomic Actions.\n",
            "##############################\n",
            "adding publisher to atomic network\n",
            "Finished adding publishers\n",
            "##############################\n",
            "There are 29 atomic publishers working on one or more atomic actions\n",
            "##############################\n",
            "There are 67  nodes with degree 2 or more\n",
            "not all nodes are features\n",
            "number of actions with degree 2 or higher:  39\n",
            "number of features with degree 2 or higher:  28\n",
            "There are 10 actions with at least one feature of degree 2 or higher (Composite Actions)\n",
            "##############################\n",
            "Adding publishers to the network\n",
            "Finished adding publishers\n",
            "##############################\n",
            "There are 4 objectives targeted by composite publishers\n",
            "##############################\n",
            "There are 7 composite publishers out of total 35\n",
            "We found 0 Basal Features: \n",
            "[]\n"
          ]
        }
      ]
    },
    {
      "cell_type": "markdown",
      "metadata": {
        "id": "O54DspBO1qQe"
      },
      "source": [
        "#learning"
      ]
    },
    {
      "cell_type": "markdown",
      "source": [
        "## version 1"
      ],
      "metadata": {
        "id": "p7p0LD0M2njQ"
      }
    },
    {
      "cell_type": "code",
      "execution_count": null,
      "metadata": {
        "id": "oxicFD8L1sLZ",
        "colab": {
          "base_uri": "https://localhost:8080/",
          "height": 1000
        },
        "outputId": "881f4498-e529-41b5-fec0-822b49456d4a"
      },
      "outputs": [
        {
          "output_type": "stream",
          "name": "stdout",
          "text": [
            "There are 162 actions in Learning\n",
            "The max number of feature an action posses: 20\n",
            "The min number of feature an action posses: 0\n",
            "##############################\n",
            "Created feature network\n",
            "##############################\n",
            "There are 117 disjoint/ connected components in feature network\n",
            "##############################\n",
            "Warning: When  cdn_resources is 'local' jupyter notebook has issues displaying graphics on chrome/safari. Use cdn_resources='in_line' or cdn_resources='remote' if you have issues viewing graphics in a notebook.\n",
            "/content/drive/MyDrive/Research/images/Learning/Learning1.html\n",
            "Saved pvis visualization 1\n",
            "##############################\n",
            "10 most important features\n",
            "someone record time 0.015942028985507246\n",
            "record time greet 0.015942028985507246\n",
            "greet someone record 0.015217391304347827\n",
            "greet time greeted 0.015217391304347827\n",
            "time greet time 0.014492753623188406\n",
            "try build and test 0.014492753623188406\n",
            "AI Blog Writer 0.013768115942028985\n",
            "golang Actionsszdxfcgv 0.013043478260869566\n",
            "Cortx PR checklist 0.012318840579710146\n",
            "Setup Processing 0.012318840579710146\n",
            "##############################\n",
            "distribution of degrees\n",
            "##############################\n",
            "The nodes are unique: True\n",
            "There are 219  nodes with degree 2 or more\n",
            "not all nodes are features\n",
            "number of actions with degree 2 or higher:  156\n",
            "number of features with degree 2 or higher:  63\n",
            "There are 61 actions with features of degree 2 or higher\n",
            "##############################\n",
            "Adding publishers to the network\n",
            "Finished adding publishers\n",
            "##############################\n",
            "There are 14 disjoint/ connected components in feature with degree 2 or higher network\n",
            "##############################\n",
            "Warning: When  cdn_resources is 'local' jupyter notebook has issues displaying graphics on chrome/safari. Use cdn_resources='in_line' or cdn_resources='remote' if you have issues viewing graphics in a notebook.\n",
            "/content/drive/MyDrive/Research/images/Learning/Learning2.html\n",
            "Saved pvis visualization 2\n",
            "##############################\n",
            "There are 8 actions with at least one common feature and publishier with other actions\n",
            "##############################\n",
            "Refining the publisher network\n",
            "##############################\n",
            "There are 4 disjoint/ connected components in actions with at least one common feature and shared publisher network\n",
            "##############################\n",
            "Warning: When  cdn_resources is 'local' jupyter notebook has issues displaying graphics on chrome/safari. Use cdn_resources='in_line' or cdn_resources='remote' if you have issues viewing graphics in a notebook.\n",
            "/content/drive/MyDrive/Research/images/Learning/Learning3.html\n",
            "Saved pvis visualization 3\n",
            "##############################\n"
          ]
        },
        {
          "output_type": "display_data",
          "data": {
            "text/plain": [
              "<Figure size 640x480 with 1 Axes>"
            ],
            "image/png": "[encoded data removed]"
          },
          "metadata": {}
        }
      ],
      "source": [
        "path = \"/content/drive/MyDrive/Research/EVENTS/dataset_with_features/Learning.csv\"\n",
        "save_vis = \"/content/drive/MyDrive/Research/images/Learning\"\n",
        "data_name = \"Learning\"\n",
        "get_res(path, save_vis, data_name)"
      ]
    },
    {
      "cell_type": "markdown",
      "source": [
        "## version 2"
      ],
      "metadata": {
        "id": "2rVhJcTc2pwd"
      }
    },
    {
      "cell_type": "code",
      "source": [
        "path = \"/content/drive/MyDrive/Research/EVENTS/dataset_with_features/Learning.csv\"\n",
        "save_vis = \"/content/drive/MyDrive/Research/images/Learning/version2\"\n",
        "data_name = \"Learning\"\n",
        "get_res_test(path, save_vis, data_name, data_name)"
      ],
      "metadata": {
        "colab": {
          "base_uri": "https://localhost:8080/"
        },
        "id": "2xtU-Cbx2sVV",
        "outputId": "79969682-dcc4-40d4-83f8-fa5e2923a14f"
      },
      "execution_count": null,
      "outputs": [
        {
          "output_type": "stream",
          "name": "stdout",
          "text": [
            "There are 162 actions in Learning\n",
            "The max number of feature an action posses: 20\n",
            "The min number of feature an action posses: 0\n",
            "##############################\n",
            "Created feature network\n",
            "##############################\n",
            "There are 109 disjoint/ connected components in feature network\n",
            "##############################\n",
            "10 most important features\n",
            "someone record time 0.01437908496732026\n",
            "record time greet 0.01437908496732026\n",
            "greet someone record 0.013725490196078431\n",
            "greet time greeted 0.013725490196078431\n",
            "try build and test 0.013725490196078431\n",
            "time greet time 0.0130718954248366\n",
            "AI Blog Writer 0.0130718954248366\n",
            "golang Actionsszdxfcgv 0.01241830065359477\n",
            "Cortx PR checklist 0.011764705882352941\n",
            "Setup Processing 0.011764705882352941\n",
            "##############################\n",
            "distribution of degrees\n",
            "##############################\n",
            "All nodes are unique: True\n",
            "number of actions with degree 1 or higher:  3\n",
            "number of features with degree 1 or higher:  1295\n",
            "There are 98 Atomic Actions.\n",
            "##############################\n",
            "adding publisher to atomic network\n",
            "Finished adding publishers\n",
            "##############################\n",
            "There are 95 atomic publishers working on one or more atomic actions\n",
            "##############################\n",
            "There are 233  nodes with degree 2 or more\n",
            "not all nodes are features\n",
            "number of actions with degree 2 or higher:  159\n",
            "number of features with degree 2 or higher:  74\n",
            "There are 61 actions with at least one feature of degree 2 or higher (Composite Actions)\n",
            "##############################\n",
            "Adding publishers to the network\n",
            "Finished adding publishers\n",
            "##############################\n",
            "There are 14 objectives targeted by composite publishers\n",
            "##############################\n",
            "There are 55 composite publishers out of total 150\n",
            "We found 8 Basal Features: \n",
            "['twitter api something', 'secret twitter api', 'access token twitter', 'access token secret', 'twitter api access', 'went wrong error', 'api access token', 'something went wrong']\n"
          ]
        }
      ]
    },
    {
      "cell_type": "markdown",
      "metadata": {
        "id": "nXs_9rMq11EX"
      },
      "source": [
        "#localization"
      ]
    },
    {
      "cell_type": "markdown",
      "source": [
        "## version 1"
      ],
      "metadata": {
        "id": "9y5BFs8m2717"
      }
    },
    {
      "cell_type": "code",
      "execution_count": null,
      "metadata": {
        "id": "YGlb11_B15WU",
        "colab": {
          "base_uri": "https://localhost:8080/",
          "height": 1000
        },
        "outputId": "ff4e3d9d-3bd4-4d7b-c54e-2825f1ac3e1a"
      },
      "outputs": [
        {
          "output_type": "stream",
          "name": "stdout",
          "text": [
            "There are 100 actions in Localization\n",
            "The max number of feature an action posses: 20\n",
            "The min number of feature an action posses: 1\n",
            "##############################\n",
            "Created feature network\n",
            "##############################\n",
            "There are 73 disjoint/ connected components in feature network\n",
            "##############################\n",
            "Warning: When  cdn_resources is 'local' jupyter notebook has issues displaying graphics on chrome/safari. Use cdn_resources='in_line' or cdn_resources='remote' if you have issues viewing graphics in a notebook.\n",
            "/content/drive/MyDrive/Research/images/Localization/Localization1.html\n",
            "Saved pvis visualization 1\n",
            "##############################\n",
            "10 most important features\n",
            "crowdin-request-action 0.018590998043052837\n",
            "Language Weaver 0.016634050880626222\n",
            "Actions with HXLTM - terminology, translation & localization 0.016634050880626222\n",
            "AI Translator Action 0.016634050880626222\n",
            "action-crowdin-contributors 0.016634050880626222\n",
            "Actions with extras for HXLTM 0.015655577299412915\n",
            "locize download 0.015655577299412915\n",
            "github-transifex-actions 0.015655577299412915\n",
            "i18next resources validator 0.015655577299412915\n",
            "OpenAI Continuous Translation Action 0.015655577299412915\n",
            "##############################\n",
            "distribution of degrees\n",
            "##############################\n",
            "The nodes are unique: True\n",
            "There are 159  nodes with degree 2 or more\n",
            "not all nodes are features\n",
            "number of actions with degree 2 or higher:  98\n",
            "number of features with degree 2 or higher:  61\n",
            "There are 41 actions with features of degree 2 or higher\n",
            "##############################\n",
            "Adding publishers to the network\n",
            "Finished adding publishers\n",
            "##############################\n",
            "There are 13 disjoint/ connected components in feature with degree 2 or higher network\n",
            "##############################\n",
            "Warning: When  cdn_resources is 'local' jupyter notebook has issues displaying graphics on chrome/safari. Use cdn_resources='in_line' or cdn_resources='remote' if you have issues viewing graphics in a notebook.\n",
            "/content/drive/MyDrive/Research/images/Localization/Localization2.html\n",
            "Saved pvis visualization 2\n",
            "##############################\n",
            "There are 11 actions with at least one common feature and publishier with other actions\n",
            "##############################\n",
            "Refining the publisher network\n",
            "##############################\n",
            "There are 4 disjoint/ connected components in actions with at least one common feature and shared publisher network\n",
            "##############################\n",
            "Warning: When  cdn_resources is 'local' jupyter notebook has issues displaying graphics on chrome/safari. Use cdn_resources='in_line' or cdn_resources='remote' if you have issues viewing graphics in a notebook.\n",
            "/content/drive/MyDrive/Research/images/Localization/Localization3.html\n",
            "Saved pvis visualization 3\n",
            "##############################\n"
          ]
        },
        {
          "output_type": "display_data",
          "data": {
            "text/plain": [
              "<Figure size 640x480 with 1 Axes>"
            ],
            "image/png": "[encoded data removed]"
          },
          "metadata": {}
        }
      ],
      "source": [
        "path = \"/content/drive/MyDrive/Research/EVENTS/dataset_with_features/Localization.csv\"\n",
        "save_vis = \"/content/drive/MyDrive/Research/images/Localization\"\n",
        "data_name = \"Localization\"\n",
        "get_res(path, save_vis, data_name)"
      ]
    },
    {
      "cell_type": "markdown",
      "source": [
        "## version 2"
      ],
      "metadata": {
        "id": "tg3mylmt2-Sl"
      }
    },
    {
      "cell_type": "code",
      "source": [
        "path = \"/content/drive/MyDrive/Research/EVENTS/dataset_with_features/Localization.csv\"\n",
        "save_vis = \"/content/drive/MyDrive/Research/images/Localization/version2\"\n",
        "data_name = \"Localization\"\n",
        "get_res_test(path, save_vis, data_name, data_name)"
      ],
      "metadata": {
        "colab": {
          "base_uri": "https://localhost:8080/"
        },
        "id": "PWrRLFAi3C8q",
        "outputId": "75931ea6-e76a-4e66-dcbb-68b64b9a7a49"
      },
      "execution_count": null,
      "outputs": [
        {
          "output_type": "stream",
          "name": "stdout",
          "text": [
            "There are 100 actions in Localization\n",
            "The max number of feature an action posses: 20\n",
            "The min number of feature an action posses: 1\n",
            "##############################\n",
            "Created feature network\n",
            "##############################\n",
            "There are 68 disjoint/ connected components in feature network\n",
            "##############################\n",
            "10 most important features\n",
            "crowdin-request-action 0.018034265103697024\n",
            "Language Weaver 0.016230838593327322\n",
            "Actions with HXLTM - terminology, translation & localization 0.016230838593327322\n",
            "AI Translator Action 0.016230838593327322\n",
            "action-crowdin-contributors 0.016230838593327322\n",
            "Actions with extras for HXLTM 0.01532912533814247\n",
            "locize download 0.01532912533814247\n",
            "github-transifex-actions 0.01532912533814247\n",
            "i18next resources validator 0.01532912533814247\n",
            "OpenAI Continuous Translation Action 0.01532912533814247\n",
            "##############################\n",
            "distribution of degrees\n",
            "##############################\n",
            "All nodes are unique: True\n",
            "There are 59 Atomic Actions.\n",
            "##############################\n",
            "adding publisher to atomic network\n",
            "Finished adding publishers\n",
            "##############################\n",
            "There are 57 atomic publishers working on one or more atomic actions\n",
            "##############################\n",
            "There are 167  nodes with degree 2 or more\n",
            "not all nodes are features\n",
            "number of actions with degree 2 or higher:  100\n",
            "number of features with degree 2 or higher:  67\n",
            "There are 41 actions with at least one feature of degree 2 or higher (Composite Actions)\n",
            "##############################\n",
            "Adding publishers to the network\n",
            "Finished adding publishers\n",
            "##############################\n",
            "There are 13 objectives targeted by composite publishers\n",
            "##############################\n",
            "There are 33 composite publishers out of total 88\n",
            "We found 8 Basal Features: \n",
            "['read key pullrequestoject', 'working directory invoke', 'write key pullrequestoject', 'defines working directory', 'key pullrequestoject localazy', 'key use translation', 'personal access token', 'pullrequestoject api key']\n"
          ]
        }
      ]
    },
    {
      "cell_type": "markdown",
      "metadata": {
        "id": "bX0MiboE187a"
      },
      "source": [
        "#Mobile"
      ]
    },
    {
      "cell_type": "markdown",
      "source": [
        "## version 1"
      ],
      "metadata": {
        "id": "s1N54XVmBVDs"
      }
    },
    {
      "cell_type": "code",
      "execution_count": null,
      "metadata": {
        "id": "D3EJnbMN1_Z1",
        "colab": {
          "base_uri": "https://localhost:8080/",
          "height": 1000
        },
        "outputId": "d6095545-76e9-4c2c-cd07-89f29d0a86de"
      },
      "outputs": [
        {
          "output_type": "stream",
          "name": "stdout",
          "text": [
            "There are 127 actions in Mobile\n",
            "The max number of feature an action posses: 20\n",
            "The min number of feature an action posses: 1\n",
            "##############################\n",
            "Created feature network\n",
            "##############################\n",
            "There are 72 disjoint/ connected components in feature network\n",
            "##############################\n",
            "Warning: When  cdn_resources is 'local' jupyter notebook has issues displaying graphics on chrome/safari. Use cdn_resources='in_line' or cdn_resources='remote' if you have issues viewing graphics in a notebook.\n",
            "/content/drive/MyDrive/Research/images/Mobile/Mobile1.html\n",
            "Saved pvis visualization 1\n",
            "##############################\n",
            "10 most important features\n",
            "Sms77.io SMS 0.014728682170542635\n",
            "This action uploads an application file to DeployGate 0.013953488372093023\n",
            "Firebase Increment App Version 0.013953488372093023\n",
            "Sourcetoad - Tizen Build 0.013953488372093023\n",
            "iOS Build/Release Action 0.01317829457364341\n",
            ".NET MAUI - Apple Provisioning 0.01317829457364341\n",
            "iOS Bump Version 0.01317829457364341\n",
            "Trigger Mobile Builds with Appflow 0.012403100775193798\n",
            "Genymotion SaaS Action 0.012403100775193798\n",
            "Obvious - iOS Build Action 0.012403100775193798\n",
            "##############################\n",
            "distribution of degrees\n",
            "##############################\n",
            "The nodes are unique: True\n",
            "There are 249  nodes with degree 2 or more\n",
            "not all nodes are features\n",
            "number of actions with degree 2 or higher:  125\n",
            "number of features with degree 2 or higher:  124\n",
            "There are 72 actions with features of degree 2 or higher\n",
            "##############################\n",
            "Adding publishers to the network\n",
            "Finished adding publishers\n",
            "##############################\n",
            "There are 17 disjoint/ connected components in feature with degree 2 or higher network\n",
            "##############################\n",
            "Warning: When  cdn_resources is 'local' jupyter notebook has issues displaying graphics on chrome/safari. Use cdn_resources='in_line' or cdn_resources='remote' if you have issues viewing graphics in a notebook.\n",
            "/content/drive/MyDrive/Research/images/Mobile/Mobile2.html\n",
            "Saved pvis visualization 2\n",
            "##############################\n",
            "There are 19 actions with at least one common feature and publishier with other actions\n",
            "##############################\n",
            "Refining the publisher network\n",
            "##############################\n",
            "There are 8 disjoint/ connected components in actions with at least one common feature and shared publisher network\n",
            "##############################\n",
            "Warning: When  cdn_resources is 'local' jupyter notebook has issues displaying graphics on chrome/safari. Use cdn_resources='in_line' or cdn_resources='remote' if you have issues viewing graphics in a notebook.\n",
            "/content/drive/MyDrive/Research/images/Mobile/Mobile3.html\n",
            "Saved pvis visualization 3\n",
            "##############################\n"
          ]
        },
        {
          "output_type": "display_data",
          "data": {
            "text/plain": [
              "<Figure size 640x480 with 1 Axes>"
            ],
            "image/png": "[encoded data removed]"
          },
          "metadata": {}
        }
      ],
      "source": [
        "path = \"/content/drive/MyDrive/Research/EVENTS/dataset_with_features/Mobile.csv\"\n",
        "save_vis = \"/content/drive/MyDrive/Research/images/Mobile\"\n",
        "data_name = \"Mobile\"\n",
        "get_res(path, save_vis, data_name)"
      ]
    },
    {
      "cell_type": "markdown",
      "source": [
        "## version 2"
      ],
      "metadata": {
        "id": "ZJ--KgijBYFp"
      }
    },
    {
      "cell_type": "code",
      "source": [
        "path = \"/content/drive/MyDrive/Research/EVENTS/dataset_with_features/Mobile.csv\"\n",
        "save_vis = \"/content/drive/MyDrive/Research/images/Mobile/version2\"\n",
        "data_name = \"Mobile\"\n",
        "get_res_test(path, save_vis, data_name, data_name)"
      ],
      "metadata": {
        "colab": {
          "base_uri": "https://localhost:8080/"
        },
        "id": "Kr991WwbBZzY",
        "outputId": "e16e1093-68a6-4d51-bf19-49f99be04aab"
      },
      "execution_count": null,
      "outputs": [
        {
          "output_type": "stream",
          "name": "stdout",
          "text": [
            "There are 127 actions in Mobile\n",
            "The max number of feature an action posses: 20\n",
            "The min number of feature an action posses: 1\n",
            "##############################\n",
            "Created feature network\n",
            "##############################\n",
            "There are 67 disjoint/ connected components in feature network\n",
            "##############################\n",
            "10 most important features\n",
            "Sms77.io SMS 0.014295925661186561\n",
            "This action uploads an application file to DeployGate 0.013581129378127233\n",
            "Firebase Increment App Version 0.013581129378127233\n",
            "Sourcetoad - Tizen Build 0.013581129378127233\n",
            "iOS Build/Release Action 0.012866333095067906\n",
            ".NET MAUI - Apple Provisioning 0.012866333095067906\n",
            "iOS Bump Version 0.012866333095067906\n",
            "Trigger Mobile Builds with Appflow 0.012151536812008578\n",
            "Genymotion SaaS Action 0.012151536812008578\n",
            "Obvious - iOS Build Action 0.012151536812008578\n",
            "##############################\n",
            "distribution of degrees\n",
            "##############################\n",
            "All nodes are unique: True\n",
            "There are 55 Atomic Actions.\n",
            "##############################\n",
            "adding publisher to atomic network\n",
            "Finished adding publishers\n",
            "##############################\n",
            "There are 52 atomic publishers working on one or more atomic actions\n",
            "##############################\n",
            "There are 266  nodes with degree 2 or more\n",
            "not all nodes are features\n",
            "number of actions with degree 2 or higher:  127\n",
            "number of features with degree 2 or higher:  139\n",
            "There are 72 actions with at least one feature of degree 2 or higher (Composite Actions)\n",
            "##############################\n",
            "Adding publishers to the network\n",
            "Finished adding publishers\n",
            "##############################\n",
            "There are 17 objectives targeted by composite publishers\n",
            "##############################\n",
            "There are 60 composite publishers out of total 110\n",
            "We found 3 Basal Features: \n",
            "['comma seperated list', 'allow automated publishing', 'full clear documentation']\n"
          ]
        }
      ]
    },
    {
      "cell_type": "markdown",
      "metadata": {
        "id": "TC7aToqe2EbR"
      },
      "source": [
        "# Monitoring"
      ]
    },
    {
      "cell_type": "markdown",
      "source": [
        "## version 1"
      ],
      "metadata": {
        "id": "q6EogyxJBji1"
      }
    },
    {
      "cell_type": "code",
      "execution_count": null,
      "metadata": {
        "id": "qMVLTU7V2Gif",
        "colab": {
          "base_uri": "https://localhost:8080/",
          "height": 1000
        },
        "outputId": "3e5e88c5-c9bb-4d8b-b594-59439bab83da"
      },
      "outputs": [
        {
          "output_type": "stream",
          "name": "stdout",
          "text": [
            "There are 404 actions in Monitoring\n",
            "The max number of feature an action posses: 20\n",
            "The min number of feature an action posses: 3\n",
            "##############################\n",
            "Created feature network\n",
            "##############################\n",
            "There are 282 disjoint/ connected components in feature network\n",
            "##############################\n",
            "Warning: When  cdn_resources is 'local' jupyter notebook has issues displaying graphics on chrome/safari. Use cdn_resources='in_line' or cdn_resources='remote' if you have issues viewing graphics in a notebook.\n",
            "/content/drive/MyDrive/Research/images/Monitoring/Monitoring1.html\n",
            "Saved pvis visualization 1\n",
            "##############################\n",
            "10 most important features\n",
            "Yor GitHub Action 0.004472271914132379\n",
            "Platform.sh Deploy status 0.004472271914132379\n",
            "HTTP(s) URL health check and TLS/SSL certification expiry check 0.004472271914132379\n",
            "Should I notify slack? 0.004472271914132379\n",
            "Ember Asset Size 0.004472271914132379\n",
            "Bring Your Own Badge 0.004472271914132379\n",
            "URL Health Check 0.004472271914132379\n",
            "Server Alert In Telegram 0.00424865831842576\n",
            "Sentry Release (with custom URL) 0.00424865831842576\n",
            "wpt unofficial action 0.00424865831842576\n",
            "##############################\n",
            "distribution of degrees\n",
            "##############################\n",
            "The nodes are unique: True\n",
            "There are 656  nodes with degree 2 or more\n",
            "not all nodes are features\n",
            "number of actions with degree 2 or higher:  404\n",
            "number of features with degree 2 or higher:  252\n",
            "There are 165 actions with features of degree 2 or higher\n",
            "##############################\n",
            "Adding publishers to the network\n",
            "Finished adding publishers\n",
            "##############################\n",
            "There are 41 disjoint/ connected components in feature with degree 2 or higher network\n",
            "##############################\n",
            "Warning: When  cdn_resources is 'local' jupyter notebook has issues displaying graphics on chrome/safari. Use cdn_resources='in_line' or cdn_resources='remote' if you have issues viewing graphics in a notebook.\n",
            "/content/drive/MyDrive/Research/images/Monitoring/Monitoring2.html\n",
            "Saved pvis visualization 2\n",
            "##############################\n",
            "There are 25 actions with at least one common feature and publishier with other actions\n",
            "##############################\n",
            "Refining the publisher network\n",
            "##############################\n",
            "There are 10 disjoint/ connected components in actions with at least one common feature and shared publisher network\n",
            "##############################\n",
            "Warning: When  cdn_resources is 'local' jupyter notebook has issues displaying graphics on chrome/safari. Use cdn_resources='in_line' or cdn_resources='remote' if you have issues viewing graphics in a notebook.\n",
            "/content/drive/MyDrive/Research/images/Monitoring/Monitoring3.html\n",
            "Saved pvis visualization 3\n",
            "##############################\n"
          ]
        },
        {
          "output_type": "display_data",
          "data": {
            "text/plain": [
              "<Figure size 640x480 with 1 Axes>"
            ],
            "image/png": "[encoded data removed]"
          },
          "metadata": {}
        }
      ],
      "source": [
        "path = \"/content/drive/MyDrive/Research/EVENTS/dataset_with_features/Monitoring.csv\"\n",
        "save_vis = \"/content/drive/MyDrive/Research/images/Monitoring\"\n",
        "data_name = \"Monitoring\"\n",
        "get_res(path, save_vis, data_name)"
      ]
    },
    {
      "cell_type": "markdown",
      "source": [
        "## version 2"
      ],
      "metadata": {
        "id": "pHvB3LnqBmij"
      }
    },
    {
      "cell_type": "code",
      "source": [
        "path = \"/content/drive/MyDrive/Research/EVENTS/dataset_with_features/Monitoring.csv\"\n",
        "save_vis = \"/content/drive/MyDrive/Research/images/Monitoring/version2\"\n",
        "data_name = \"Monitoring\"\n",
        "get_res_test(path, save_vis, data_name, data_name)"
      ],
      "metadata": {
        "colab": {
          "base_uri": "https://localhost:8080/"
        },
        "id": "EmMkT1nDBoQr",
        "outputId": "c5c8cf2b-2092-46c7-f705-7a68e3d431b7"
      },
      "execution_count": null,
      "outputs": [
        {
          "output_type": "stream",
          "name": "stdout",
          "text": [
            "There are 404 actions in Monitoring\n",
            "The max number of feature an action posses: 20\n",
            "The min number of feature an action posses: 3\n",
            "##############################\n",
            "Created feature network\n",
            "##############################\n",
            "There are 266 disjoint/ connected components in feature network\n",
            "##############################\n",
            "10 most important features\n",
            "Yor GitHub Action 0.0043343653250774\n",
            "Platform.sh Deploy status 0.0043343653250774\n",
            "HTTP(s) URL health check and TLS/SSL certification expiry check 0.0043343653250774\n",
            "Should I notify slack? 0.0043343653250774\n",
            "Ember Asset Size 0.0043343653250774\n",
            "Bring Your Own Badge 0.0043343653250774\n",
            "URL Health Check 0.0043343653250774\n",
            "Server Alert In Telegram 0.0041279669762641896\n",
            "Sentry Release (with custom URL) 0.0041279669762641896\n",
            "wpt unofficial action 0.0041279669762641896\n",
            "##############################\n",
            "distribution of degrees\n",
            "##############################\n",
            "All nodes are unique: True\n",
            "There are 239 Atomic Actions.\n",
            "##############################\n",
            "adding publisher to atomic network\n",
            "Finished adding publishers\n",
            "##############################\n",
            "There are 235 atomic publishers working on one or more atomic actions\n",
            "##############################\n",
            "There are 679  nodes with degree 2 or more\n",
            "not all nodes are features\n",
            "number of actions with degree 2 or higher:  404\n",
            "number of features with degree 2 or higher:  275\n",
            "There are 165 actions with at least one feature of degree 2 or higher (Composite Actions)\n",
            "##############################\n",
            "Adding publishers to the network\n",
            "Finished adding publishers\n",
            "##############################\n",
            "There are 41 objectives targeted by composite publishers\n",
            "##############################\n",
            "There are 149 composite publishers out of total 374\n",
            "We found 18 Basal Features: \n",
            "['comma separated list', 'required channel pullrequestovided', 'telegram bot token', 'used checkout dependency', 'checkout dependency pat', 'dependency pat token', 'number day left', 'fixnavbarpullrequestojectpagesdev build passed', 'email recommended cloudflare', 'recommended cloudflare api', 'api key recommended', 'either pullrequestoduction pullrequesteview', 'example fixnavbarpullrequestojectpagesdev build', 'key recommended cloudflare', 'recommended cloudflare account', 'branch example fixnavbarpullrequestojectpagesdev', 'smtp server port', 'github access token']\n"
          ]
        }
      ]
    },
    {
      "cell_type": "markdown",
      "metadata": {
        "id": "-ZPoA7nx2Lmo"
      },
      "source": [
        "# project management"
      ]
    },
    {
      "cell_type": "markdown",
      "source": [
        "## version1"
      ],
      "metadata": {
        "id": "uSLqQtg0Byc2"
      }
    },
    {
      "cell_type": "code",
      "execution_count": null,
      "metadata": {
        "id": "hkbz10732O1e",
        "colab": {
          "base_uri": "https://localhost:8080/",
          "height": 1000
        },
        "outputId": "9cb137f2-49f5-4907-9155-6d7f54b74c61"
      },
      "outputs": [
        {
          "output_type": "stream",
          "name": "stdout",
          "text": [
            "There are 1136 actions in project_mangement\n",
            "The max number of feature an action posses: 20\n",
            "The min number of feature an action posses: 0\n",
            "##############################\n",
            "Created feature network\n",
            "##############################\n",
            "There are 527 disjoint/ connected components in feature network\n",
            "##############################\n",
            "Warning: When  cdn_resources is 'local' jupyter notebook has issues displaying graphics on chrome/safari. Use cdn_resources='in_line' or cdn_resources='remote' if you have issues viewing graphics in a notebook.\n",
            "/content/drive/MyDrive/Research/images/project_mangement/project_mangement1.html\n",
            "Saved pvis visualization 1\n",
            "##############################\n",
            "10 most important features\n",
            "personal access token 0.004818221638195357\n",
            "issue pull request 0.003241349102058695\n",
            "github access token 0.0018396846254927727\n",
            "passed using secretsgithubtoken 0.0017520805957074027\n",
            "PR to notion 0.0017520805957074027\n",
            "PR Auto-assign 0.0017520805957074027\n",
            "Github Pull Request 0.0017520805957074027\n",
            "Auto Pull Request 0.0017520805957074027\n",
            "OSS Governance Bot 0.0017520805957074027\n",
            "Automated Flysystem Maintenance 0.0017520805957074027\n",
            "##############################\n",
            "distribution of degrees\n",
            "##############################\n",
            "The nodes are unique: True\n",
            "There are 1991  nodes with degree 2 or more\n",
            "not all nodes are features\n",
            "number of actions with degree 2 or higher:  1127\n",
            "number of features with degree 2 or higher:  864\n",
            "There are 668 actions with features of degree 2 or higher\n",
            "##############################\n",
            "Adding publishers to the network\n",
            "Finished adding publishers\n",
            "##############################\n",
            "There are 51 disjoint/ connected components in feature with degree 2 or higher network\n",
            "##############################\n",
            "Warning: When  cdn_resources is 'local' jupyter notebook has issues displaying graphics on chrome/safari. Use cdn_resources='in_line' or cdn_resources='remote' if you have issues viewing graphics in a notebook.\n",
            "/content/drive/MyDrive/Research/images/project_mangement/project_mangement2.html\n",
            "Saved pvis visualization 2\n",
            "##############################\n",
            "There are 100 actions with at least one common feature and publishier with other actions\n",
            "##############################\n",
            "Refining the publisher network\n",
            "##############################\n",
            "There are 26 disjoint/ connected components in actions with at least one common feature and shared publisher network\n",
            "##############################\n",
            "Warning: When  cdn_resources is 'local' jupyter notebook has issues displaying graphics on chrome/safari. Use cdn_resources='in_line' or cdn_resources='remote' if you have issues viewing graphics in a notebook.\n",
            "/content/drive/MyDrive/Research/images/project_mangement/project_mangement3.html\n",
            "Saved pvis visualization 3\n",
            "##############################\n"
          ]
        },
        {
          "output_type": "display_data",
          "data": {
            "text/plain": [
              "<Figure size 640x480 with 1 Axes>"
            ],
            "image/png": "[encoded data removed]"
          },
          "metadata": {}
        }
      ],
      "source": [
        "path = \"/content/drive/MyDrive/Research/EVENTS/dataset_with_features/Project_Management.csv\"\n",
        "save_vis = \"/content/drive/MyDrive/Research/images/project_mangement\"\n",
        "data_name = \"project_mangement\"\n",
        "get_res(path, save_vis, data_name)"
      ]
    },
    {
      "cell_type": "markdown",
      "source": [
        "## version 2"
      ],
      "metadata": {
        "id": "8sO5NT1xB0lp"
      }
    },
    {
      "cell_type": "code",
      "source": [
        "path = \"/content/drive/MyDrive/Research/EVENTS/dataset_with_features/Project_Management.csv\"\n",
        "save_vis = \"/content/drive/MyDrive/Research/images/project_mangement/version 2\"\n",
        "data_name = \"project_mangement\"\n",
        "get_res_test(path, save_vis, data_name, data_name)"
      ],
      "metadata": {
        "colab": {
          "base_uri": "https://localhost:8080/"
        },
        "id": "Byo6mla_B2CO",
        "outputId": "dbba1301-6c52-443e-edb3-e6673d0b2c4d"
      },
      "execution_count": null,
      "outputs": [
        {
          "output_type": "stream",
          "name": "stdout",
          "text": [
            "There are 1136 actions in project_mangement\n",
            "The max number of feature an action posses: 20\n",
            "The min number of feature an action posses: 0\n",
            "##############################\n",
            "Created feature network\n",
            "##############################\n",
            "There are 449 disjoint/ connected components in feature network\n",
            "##############################\n",
            "10 most important features\n",
            "personal access token 0.0044444444444444444\n",
            "issue pull request 0.00298989898989899\n",
            "github access token 0.001696969696969697\n",
            "PR to notion 0.001696969696969697\n",
            "PR Auto-assign 0.001696969696969697\n",
            "Github Pull Request 0.001696969696969697\n",
            "Auto Pull Request 0.001696969696969697\n",
            "OSS Governance Bot 0.001696969696969697\n",
            "Automated Flysystem Maintenance 0.001696969696969697\n",
            "terraform-docs 0.001696969696969697\n",
            "##############################\n",
            "distribution of degrees\n",
            "##############################\n",
            "All nodes are unique: True\n",
            "number of actions with degree 1 or higher:  1\n",
            "number of features with degree 1 or higher:  10263\n",
            "There are 466 Atomic Actions.\n",
            "##############################\n",
            "adding publisher to atomic network\n",
            "Finished adding publishers\n",
            "##############################\n",
            "There are 437 atomic publishers working on one or more atomic actions\n",
            "##############################\n",
            "There are 2112  nodes with degree 2 or more\n",
            "not all nodes are features\n",
            "number of actions with degree 2 or higher:  1135\n",
            "number of features with degree 2 or higher:  977\n",
            "There are 668 actions with at least one feature of degree 2 or higher (Composite Actions)\n",
            "##############################\n",
            "Adding publishers to the network\n",
            "Finished adding publishers\n",
            "##############################\n",
            "There are 51 objectives targeted by composite publishers\n",
            "##############################\n",
            "There are 566 composite publishers out of total 964\n",
            "We found 9 Basal Features: \n",
            "['number millisecond wait', 'single select field', 'token org permission', 'supplied single select', 'select field id', 'api access token', 'pinned gist contain', 'update pinned gist', 'label new pullrequest']\n"
          ]
        }
      ]
    },
    {
      "cell_type": "markdown",
      "metadata": {
        "id": "fpKu16892Us4"
      },
      "source": [
        "# publishing"
      ]
    },
    {
      "cell_type": "markdown",
      "source": [
        "## version1"
      ],
      "metadata": {
        "id": "cdncx6V_GUzW"
      }
    },
    {
      "cell_type": "code",
      "execution_count": null,
      "metadata": {
        "id": "TdA2Gy6m2Wo5",
        "colab": {
          "base_uri": "https://localhost:8080/",
          "height": 1000
        },
        "outputId": "c9260bc7-1059-4c2e-9cc3-ba2825bd9cf3"
      },
      "outputs": [
        {
          "output_type": "stream",
          "name": "stdout",
          "text": [
            "There are 2233 actions in publishing\n",
            "The max number of feature an action posses: 20\n",
            "The min number of feature an action posses: 0\n",
            "##############################\n",
            "Created feature network\n",
            "##############################\n",
            "There are 1032 disjoint/ connected components in feature network\n",
            "##############################\n",
            "Warning: When  cdn_resources is 'local' jupyter notebook has issues displaying graphics on chrome/safari. Use cdn_resources='in_line' or cdn_resources='remote' if you have issues viewing graphics in a notebook.\n",
            "/content/drive/MyDrive/Research/images/publishing/publishing1.html\n",
            "Saved pvis visualization 1\n",
            "##############################\n",
            "10 most important features\n",
            "personal access token 0.0022993688007213707\n",
            "base sixty-four encoded 0.0011722272317403065\n",
            "comma separated list 0.0009467989179440938\n",
            "navigate order view 0.0009467989179440938\n",
            "Setup LocalStack 0.0009017132551848512\n",
            "Create GitHub API Deployment 0.0009017132551848512\n",
            "OGImage 0.0009017132551848512\n",
            "cpenv Publish Module 0.0009017132551848512\n",
            "Generate GoDoc HTML files 0.0009017132551848512\n",
            "action-miniprogram-ci 0.0009017132551848512\n",
            "##############################\n",
            "distribution of degrees\n",
            "##############################\n",
            "The nodes are unique: True\n",
            "There are 4239  nodes with degree 2 or more\n",
            "not all nodes are features\n",
            "number of actions with degree 2 or higher:  2218\n",
            "number of features with degree 2 or higher:  2021\n",
            "There are 1361 actions with features of degree 2 or higher\n",
            "##############################\n",
            "Adding publishers to the network\n",
            "Finished adding publishers\n",
            "##############################\n",
            "There are 123 disjoint/ connected components in feature with degree 2 or higher network\n",
            "##############################\n",
            "Warning: When  cdn_resources is 'local' jupyter notebook has issues displaying graphics on chrome/safari. Use cdn_resources='in_line' or cdn_resources='remote' if you have issues viewing graphics in a notebook.\n",
            "/content/drive/MyDrive/Research/images/publishing/publishing2.html\n",
            "Saved pvis visualization 2\n",
            "##############################\n",
            "There are 186 actions with at least one common feature and publishier with other actions\n",
            "##############################\n",
            "Refining the publisher network\n",
            "##############################\n",
            "There are 61 disjoint/ connected components in actions with at least one common feature and shared publisher network\n",
            "##############################\n",
            "Warning: When  cdn_resources is 'local' jupyter notebook has issues displaying graphics on chrome/safari. Use cdn_resources='in_line' or cdn_resources='remote' if you have issues viewing graphics in a notebook.\n",
            "/content/drive/MyDrive/Research/images/publishing/publishing3.html\n",
            "Saved pvis visualization 3\n",
            "##############################\n"
          ]
        },
        {
          "output_type": "display_data",
          "data": {
            "text/plain": [
              "<Figure size 640x480 with 1 Axes>"
            ],
            "image/png": "[encoded data removed]"
          },
          "metadata": {}
        }
      ],
      "source": [
        "path = \"/content/drive/MyDrive/Research/EVENTS/dataset_with_features/Publishing.csv\"\n",
        "save_vis = \"/content/drive/MyDrive/Research/images/publishing\"\n",
        "data_name = \"publishing\"\n",
        "get_res(path, save_vis, data_name)"
      ]
    },
    {
      "cell_type": "markdown",
      "source": [
        "## version2"
      ],
      "metadata": {
        "id": "hhvfVUBOGXiB"
      }
    },
    {
      "cell_type": "code",
      "source": [
        "path = \"/content/drive/MyDrive/Research/EVENTS/dataset_with_features/Publishing.csv\"\n",
        "save_vis = \"/content/drive/MyDrive/Research/images/publishing/version2\"\n",
        "data_name = \"publishing\"\n",
        "get_res_test(path, save_vis, data_name, data_name)"
      ],
      "metadata": {
        "colab": {
          "base_uri": "https://localhost:8080/"
        },
        "id": "jsArOoH3GZNI",
        "outputId": "57e3fe0b-306c-481d-c533-93fa60905812"
      },
      "execution_count": null,
      "outputs": [
        {
          "output_type": "stream",
          "name": "stdout",
          "text": [
            "There are 2233 actions in publishing\n",
            "The max number of feature an action posses: 20\n",
            "The min number of feature an action posses: 0\n",
            "##############################\n",
            "Created feature network\n",
            "##############################\n",
            "There are 883 disjoint/ connected components in feature network\n",
            "##############################\n",
            "10 most important features\n",
            "personal access token 0.002115480338476854\n",
            "base sixty-four encoded 0.0010784801725568277\n",
            "Setup LocalStack 0.0008710801393728223\n",
            "comma separated list 0.0008710801393728223\n",
            "navigate order view 0.0008710801393728223\n",
            "Create GitHub API Deployment 0.0008710801393728223\n",
            "OGImage 0.0008710801393728223\n",
            "cpenv Publish Module 0.0008710801393728223\n",
            "Generate GoDoc HTML files 0.0008710801393728223\n",
            "action-miniprogram-ci 0.0008710801393728223\n",
            "##############################\n",
            "distribution of degrees\n",
            "##############################\n",
            "All nodes are unique: True\n",
            "number of actions with degree 1 or higher:  5\n",
            "number of features with degree 1 or higher:  19647\n",
            "There are 864 Atomic Actions.\n",
            "##############################\n",
            "adding publisher to atomic network\n",
            "Finished adding publishers\n",
            "##############################\n",
            "There are 821 atomic publishers working on one or more atomic actions\n",
            "##############################\n",
            "There are 4457  nodes with degree 2 or more\n",
            "not all nodes are features\n",
            "number of actions with degree 2 or higher:  2228\n",
            "number of features with degree 2 or higher:  2229\n",
            "There are 1361 actions with at least one feature of degree 2 or higher (Composite Actions)\n",
            "##############################\n",
            "Adding publishers to the network\n",
            "Finished adding publishers\n",
            "##############################\n",
            "There are 123 objectives targeted by composite publishers\n",
            "##############################\n",
            "There are 1171 composite publishers out of total 1932\n",
            "We found 31 Basal Features: \n",
            "['relative path folder', 'comma seperated list', 'action handle building', 'building deploying pullrequestocess', 'handle building deploying', 'azure blob storage', 'part version bumped', 'containing metayml file', 'file channel use', 'directory containing metayml', 'package directory containing', 'channel use input', 'use input plaftorms', 'metayml file channel', 'upload username use', 'cli enable common', 'aws three repository', 'directory aws three', 'sync directory aws', 'access token platform', 'secret key referred', 'key referred encrypted', 'encrypted environment variable', 'referred encrypted environment', 'yaml file change', 'custom yaml file', 'use custom yaml', 'username token user', 'gh repo secret', 'use gh repo', 'python version want']\n"
          ]
        }
      ]
    },
    {
      "cell_type": "markdown",
      "metadata": {
        "id": "CAk9l13y2biN"
      },
      "source": [
        "# Security"
      ]
    },
    {
      "cell_type": "markdown",
      "source": [
        "## version1"
      ],
      "metadata": {
        "id": "GpD050MRGjZu"
      }
    },
    {
      "cell_type": "code",
      "execution_count": null,
      "metadata": {
        "id": "TAjq950H2eEi",
        "colab": {
          "base_uri": "https://localhost:8080/",
          "height": 1000
        },
        "outputId": "ea345c62-e73c-4ead-a19f-1d2857c7dbf5"
      },
      "outputs": [
        {
          "output_type": "stream",
          "name": "stdout",
          "text": [
            "There are 1110 actions in Security\n",
            "The max number of feature an action posses: 20\n",
            "The min number of feature an action posses: 0\n",
            "##############################\n",
            "Created feature network\n",
            "##############################\n",
            "There are 575 disjoint/ connected components in feature network\n",
            "##############################\n",
            "Warning: When  cdn_resources is 'local' jupyter notebook has issues displaying graphics on chrome/safari. Use cdn_resources='in_line' or cdn_resources='remote' if you have issues viewing graphics in a notebook.\n",
            "/content/drive/MyDrive/Research/images/Security/Security1.html\n",
            "Saved pvis visualization 1\n",
            "##############################\n",
            "10 most important features\n",
            "personal access token 0.0027392418485464344\n",
            "comma separated list 0.002209066006892286\n",
            "securely install latest 0.0018556154457895202\n",
            "Orca Security - IaC Security 0.0017672528055138288\n",
            "Teleport Auth 0.0017672528055138288\n",
            "Python Lint Code Scanning Action 0.0017672528055138288\n",
            "tfsec action 0.0017672528055138288\n",
            "Zimperium zScan 0.0017672528055138288\n",
            "InferSharp 0.0017672528055138288\n",
            "codenotary immutable ledger 0.0017672528055138288\n",
            "##############################\n",
            "distribution of degrees\n",
            "##############################\n",
            "The nodes are unique: True\n",
            "There are 2090  nodes with degree 2 or more\n",
            "not all nodes are features\n",
            "number of actions with degree 2 or higher:  1102\n",
            "number of features with degree 2 or higher:  988\n",
            "There are 640 actions with features of degree 2 or higher\n",
            "##############################\n",
            "Adding publishers to the network\n",
            "Finished adding publishers\n",
            "##############################\n",
            "There are 76 disjoint/ connected components in feature with degree 2 or higher network\n",
            "##############################\n",
            "Warning: When  cdn_resources is 'local' jupyter notebook has issues displaying graphics on chrome/safari. Use cdn_resources='in_line' or cdn_resources='remote' if you have issues viewing graphics in a notebook.\n",
            "/content/drive/MyDrive/Research/images/Security/Security2.html\n",
            "Saved pvis visualization 2\n",
            "##############################\n",
            "There are 200 actions with at least one common feature and publishier with other actions\n",
            "##############################\n",
            "Refining the publisher network\n",
            "##############################\n",
            "There are 40 disjoint/ connected components in actions with at least one common feature and shared publisher network\n",
            "##############################\n",
            "Warning: When  cdn_resources is 'local' jupyter notebook has issues displaying graphics on chrome/safari. Use cdn_resources='in_line' or cdn_resources='remote' if you have issues viewing graphics in a notebook.\n",
            "/content/drive/MyDrive/Research/images/Security/Security3.html\n",
            "Saved pvis visualization 3\n",
            "##############################\n"
          ]
        },
        {
          "output_type": "display_data",
          "data": {
            "text/plain": [
              "<Figure size 640x480 with 1 Axes>"
            ],
            "image/png": "[encoded data removed]"
          },
          "metadata": {}
        }
      ],
      "source": [
        "path = \"/content/drive/MyDrive/Research/EVENTS/dataset_with_features/Security.csv\"\n",
        "save_vis = \"/content/drive/MyDrive/Research/images/Security\"\n",
        "data_name = \"Security\"\n",
        "get_res(path, save_vis, data_name)"
      ]
    },
    {
      "cell_type": "markdown",
      "source": [
        "## version 2"
      ],
      "metadata": {
        "id": "MWQ8yFbvGmF_"
      }
    },
    {
      "cell_type": "code",
      "source": [
        "path = \"/content/drive/MyDrive/Research/EVENTS/dataset_with_features/Security.csv\"\n",
        "save_vis = \"/content/drive/MyDrive/Research/images/Security/version2\"\n",
        "data_name = \"Security\"\n",
        "get_res_test(path, save_vis, data_name, data_name)"
      ],
      "metadata": {
        "colab": {
          "base_uri": "https://localhost:8080/"
        },
        "id": "Q26UXT1SGnrk",
        "outputId": "0b466a79-d43d-4951-ede8-68b162e3e2f5"
      },
      "execution_count": null,
      "outputs": [
        {
          "output_type": "stream",
          "name": "stdout",
          "text": [
            "There are 1110 actions in Security\n",
            "The max number of feature an action posses: 20\n",
            "The min number of feature an action posses: 0\n",
            "##############################\n",
            "Created feature network\n",
            "##############################\n",
            "There are 465 disjoint/ connected components in feature network\n",
            "##############################\n",
            "10 most important features\n",
            "personal access token 0.0025508104994651525\n",
            "comma separated list 0.0020571052415041553\n",
            "codenotary 0.001974821031843989\n",
            "Orca Security - IaC Security 0.0017279684028634905\n",
            "Teleport Auth 0.0017279684028634905\n",
            "Python Lint Code Scanning Action 0.0017279684028634905\n",
            "tfsec action 0.0017279684028634905\n",
            "Zimperium zScan 0.0017279684028634905\n",
            "InferSharp 0.0017279684028634905\n",
            "Kiuwan Delivery Analysis 0.0017279684028634905\n",
            "##############################\n",
            "distribution of degrees\n",
            "##############################\n",
            "All nodes are unique: True\n",
            "number of actions with degree 1 or higher:  2\n",
            "number of features with degree 1 or higher:  9935\n",
            "There are 468 Atomic Actions.\n",
            "##############################\n",
            "adding publisher to atomic network\n",
            "Finished adding publishers\n",
            "##############################\n",
            "There are 427 atomic publishers working on one or more atomic actions\n",
            "##############################\n",
            "There are 2217  nodes with degree 2 or more\n",
            "not all nodes are features\n",
            "number of actions with degree 2 or higher:  1108\n",
            "number of features with degree 2 or higher:  1109\n",
            "There are 640 actions with at least one feature of degree 2 or higher (Composite Actions)\n",
            "##############################\n",
            "Adding publishers to the network\n",
            "Finished adding publishers\n",
            "##############################\n",
            "There are 76 objectives targeted by composite publishers\n",
            "##############################\n",
            "There are 451 composite publishers out of total 840\n",
            "We found 41 Basal Features: \n",
            "['teleport pullrequestoxy specify', 'identity auth server', 'validate identity auth', 'trusted ca initially', 'initially validate identity', 'telemetry see httpsgoteleportcomdocsmachineidreferencetelemetry', 'see httpsgoteleportcomdocsmachineidreferencetelemetry information', 'enables anonymous telemetry', 'ca initially validate', 'string terminating fail', 'pullrequestoxy server password', 'pullrequestoxy server port', 'use optional pullrequestoxy', 'result action success', 'terminating fail pas', 'pullrequestoxy server user', 'action string terminating', 'result action string', 'optional pullrequestoxy server', 'sarif file pullrequestocess', 'report filepath relates', 'github action execute', 'verbosity level infoerrordebugtrace', 'securely install latest', 'enable debug mode', 'value corresponding github', 'string value corresponding', 'expects string value', 'github token use', 'id case set', 'case set visibility', 'level pullrequestivate selected', 'selected status code', 'access token orgs', 'code response data', 'indicate organization repo', 'pullrequestivate selected array', 'status code response', 'exact match found', 'match found pullrequestimary', 'indicate exact match']\n"
          ]
        }
      ]
    },
    {
      "cell_type": "markdown",
      "metadata": {
        "id": "6HGDR7Lm2kqo"
      },
      "source": [
        "#support"
      ]
    },
    {
      "cell_type": "markdown",
      "source": [
        "## version 1"
      ],
      "metadata": {
        "id": "63JudHygG_L9"
      }
    },
    {
      "cell_type": "code",
      "execution_count": null,
      "metadata": {
        "id": "SuQSl1Ln2nIF",
        "colab": {
          "base_uri": "https://localhost:8080/",
          "height": 1000
        },
        "outputId": "9712874e-dbe1-42bb-d28a-a201329eea83"
      },
      "outputs": [
        {
          "output_type": "stream",
          "name": "stdout",
          "text": [
            "There are 286 actions in Support\n",
            "The max number of feature an action posses: 20\n",
            "The min number of feature an action posses: 0\n",
            "##############################\n",
            "Created feature network\n",
            "##############################\n",
            "There are 218 disjoint/ connected components in feature network\n",
            "##############################\n",
            "Warning: When  cdn_resources is 'local' jupyter notebook has issues displaying graphics on chrome/safari. Use cdn_resources='in_line' or cdn_resources='remote' if you have issues viewing graphics in a notebook.\n",
            "/content/drive/MyDrive/Research/images/Support/Support1.html\n",
            "Saved pvis visualization 1\n",
            "##############################\n",
            "10 most important features\n",
            "Needs More Info 0.0067613252197430695\n",
            "Protobuffer Compile Action 0.0067613252197430695\n",
            "Workflow Manager 0.0067613252197430695\n",
            "Trigger Test on TestIO 0.0067613252197430695\n",
            "Priority List 0.006423258958755916\n",
            "GitHub Actions documenter 0.006423258958755916\n",
            "dnx-terraform-docs 0.006423258958755916\n",
            "SourceMod Cvar Docs 0.006423258958755916\n",
            "Run textlint with reviewdog 0.006423258958755916\n",
            "DynamoDB Actions 0.006085192697768763\n",
            "##############################\n",
            "distribution of degrees\n",
            "##############################\n",
            "The nodes are unique: True\n",
            "There are 381  nodes with degree 2 or more\n",
            "not all nodes are features\n",
            "number of actions with degree 2 or higher:  281\n",
            "number of features with degree 2 or higher:  100\n",
            "There are 100 actions with features of degree 2 or higher\n",
            "##############################\n",
            "Adding publishers to the network\n",
            "Finished adding publishers\n",
            "##############################\n",
            "There are 28 disjoint/ connected components in feature with degree 2 or higher network\n",
            "##############################\n",
            "Warning: When  cdn_resources is 'local' jupyter notebook has issues displaying graphics on chrome/safari. Use cdn_resources='in_line' or cdn_resources='remote' if you have issues viewing graphics in a notebook.\n",
            "/content/drive/MyDrive/Research/images/Support/Support2.html\n",
            "Saved pvis visualization 2\n",
            "##############################\n",
            "There are 29 actions with at least one common feature and publishier with other actions\n",
            "##############################\n",
            "Refining the publisher network\n",
            "##############################\n",
            "There are 13 disjoint/ connected components in actions with at least one common feature and shared publisher network\n",
            "##############################\n",
            "Warning: When  cdn_resources is 'local' jupyter notebook has issues displaying graphics on chrome/safari. Use cdn_resources='in_line' or cdn_resources='remote' if you have issues viewing graphics in a notebook.\n",
            "/content/drive/MyDrive/Research/images/Support/Support3.html\n",
            "Saved pvis visualization 3\n",
            "##############################\n"
          ]
        },
        {
          "output_type": "display_data",
          "data": {
            "text/plain": [
              "<Figure size 640x480 with 1 Axes>"
            ],
            "image/png": "[encoded data removed]"
          },
          "metadata": {}
        }
      ],
      "source": [
        "path = \"/content/drive/MyDrive/Research/EVENTS/dataset_with_features/Support.csv\"\n",
        "save_vis = \"/content/drive/MyDrive/Research/images/Support\"\n",
        "data_name = \"Support\"\n",
        "get_res(path, save_vis, data_name)"
      ]
    },
    {
      "cell_type": "markdown",
      "source": [
        "## version2"
      ],
      "metadata": {
        "id": "GaDBEgr-HCtm"
      }
    },
    {
      "cell_type": "code",
      "source": [
        "path = \"/content/drive/MyDrive/Research/EVENTS/dataset_with_features/Support.csv\"\n",
        "save_vis = \"/content/drive/MyDrive/Research/images/Support/version2\"\n",
        "data_name = \"Support\"\n",
        "get_res_test(path, save_vis, data_name, data_name)"
      ],
      "metadata": {
        "colab": {
          "base_uri": "https://localhost:8080/"
        },
        "id": "7dD3GNHZHEIH",
        "outputId": "be58dd3c-5054-4af0-a1eb-600ae5594c0c"
      },
      "execution_count": null,
      "outputs": [
        {
          "output_type": "stream",
          "name": "stdout",
          "text": [
            "There are 286 actions in Support\n",
            "The max number of feature an action posses: 20\n",
            "The min number of feature an action posses: 0\n",
            "##############################\n",
            "Created feature network\n",
            "##############################\n",
            "There are 190 disjoint/ connected components in feature network\n",
            "##############################\n",
            "10 most important features\n",
            "Needs More Info 0.0065625\n",
            "Protobuffer Compile Action 0.0065625\n",
            "Workflow Manager 0.0065625\n",
            "Trigger Test on TestIO 0.0065625\n",
            "Priority List 0.00625\n",
            "GitHub Actions documenter 0.00625\n",
            "dnx-terraform-docs 0.00625\n",
            "SourceMod Cvar Docs 0.00625\n",
            "Run textlint with reviewdog 0.00625\n",
            "DynamoDB Actions 0.0059375\n",
            "##############################\n",
            "distribution of degrees\n",
            "##############################\n",
            "All nodes are unique: True\n",
            "number of actions with degree 1 or higher:  2\n",
            "number of features with degree 1 or higher:  2794\n",
            "There are 184 Atomic Actions.\n",
            "##############################\n",
            "adding publisher to atomic network\n",
            "Finished adding publishers\n",
            "##############################\n",
            "There are 168 atomic publishers working on one or more atomic actions\n",
            "##############################\n",
            "There are 405  nodes with degree 2 or more\n",
            "not all nodes are features\n",
            "number of actions with degree 2 or higher:  284\n",
            "number of features with degree 2 or higher:  121\n",
            "There are 100 actions with at least one feature of degree 2 or higher (Composite Actions)\n",
            "##############################\n",
            "Adding publishers to the network\n",
            "Finished adding publishers\n",
            "##############################\n",
            "There are 28 objectives targeted by composite publishers\n",
            "##############################\n",
            "There are 80 composite publishers out of total 242\n",
            "We found 7 Basal Features: \n",
            "['token use making', 'making api request', 'use making api', 'api token use', 'support amlogic rockchip', 'amlogic rockchip allwinner', 'rockchip allwinner box']\n"
          ]
        }
      ]
    },
    {
      "cell_type": "markdown",
      "metadata": {
        "id": "H4d3bJTc2rEz"
      },
      "source": [
        "# Testing"
      ]
    },
    {
      "cell_type": "markdown",
      "source": [
        "## version 1"
      ],
      "metadata": {
        "id": "ybBLM7hFHKme"
      }
    },
    {
      "cell_type": "code",
      "execution_count": null,
      "metadata": {
        "id": "curfcGoo2ssh",
        "colab": {
          "base_uri": "https://localhost:8080/",
          "height": 1000
        },
        "outputId": "366bf890-9a86-47a3-b01e-f8948301d52c"
      },
      "outputs": [
        {
          "output_type": "stream",
          "name": "stdout",
          "text": [
            "There are 1495 actions in Testing\n",
            "The max number of feature an action posses: 20\n",
            "The min number of feature an action posses: 0\n",
            "##############################\n",
            "Created feature network\n",
            "##############################\n",
            "There are 851 disjoint/ connected components in feature network\n",
            "##############################\n",
            "Warning: When  cdn_resources is 'local' jupyter notebook has issues displaying graphics on chrome/safari. Use cdn_resources='in_line' or cdn_resources='remote' if you have issues viewing graphics in a notebook.\n",
            "/content/drive/MyDrive/Research/images/Testing/Testing1.html\n",
            "Saved pvis visualization 1\n",
            "##############################\n",
            "10 most important features\n",
            "utf sixteen utf 0.004591167468299082\n",
            "unlock paid capability 0.004518291794199096\n",
            "sixteen utf sixteen 0.004372540445999125\n",
            "capability get free 0.004372540445999125\n",
            "get free trial 0.00429966477189914\n",
            "paid capability get 0.00429966477189914\n",
            "throw exception missing 0.00429966477189914\n",
            "argument supercedes whatever 0.00429966477189914\n",
            "generated argument supercedes 0.004226789097799154\n",
            "greet someone record 0.002113394548899577\n",
            "##############################\n",
            "distribution of degrees\n",
            "##############################\n",
            "The nodes are unique: True\n",
            "There are 2595  nodes with degree 2 or more\n",
            "not all nodes are features\n",
            "number of actions with degree 2 or higher:  1466\n",
            "number of features with degree 2 or higher:  1129\n",
            "There are 768 actions with features of degree 2 or higher\n",
            "##############################\n",
            "Adding publishers to the network\n",
            "Finished adding publishers\n",
            "##############################\n",
            "There are 106 disjoint/ connected components in feature with degree 2 or higher network\n",
            "##############################\n",
            "Warning: When  cdn_resources is 'local' jupyter notebook has issues displaying graphics on chrome/safari. Use cdn_resources='in_line' or cdn_resources='remote' if you have issues viewing graphics in a notebook.\n",
            "/content/drive/MyDrive/Research/images/Testing/Testing2.html\n",
            "Saved pvis visualization 2\n",
            "##############################\n",
            "There are 237 actions with at least one common feature and publishier with other actions\n",
            "##############################\n",
            "Refining the publisher network\n",
            "##############################\n",
            "There are 44 disjoint/ connected components in actions with at least one common feature and shared publisher network\n",
            "##############################\n",
            "Warning: When  cdn_resources is 'local' jupyter notebook has issues displaying graphics on chrome/safari. Use cdn_resources='in_line' or cdn_resources='remote' if you have issues viewing graphics in a notebook.\n",
            "/content/drive/MyDrive/Research/images/Testing/Testing3.html\n",
            "Saved pvis visualization 3\n",
            "##############################\n"
          ]
        },
        {
          "output_type": "display_data",
          "data": {
            "text/plain": [
              "<Figure size 640x480 with 1 Axes>"
            ],
            "image/png": "[encoded data removed]"
          },
          "metadata": {}
        }
      ],
      "source": [
        "path = \"/content/drive/MyDrive/Research/EVENTS/dataset_with_features/Testing.csv\"\n",
        "save_vis = \"/content/drive/MyDrive/Research/images/Testing\"\n",
        "data_name = \"Testing\"\n",
        "get_res(path, save_vis, data_name)"
      ]
    },
    {
      "cell_type": "markdown",
      "source": [
        "## version 2"
      ],
      "metadata": {
        "id": "AVExQi5hHNCf"
      }
    },
    {
      "cell_type": "code",
      "source": [
        "path = \"/content/drive/MyDrive/Research/EVENTS/dataset_with_features/Testing.csv\"\n",
        "save_vis = \"/content/drive/MyDrive/Research/images/Testing/version2\"\n",
        "data_name = \"Testing\"\n",
        "get_res_test(path, save_vis, data_name, data_name)"
      ],
      "metadata": {
        "colab": {
          "base_uri": "https://localhost:8080/"
        },
        "id": "B0UqMA-gHO78",
        "outputId": "0d1bfe12-7131-4098-f2c2-aa6780e0a982"
      },
      "execution_count": null,
      "outputs": [
        {
          "output_type": "stream",
          "name": "stdout",
          "text": [
            "There are 1495 actions in Testing\n",
            "The max number of feature an action posses: 20\n",
            "The min number of feature an action posses: 0\n",
            "##############################\n",
            "Created feature network\n",
            "##############################\n",
            "There are 732 disjoint/ connected components in feature network\n",
            "##############################\n",
            "10 most important features\n",
            "liquibase-github-actions 0.004226202455222379\n",
            "utf sixteen utf 0.004226202455222379\n",
            "unlock paid capability 0.004159119876568055\n",
            "sixteen utf sixteen 0.004024954719259409\n",
            "capability get free 0.004024954719259409\n",
            "get free trial 0.003957872140605085\n",
            "paid capability get 0.003957872140605085\n",
            "throw exception missing 0.003957872140605085\n",
            "argument supercedes whatever 0.003957872140605085\n",
            "generated argument supercedes 0.003890789561950762\n",
            "##############################\n",
            "distribution of degrees\n",
            "##############################\n",
            "All nodes are unique: True\n",
            "number of actions with degree 1 or higher:  12\n",
            "number of features with degree 1 or higher:  12154\n",
            "There are 715 Atomic Actions.\n",
            "##############################\n",
            "adding publisher to atomic network\n",
            "Finished adding publishers\n",
            "##############################\n",
            "There are 672 atomic publishers working on one or more atomic actions\n",
            "##############################\n",
            "There are 2742  nodes with degree 2 or more\n",
            "not all nodes are features\n",
            "number of actions with degree 2 or higher:  1483\n",
            "number of features with degree 2 or higher:  1259\n",
            "There are 768 actions with at least one feature of degree 2 or higher (Composite Actions)\n",
            "##############################\n",
            "Adding publishers to the network\n",
            "Finished adding publishers\n",
            "##############################\n",
            "There are 106 objectives targeted by composite publishers\n",
            "##############################\n",
            "There are 568 composite publishers out of total 1194\n",
            "We found 59 Basal Features: \n",
            "['path yaml file', 'save output file', 'save output result', 'file save output', 'format save output', 'simplecov generated resultsetjson', 'file path base', 'path head branch', 'path base branch', 'creates comment pullrequest', 'branch github generated', 'comment pullrequest comparing', 'file path head', 'resultsetjson file path', 'generated resultsetjson file', 'branch simplecov generated', 'pullrequest comparing two', 'command line argument', 'api get result', 'call api get', 'number pokemon pokedex', 'pokemon pokedex name', 'result number pokemon', 'get result number', 'create use pullrequestovisioner', 'syntax use pullrequestovisioner', 'use pullrequestovisioner start', 'use pullrequestovisioner configure', 'sideeffect use pullrequestovisioner', 'use pullrequestovisioner perform', 'idempotence use pullrequestovisioner', 'ignore split comma', 'split comma directory', 'want ignore split', 'split comma path', 'virtual screen height', 'width virtual screen', 'virtual screen width', 'height virtual screen', 'depth virtual screen', 'coverage le threshold', 'open policy agent', 'github action setup', 'github action automatically', 'action running pullrequestoject', 'docker container meannwe', 'siteymln testing playbook', 'testing playbook give', 'testn testing playbook', 'sorryn testing playbook', 'testing playbook tell', 'extra script argument', 'site broken link', 'someone greet random', 'greet someone greet', 'greet random number', 'true false default', 'minimum coverage percentage', 'repository uncommitted change']\n"
          ]
        }
      ]
    },
    {
      "cell_type": "markdown",
      "metadata": {
        "id": "K2nidMiR2xEq"
      },
      "source": [
        "# Utilities"
      ]
    },
    {
      "cell_type": "markdown",
      "source": [
        "## version 1"
      ],
      "metadata": {
        "id": "e5eqC5EmHWub"
      }
    },
    {
      "cell_type": "code",
      "execution_count": null,
      "metadata": {
        "id": "Mw7gv31X2zQ3",
        "colab": {
          "base_uri": "https://localhost:8080/",
          "height": 1000
        },
        "outputId": "cbe46095-73bc-499f-b7a0-b91ffa221547"
      },
      "outputs": [
        {
          "output_type": "stream",
          "name": "stdout",
          "text": [
            "There are 5977 actions in Utilities\n",
            "The max number of feature an action posses: 20\n",
            "The min number of feature an action posses: 0\n",
            "##############################\n",
            "Created feature network\n",
            "##############################\n",
            "There are 2408 disjoint/ connected components in feature network\n",
            "##############################\n",
            "Warning: When  cdn_resources is 'local' jupyter notebook has issues displaying graphics on chrome/safari. Use cdn_resources='in_line' or cdn_resources='remote' if you have issues viewing graphics in a notebook.\n",
            "/content/drive/MyDrive/Research/images/Utilities/Utilities1.html\n",
            "Saved pvis visualization 1\n",
            "##############################\n",
            "10 most important features\n",
            "personal access token 0.0020449537241075365\n",
            "github access token 0.0010224768620537682\n",
            "comma separated list 0.001004847950639048\n",
            "pull request number 0.0009695901278096078\n",
            "issue pull request 0.0007756721022476863\n",
            "pull request github 0.0006522697223446453\n",
            "github action workflow 0.0006346408109299251\n",
            "openai api key 0.0005993829881004848\n",
            "access token repo 0.0005817540766857647\n",
            "github token used 0.0005464962538563244\n",
            "##############################\n",
            "distribution of degrees\n",
            "##############################\n",
            "The nodes are unique: True\n",
            "There are 10776  nodes with degree 2 or more\n",
            "not all nodes are features\n",
            "number of actions with degree 2 or higher:  5903\n",
            "number of features with degree 2 or higher:  4873\n",
            "There are 3891 actions with features of degree 2 or higher\n",
            "##############################\n",
            "Adding publishers to the network\n",
            "Finished adding publishers\n",
            "##############################\n",
            "There are 210 disjoint/ connected components in feature with degree 2 or higher network\n",
            "##############################\n",
            "Warning: When  cdn_resources is 'local' jupyter notebook has issues displaying graphics on chrome/safari. Use cdn_resources='in_line' or cdn_resources='remote' if you have issues viewing graphics in a notebook.\n",
            "/content/drive/MyDrive/Research/images/Utilities/Utilities2.html\n",
            "Saved pvis visualization 2\n",
            "##############################\n",
            "There are 707 actions with at least one common feature and publishier with other actions\n",
            "##############################\n",
            "Refining the publisher network\n",
            "##############################\n",
            "There are 149 disjoint/ connected components in actions with at least one common feature and shared publisher network\n",
            "##############################\n",
            "Warning: When  cdn_resources is 'local' jupyter notebook has issues displaying graphics on chrome/safari. Use cdn_resources='in_line' or cdn_resources='remote' if you have issues viewing graphics in a notebook.\n",
            "/content/drive/MyDrive/Research/images/Utilities/Utilities3.html\n",
            "Saved pvis visualization 3\n",
            "##############################\n"
          ]
        },
        {
          "output_type": "display_data",
          "data": {
            "text/plain": [
              "<Figure size 640x480 with 1 Axes>"
            ],
            "image/png": "[encoded data removed]"
          },
          "metadata": {}
        }
      ],
      "source": [
        "path = \"/content/drive/MyDrive/Research/EVENTS/dataset_with_features/Utilities.csv\"\n",
        "save_vis = \"/content/drive/MyDrive/Research/images/Utilities\"\n",
        "data_name = \"Utilities\"\n",
        "get_res(path, save_vis, data_name)"
      ]
    },
    {
      "cell_type": "markdown",
      "source": [
        "## version 2"
      ],
      "metadata": {
        "id": "GYdlEm1xHYst"
      }
    },
    {
      "cell_type": "code",
      "source": [
        "path = \"/content/drive/MyDrive/Research/EVENTS/dataset_with_features/Utilities.csv\"\n",
        "save_vis = \"/content/drive/MyDrive/Research/images/Utilities/version2\"\n",
        "data_name = \"Utilities\"\n",
        "get_res_test(path, save_vis, data_name, data_name)"
      ],
      "metadata": {
        "colab": {
          "base_uri": "https://localhost:8080/"
        },
        "id": "qo0BfUwcHaED",
        "outputId": "07534b1c-9b01-430c-df46-653c8c9a42d9"
      },
      "execution_count": null,
      "outputs": [
        {
          "output_type": "stream",
          "name": "stdout",
          "text": [
            "There are 5977 actions in Utilities\n",
            "The max number of feature an action posses: 20\n",
            "The min number of feature an action posses: 0\n",
            "##############################\n",
            "Created feature network\n",
            "##############################\n",
            "There are 1722 disjoint/ connected components in feature network\n",
            "##############################\n",
            "10 most important features\n",
            "personal access token 0.0018934447636458607\n",
            "github access token 0.0009467223818229304\n",
            "comma separated list 0.0009303995821363281\n",
            "pull request number 0.0008977539827631235\n",
            "issue pull request 0.0007182031862104989\n",
            "pull request github 0.0006039435884042831\n",
            "github action workflow 0.0005876207887176809\n",
            "openai api key 0.0005549751893444764\n",
            "access token repo 0.0005386523896578741\n",
            "github token used 0.0005060067902846697\n",
            "##############################\n",
            "distribution of degrees\n",
            "##############################\n",
            "All nodes are unique: True\n",
            "number of actions with degree 1 or higher:  19\n",
            "number of features with degree 1 or higher:  49641\n",
            "There are 2065 Atomic Actions.\n",
            "##############################\n",
            "adding publisher to atomic network\n",
            "Finished adding publishers\n",
            "##############################\n",
            "There are 1838 atomic publishers working on one or more atomic actions\n",
            "##############################\n",
            "There are 11605  nodes with degree 2 or more\n",
            "not all nodes are features\n",
            "number of actions with degree 2 or higher:  5958\n",
            "number of features with degree 2 or higher:  5647\n",
            "There are 3891 actions with at least one feature of degree 2 or higher (Composite Actions)\n",
            "##############################\n",
            "Adding publishers to the network\n",
            "Finished adding publishers\n",
            "##############################\n",
            "There are 210 objectives targeted by composite publishers\n",
            "##############################\n",
            "There are 3033 composite publishers out of total 4546\n",
            "We found 92 Basal Features: \n",
            "['install extra font', 'github action checking', 'command want run', 'classification regression output', 'regression output action', 'remote git repository', 'build syncs docusaurus', 'jira issue status', 'openapi specification file', 'file directory three', 'directory three compatible', 'upload file directory', 'compatible cloud bucket', 'three compatible cloud', 'update pinned gist', 'deletes file work', 'file work directory', 'secure token access', 'run unit test', 'automatically content copied', 'content copied clipboard', 'renamed filesn array', 'array renamed filesn', 'modified filesn array', 'array deleted filesn', 'removed filesn array', 'array changed filesn', 'filesn array deleted', 'array removed filesn', 'array modified filesn', 'filesn array removed', 'filesn array added', 'changed filesn array', 'array added filesn', 'filesn array renamed', 'path rdf file', 'nuget feed download', 'additional nuget feed', 'build deploys source', 'feed push package', 'nuget feed local', 'cache additional nuget', 'package additional nuget', 'public nuget feed', 'download package additional', 'nuget feed cache', 'package nuget feed', 'root deploy zipped', 'configure nuget feed', 'package root deploy', 'feed nuget feed', 'nuget feed public', 'feed download package', 'nuget feed additional', 'nuget feed push', 'pullrequestimary user authentication', 'user authentication openssh', 'keyboardinteractive user authentication', 'user authentication pullrequestimary', 'passwordbased user authentication', 'user authentication encrypted', 'hostbased user authentication', 'user authentication method', 'file update default', 'list file committed', 'branch refn sha', 'create verified commits', 'containing file committed', 'refn sha created', 'file committed relative', 'root repositoryn base', 'relative root repositoryn', 'must already exist', 'github action compullrequestessing', 'classification output action', 'nombre del artefacto', 'thing current time', 'name thing current', 'bash action template', 'action template using', 'show verbose output', 'github action deploy', 'file pullrequestoject root', 'text text text', 'azure region optimal', 'list azure region', 'get azure region', 'azure region best', 'azure region check', 'dropbox refresh token', 'creates docker container', 'action creates docker']\n"
          ]
        }
      ]
    },
    {
      "cell_type": "markdown",
      "metadata": {
        "id": "bS88pvFC7mlf"
      },
      "source": [
        "# all datasets"
      ]
    },
    {
      "cell_type": "markdown",
      "source": [
        "## version 1"
      ],
      "metadata": {
        "id": "wKm-SsadHice"
      }
    },
    {
      "cell_type": "code",
      "execution_count": null,
      "metadata": {
        "id": "EG0nyXk0wooU",
        "colab": {
          "base_uri": "https://localhost:8080/"
        },
        "outputId": "f5a116ad-71cf-492c-f5e6-322cc861d096"
      },
      "outputs": [
        {
          "output_type": "stream",
          "name": "stdout",
          "text": [
            "There are 18280 actions in All_dataset\n",
            "The max number of feature an action posses: 20\n",
            "The min number of feature an action posses: 0\n",
            "##############################\n",
            "Created feature network\n",
            "##############################\n",
            "There are 4791 disjoint/ connected components in feature network\n",
            "##############################\n",
            "Warning: When  cdn_resources is 'local' jupyter notebook has issues displaying graphics on chrome/safari. Use cdn_resources='in_line' or cdn_resources='remote' if you have issues viewing graphics in a notebook.\n",
            "/content/drive/MyDrive/Research/images/all/All_dataset1.html\n",
            "Saved pvis visualization 1\n",
            "##############################\n",
            "10 most important features\n",
            "personal access token 0.0021501819384717167\n",
            "comma separated list 0.0013295503702384285\n",
            "github access token 0.0009096923585841879\n",
            "pull request number 0.0007633782030077101\n",
            "github action workflow 0.0007506552329575816\n",
            "base sixty-four encoded 0.0007379322629074531\n",
            "access key id 0.0006615944426066821\n",
            "secret access key 0.0006361485025064252\n",
            "pull request github 0.0006234255324562967\n",
            "comment pull request 0.000585256622305911\n",
            "##############################\n",
            "distribution of degrees\n",
            "##############################\n",
            "The nodes are unique: True\n",
            "There are 38139  nodes with degree 2 or more\n",
            "not all nodes are features\n",
            "number of actions with degree 2 or higher:  18053\n",
            "number of features with degree 2 or higher:  20086\n",
            "There are 14137 actions with features of degree 2 or higher\n",
            "##############################\n",
            "Adding publishers to the network\n",
            "Finished adding publishers\n",
            "##############################\n",
            "There are 317 disjoint/ connected components in feature with degree 2 or higher network\n",
            "##############################\n",
            "Warning: When  cdn_resources is 'local' jupyter notebook has issues displaying graphics on chrome/safari. Use cdn_resources='in_line' or cdn_resources='remote' if you have issues viewing graphics in a notebook.\n",
            "/content/drive/MyDrive/Research/images/all/All_dataset2.html\n",
            "Saved pvis visualization 2\n",
            "##############################\n"
          ]
        }
      ],
      "source": [
        "path = \"/content/drive/MyDrive/Research/EVENTS/dataset_with_features/Actions_dataset.csv\"\n",
        "save_vis = \"/content/drive/MyDrive/Research/images/all\"\n",
        "data_name = \"All_dataset\"\n",
        "get_res(path, save_vis, data_name)"
      ]
    },
    {
      "cell_type": "markdown",
      "source": [
        "## version 2"
      ],
      "metadata": {
        "id": "u4bwCtAoHlb9"
      }
    },
    {
      "cell_type": "code",
      "execution_count": null,
      "metadata": {
        "id": "3SfMNBBgG7_7",
        "colab": {
          "base_uri": "https://localhost:8080/"
        },
        "outputId": "10a3737c-8bda-4bd2-d4c8-21010f98536e"
      },
      "outputs": [
        {
          "output_type": "stream",
          "name": "stdout",
          "text": [
            "There are 18280 actions in All_dataset\n",
            "The max number of feature an action posses: 20\n",
            "The min number of feature an action posses: 0\n",
            "##############################\n",
            "Created feature network\n",
            "##############################\n",
            "There are 2916 disjoint/ connected components in feature network\n",
            "##############################\n",
            "10 most important features\n",
            "personal access token 0.0019913629052688638\n",
            "comma separated list 0.001231345701778676\n",
            "github access token 0.0008424996906906731\n",
            "pull request number 0.0007069927474327326\n",
            "github action workflow 0.0006952095349755204\n",
            "base sixty-four encoded 0.0006834263225183082\n",
            "access key id 0.000612727047775035\n",
            "secret access key 0.0005891606228606106\n",
            "pull request github 0.0005773774104033983\n",
            "comment pull request 0.0005420277730317617\n",
            "##############################\n",
            "distribution of degrees\n",
            "##############################\n",
            "All nodes are unique: True\n",
            "number of actions with degree 1 or higher:  65\n",
            "number of features with degree 1 or higher:  128601\n",
            "There are 4073 Atomic Actions.\n",
            "##############################\n",
            "adding publisher to atomic network\n",
            "Finished adding publishers\n",
            "##############################\n",
            "There are 3587 atomic publishers working on one or more atomic actions\n",
            "##############################\n",
            "There are 41068  nodes with degree 2 or more\n",
            "not all nodes are features\n",
            "number of actions with degree 2 or higher:  18215\n",
            "number of features with degree 2 or higher:  22853\n",
            "There are 14137 actions with at least one feature of degree 2 or higher (Composite Actions)\n",
            "##############################\n",
            "Adding publishers to the network\n",
            "Finished adding publishers\n",
            "##############################\n",
            "There are 317 objectives targeted by composite publishers\n",
            "##############################\n",
            "There are 9978 composite publishers out of total 12578\n",
            "We found 238 Basal Features: \n",
            "['pullrequestivate message specified', 'trigger pullrequestivate message', 'message specified whatsapp', 'user want get', 'file repo default', 'repo default see', 'name filesdirectories check', 'filesdirectories check spacedelimited', 'depullrequestecatednsee httpshubgithubcomhubpullrequest one', 'list space around', 'fromnsee httpshubgithubcomhubpullrequest one', 'space around comma', 'httpshubgithubcomhubpullrequest one htmln', 'draftnsee httpshubgithubcomhubpullrequest one', 'one htmln directory', 'masternsee httpshubgithubcomhubpullrequest one', 'existnsee httpshubgithubcomhubpullrequest one', 'commaseparated list space', 'requestnsee httpshubgithubcomhubpullrequest one', 'one htmln commaseparated', 'time millisecond wait', 'maintained lts version', 'execute katalon studio', 'version katalon studio', 'use postgresdb name', 'postgresdb name default', 'created postgresuser create', 'create specified user', 'postgresuser create specified', 'file using inno', 'using inno setup', 'pullrequestovides branch user', 'information default pullrequestovides', 'notification message use', 'user info additional', 'user info required', 'pullrequestovide information default', 'message use context', 'use context expullrequestessions', 'default pullrequestovides branch', 'pullrequestovide information username', 'environment variable pullrequestovide', 'variable pullrequestovide information', 'embed notification message', 'context expullrequestessions environment', 'branch user info', 'expullrequestessions environment variable', 'location configuration build', 'container pullrequestoject folder', 'linux container pullrequestoject', 'pullrequestoject linux container', 'pullrequestoject folder location', 'folder location configuration', 'use maven cli', 'cli jdk eight', 'maven cli jdk', 'main script runcompile', 'quickjs qjs qjsc', 'qjs qjsc main', 'qjsc main script', 'file directory contains', 'build rpm package', 'user influxdb instance', 'running influxdb instance', 'password influxdb instance', 'influxdb instance false', 'influxdb instance initial', 'bucket influxdb instance', 'organization influxdb instance', 'version sdl two', 'cli workspace version', 'workspace version githubcli', 'version githubcli installed', 'deploy hugo three', 'hugo three target', 'custom args like', 'build deployment flutter', 'args like dartdefinesimpleexample', 'automates build deployment', 'docker ffmpeg support', 'support nvenc encoding', 'ffmpeg support nvenc', 'cloudbees cdro instance', 'connecting cloudbees cdro', 'unverified ssl certificate', 'ssl certificate error', 'certificate error connecting', 'ignore unverified ssl', 'remote cloudbees cdro', 'specification json string', 'json string ex', 'json string account', 'app mesh mesh', 'os os url', 'action vuecliplugins three', 'github action vuecliplugins', 'laravel forge server', 'key laravel forge', 'laravel forge api', 'ii server username', 'username ii server', 'ii server password', 'deploy pullrequestojects directly', 'name ii server', 'pullrequestint hello world', 'msg code sended', 'upload image use', 'support upload image', 'followon action must', 'local pipeline build', 'must publish somewhere', 'content followon action', 'action must publish', 'string terminating fail', 'pullrequestoxy server password', 'pullrequestoxy server port', 'use optional pullrequestoxy', 'result action success', 'terminating fail pas', 'pullrequestoxy server user', 'action string terminating', 'result action string', 'optional pullrequestoxy server', 'check whether current', 'value corresponding github', 'string value corresponding', 'expects string value', 'securely install latest', 'api get result', 'call api get', 'number pokemon pokedex', 'pokemon pokedex name', 'result number pokemon', 'get result number', 'classification regression output', 'regression output action', 'compare required using', 'delimiter passing string', 'output choose json', 'json default custom', 'specific sha compare', 'githubpayloadbefore pas specific', 'custom delimiter passing', 'string example csv', 'githubpayloadafter pas specific', 'passing string example', 'default custom delimiter', 'pas specific sha', 'sha compare required', 'automatically content copied', 'content copied clipboard', 'secure token access', 'path rdf file', 'markdown supported subheader', 'read repository readmemd', 'recent activity table', 'readmemd markdown supported', 'table read repository', 'markdown supported array', 'markdown supported footer', 'markdown supported path', 'activity table read', 'slack mrkdwn text', 'converted slack mrkdwn', 'convert converted slack', 'text convert converted', 'markdown slack mrkdwn', 'pullrequestimary user authentication', 'user authentication openssh', 'keyboardinteractive user authentication', 'user authentication pullrequestimary', 'passwordbased user authentication', 'user authentication encrypted', 'hostbased user authentication', 'user authentication method', 'file update default', 'thing current time', 'name thing current', 'bash action template', 'action template using', 'execute vault key', 'command execute vault', 'text text text', 'set action automate', 'common lisp implementation', 'vulkan sdk release', 'nuget feed download', 'additional nuget feed', 'build deploys source', 'feed push package', 'nuget feed local', 'cache additional nuget', 'package additional nuget', 'public nuget feed', 'download package additional', 'nuget feed cache', 'package nuget feed', 'root deploy zipped', 'configure nuget feed', 'package root deploy', 'feed nuget feed', 'nuget feed public', 'feed download package', 'nuget feed additional', 'nuget feed push', 'dns configuration multiple', 'dnscontrol credential file', 'path dnscontrol credential', 'configuration multiple pullrequestoviders', 'pullrequestoviders dnscontrol command', 'dnscontrol command executed', 'deploy dns configuration', 'githubworkspace root eg', 'host machine rsync', 'run host machine', 'relative githubworkspace root', 'script run host', 'nodemodules script run', 'fast deployment rsyncssh', 'action fast deployment', 'nodejs action fast', 'comma example someargumentno', 'someargumentno someotherargument five', 'example someargumentno someotherargument', 'api key keep', 'key keep secret', 'sarif file pullrequestocess', 'file pullrequestoject root', 'please pullrequestovide path', 'uploaded please pullrequestovide', 'github action speed', 'classification output action', 'nombre del artefacto', 'azure region optimal', 'list azure region', 'get azure region', 'azure region best', 'azure region check']\n"
          ]
        }
      ],
      "source": [
        "path = \"/content/drive/MyDrive/Research/EVENTS/dataset_with_features/Actions_dataset.csv\"\n",
        "save_vis = \"/content/drive/MyDrive/Research/images/all/version2\"\n",
        "data_name = \"All_dataset\"\n",
        "get_res_test(path, save_vis, data_name, data_name)"
      ]
    },
    {
      "cell_type": "code",
      "source": [],
      "metadata": {
        "id": "9Os_-HaoZYzQ"
      },
      "execution_count": null,
      "outputs": []
    }
  ],
  "metadata": {
    "colab": {
      "collapsed_sections": [
        "_REDLdepsIxc",
        "WkM-wrAzJstz",
        "3Q9K_og1sTdJ",
        "uAMI0Ne6TmHG",
        "sXeQ9yJoOKHZ",
        "6fqUswxbOYCA",
        "v1ShPbNiE8CI",
        "Wdbu-Fyua71W",
        "pFko-Djoa-NJ",
        "-ygqSnpv1-QT",
        "R5XdRO3l2BYY",
        "nH_HlEezccR1",
        "2tprP_2mcegj",
        "X6suvzghYcnt",
        "d_OW4FXRYfqV",
        "0QlrdPZQY0K8",
        "JqPGCXCqY3E1",
        "bsGAVv1GeVyJ",
        "goB-MZYRea-0",
        "qhzC5hYg2Vya",
        "7IM1p8Wa2ZPA",
        "EP_huQZt2dcL",
        "h28PElZDexPx",
        "N8r24ggNe0hq",
        "p7p0LD0M2njQ",
        "2rVhJcTc2pwd",
        "9y5BFs8m2717",
        "tg3mylmt2-Sl",
        "s1N54XVmBVDs",
        "ZJ--KgijBYFp",
        "q6EogyxJBji1",
        "pHvB3LnqBmij",
        "uSLqQtg0Byc2",
        "8sO5NT1xB0lp",
        "cdncx6V_GUzW",
        "hhvfVUBOGXiB",
        "GpD050MRGjZu",
        "MWQ8yFbvGmF_",
        "63JudHygG_L9",
        "GaDBEgr-HCtm",
        "ybBLM7hFHKme",
        "AVExQi5hHNCf",
        "e5eqC5EmHWub",
        "GYdlEm1xHYst",
        "wKm-SsadHice",
        "u4bwCtAoHlb9"
      ],
      "provenance": []
    },
    "kernelspec": {
      "display_name": "Python 3",
      "name": "python3"
    },
    "language_info": {
      "name": "python"
    }
  },
  "nbformat": 4,
  "nbformat_minor": 0
}